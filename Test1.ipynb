{
 "metadata": {
  "language_info": {
   "codemirror_mode": {
    "name": "ipython",
    "version": 3
   },
   "file_extension": ".py",
   "mimetype": "text/x-python",
   "name": "python",
   "nbconvert_exporter": "python",
   "pygments_lexer": "ipython3",
   "version": "3.8.0-final"
  },
  "orig_nbformat": 2,
  "kernelspec": {
   "name": "python3",
   "display_name": "Python 3",
   "language": "python"
  }
 },
 "nbformat": 4,
 "nbformat_minor": 2,
 "cells": [
  {
   "cell_type": "code",
   "execution_count": 20,
   "metadata": {},
   "outputs": [],
   "source": [
    "import numpy as np\n",
    "import pandas as pd\n",
    "from sklearn.linear_model import LinearRegression\n",
    "from sklearn.preprocessing import LabelEncoder\n",
    "from sklearn.model_selection import train_test_split\n",
    "from sklearn.metrics import mean_squared_error as mse\n",
    "from sklearn.preprocessing import StandardScaler\n",
    "from sklearn.metrics import mean_absolute_percentage_error as mape"
   ]
  },
  {
   "cell_type": "code",
   "execution_count": 21,
   "metadata": {},
   "outputs": [],
   "source": [
    "DF = pd.read_csv(r'D:\\UGA\\CSCI 6380\\MiniProj1\\Dataset\\City_MedianRentalPrice_AllHomes.csv')"
   ]
  },
  {
   "cell_type": "code",
   "execution_count": 22,
   "metadata": {},
   "outputs": [
    {
     "output_type": "execute_result",
     "data": {
      "text/plain": [
       "      Unnamed: 0       RegionName State  \\\n",
       "0              0         New York    NY   \n",
       "1              1      Los Angeles    CA   \n",
       "2              2          Houston    TX   \n",
       "3              3          Chicago    IL   \n",
       "4              4      San Antonio    TX   \n",
       "...          ...              ...   ...   \n",
       "1694        1694  Hillsboro Beach    FL   \n",
       "1695        1695       Amagansett    NY   \n",
       "1696        1696           Quogue    NY   \n",
       "1697        1697            Ogden    KS   \n",
       "1698        1698        Wainscott    NY   \n",
       "\n",
       "                                      Metro          CountyName  SizeRank  \\\n",
       "0               New York-Newark-Jersey City       Queens County         1   \n",
       "1            Los Angeles-Long Beach-Anaheim  Los Angeles County         2   \n",
       "2          Houston-The Woodlands-Sugar Land       Harris County         3   \n",
       "3                  Chicago-Naperville-Elgin         Cook County         4   \n",
       "4                 San Antonio-New Braunfels        Bexar County         5   \n",
       "...                                     ...                 ...       ...   \n",
       "1694  Miami-Fort Lauderdale-West Palm Beach      Broward County      1695   \n",
       "1695            New York-Newark-Jersey City      Suffolk County      1696   \n",
       "1696            New York-Newark-Jersey City      Suffolk County      1697   \n",
       "1697                              Manhattan        Riley County      1698   \n",
       "1698            New York-Newark-Jersey City      Suffolk County      1699   \n",
       "\n",
       "      2010-01  2010-02  2010-03  2010-04  ...  2019-03  2019-04  2019-05  \\\n",
       "0         NaN      NaN      NaN      NaN  ...   2800.0   2875.0   2900.0   \n",
       "1         NaN      NaN      NaN      NaN  ...   3500.0   3500.0   3500.0   \n",
       "2         NaN      NaN      NaN      NaN  ...   1500.0   1544.0   1550.0   \n",
       "3         NaN   1600.0   1500.0   1500.0  ...   1775.0   1795.0   1800.0   \n",
       "4         NaN      NaN      NaN      NaN  ...   1300.0   1300.0   1325.0   \n",
       "...       ...      ...      ...      ...  ...      ...      ...      ...   \n",
       "1694      NaN      NaN      NaN      NaN  ...   2700.0   2650.0   2737.5   \n",
       "1695      NaN      NaN      NaN      NaN  ...  30000.0  33333.0  36000.0   \n",
       "1696      NaN      NaN      NaN      NaN  ...  30000.0  30000.0  30000.0   \n",
       "1697      NaN      NaN      NaN      NaN  ...    990.0    990.0    990.0   \n",
       "1698      NaN      NaN      NaN      NaN  ...  40000.0  34750.0  35000.0   \n",
       "\n",
       "      2019-06  2019-07  2019-08  2019-09  2019-10  2019-11  2019-12  \n",
       "0      2895.0   2850.0   2925.0   2900.0   2900.0   2899.0   2900.0  \n",
       "1      3520.0   3500.0   3600.0   3607.0   3665.0   3600.0   3550.0  \n",
       "2      1550.0   1550.0   1550.0   1550.0   1500.0   1500.0   1500.0  \n",
       "3      1800.0   1800.0   1812.5   1800.0   1800.0   1766.0   1750.0  \n",
       "4      1345.0   1349.0   1322.5   1299.0   1300.0   1299.0   1300.0  \n",
       "...       ...      ...      ...      ...      ...      ...      ...  \n",
       "1694   2775.0   3000.0   3000.0   3150.0   3000.0   3150.0   3395.0  \n",
       "1695  36333.0  35000.0  30000.0  30000.0  34000.0  33041.5  35000.0  \n",
       "1696  30000.0  30000.0  29500.0  30000.0  30000.0  30000.0  31666.0  \n",
       "1697    990.0    909.0    939.0    909.0    909.0    939.0    909.0  \n",
       "1698  35000.0  35000.0  30000.0  30000.0  28333.0  25000.0  28333.0  \n",
       "\n",
       "[1699 rows x 126 columns]"
      ],
      "text/html": "<div>\n<style scoped>\n    .dataframe tbody tr th:only-of-type {\n        vertical-align: middle;\n    }\n\n    .dataframe tbody tr th {\n        vertical-align: top;\n    }\n\n    .dataframe thead th {\n        text-align: right;\n    }\n</style>\n<table border=\"1\" class=\"dataframe\">\n  <thead>\n    <tr style=\"text-align: right;\">\n      <th></th>\n      <th>Unnamed: 0</th>\n      <th>RegionName</th>\n      <th>State</th>\n      <th>Metro</th>\n      <th>CountyName</th>\n      <th>SizeRank</th>\n      <th>2010-01</th>\n      <th>2010-02</th>\n      <th>2010-03</th>\n      <th>2010-04</th>\n      <th>...</th>\n      <th>2019-03</th>\n      <th>2019-04</th>\n      <th>2019-05</th>\n      <th>2019-06</th>\n      <th>2019-07</th>\n      <th>2019-08</th>\n      <th>2019-09</th>\n      <th>2019-10</th>\n      <th>2019-11</th>\n      <th>2019-12</th>\n    </tr>\n  </thead>\n  <tbody>\n    <tr>\n      <th>0</th>\n      <td>0</td>\n      <td>New York</td>\n      <td>NY</td>\n      <td>New York-Newark-Jersey City</td>\n      <td>Queens County</td>\n      <td>1</td>\n      <td>NaN</td>\n      <td>NaN</td>\n      <td>NaN</td>\n      <td>NaN</td>\n      <td>...</td>\n      <td>2800.0</td>\n      <td>2875.0</td>\n      <td>2900.0</td>\n      <td>2895.0</td>\n      <td>2850.0</td>\n      <td>2925.0</td>\n      <td>2900.0</td>\n      <td>2900.0</td>\n      <td>2899.0</td>\n      <td>2900.0</td>\n    </tr>\n    <tr>\n      <th>1</th>\n      <td>1</td>\n      <td>Los Angeles</td>\n      <td>CA</td>\n      <td>Los Angeles-Long Beach-Anaheim</td>\n      <td>Los Angeles County</td>\n      <td>2</td>\n      <td>NaN</td>\n      <td>NaN</td>\n      <td>NaN</td>\n      <td>NaN</td>\n      <td>...</td>\n      <td>3500.0</td>\n      <td>3500.0</td>\n      <td>3500.0</td>\n      <td>3520.0</td>\n      <td>3500.0</td>\n      <td>3600.0</td>\n      <td>3607.0</td>\n      <td>3665.0</td>\n      <td>3600.0</td>\n      <td>3550.0</td>\n    </tr>\n    <tr>\n      <th>2</th>\n      <td>2</td>\n      <td>Houston</td>\n      <td>TX</td>\n      <td>Houston-The Woodlands-Sugar Land</td>\n      <td>Harris County</td>\n      <td>3</td>\n      <td>NaN</td>\n      <td>NaN</td>\n      <td>NaN</td>\n      <td>NaN</td>\n      <td>...</td>\n      <td>1500.0</td>\n      <td>1544.0</td>\n      <td>1550.0</td>\n      <td>1550.0</td>\n      <td>1550.0</td>\n      <td>1550.0</td>\n      <td>1550.0</td>\n      <td>1500.0</td>\n      <td>1500.0</td>\n      <td>1500.0</td>\n    </tr>\n    <tr>\n      <th>3</th>\n      <td>3</td>\n      <td>Chicago</td>\n      <td>IL</td>\n      <td>Chicago-Naperville-Elgin</td>\n      <td>Cook County</td>\n      <td>4</td>\n      <td>NaN</td>\n      <td>1600.0</td>\n      <td>1500.0</td>\n      <td>1500.0</td>\n      <td>...</td>\n      <td>1775.0</td>\n      <td>1795.0</td>\n      <td>1800.0</td>\n      <td>1800.0</td>\n      <td>1800.0</td>\n      <td>1812.5</td>\n      <td>1800.0</td>\n      <td>1800.0</td>\n      <td>1766.0</td>\n      <td>1750.0</td>\n    </tr>\n    <tr>\n      <th>4</th>\n      <td>4</td>\n      <td>San Antonio</td>\n      <td>TX</td>\n      <td>San Antonio-New Braunfels</td>\n      <td>Bexar County</td>\n      <td>5</td>\n      <td>NaN</td>\n      <td>NaN</td>\n      <td>NaN</td>\n      <td>NaN</td>\n      <td>...</td>\n      <td>1300.0</td>\n      <td>1300.0</td>\n      <td>1325.0</td>\n      <td>1345.0</td>\n      <td>1349.0</td>\n      <td>1322.5</td>\n      <td>1299.0</td>\n      <td>1300.0</td>\n      <td>1299.0</td>\n      <td>1300.0</td>\n    </tr>\n    <tr>\n      <th>...</th>\n      <td>...</td>\n      <td>...</td>\n      <td>...</td>\n      <td>...</td>\n      <td>...</td>\n      <td>...</td>\n      <td>...</td>\n      <td>...</td>\n      <td>...</td>\n      <td>...</td>\n      <td>...</td>\n      <td>...</td>\n      <td>...</td>\n      <td>...</td>\n      <td>...</td>\n      <td>...</td>\n      <td>...</td>\n      <td>...</td>\n      <td>...</td>\n      <td>...</td>\n      <td>...</td>\n    </tr>\n    <tr>\n      <th>1694</th>\n      <td>1694</td>\n      <td>Hillsboro Beach</td>\n      <td>FL</td>\n      <td>Miami-Fort Lauderdale-West Palm Beach</td>\n      <td>Broward County</td>\n      <td>1695</td>\n      <td>NaN</td>\n      <td>NaN</td>\n      <td>NaN</td>\n      <td>NaN</td>\n      <td>...</td>\n      <td>2700.0</td>\n      <td>2650.0</td>\n      <td>2737.5</td>\n      <td>2775.0</td>\n      <td>3000.0</td>\n      <td>3000.0</td>\n      <td>3150.0</td>\n      <td>3000.0</td>\n      <td>3150.0</td>\n      <td>3395.0</td>\n    </tr>\n    <tr>\n      <th>1695</th>\n      <td>1695</td>\n      <td>Amagansett</td>\n      <td>NY</td>\n      <td>New York-Newark-Jersey City</td>\n      <td>Suffolk County</td>\n      <td>1696</td>\n      <td>NaN</td>\n      <td>NaN</td>\n      <td>NaN</td>\n      <td>NaN</td>\n      <td>...</td>\n      <td>30000.0</td>\n      <td>33333.0</td>\n      <td>36000.0</td>\n      <td>36333.0</td>\n      <td>35000.0</td>\n      <td>30000.0</td>\n      <td>30000.0</td>\n      <td>34000.0</td>\n      <td>33041.5</td>\n      <td>35000.0</td>\n    </tr>\n    <tr>\n      <th>1696</th>\n      <td>1696</td>\n      <td>Quogue</td>\n      <td>NY</td>\n      <td>New York-Newark-Jersey City</td>\n      <td>Suffolk County</td>\n      <td>1697</td>\n      <td>NaN</td>\n      <td>NaN</td>\n      <td>NaN</td>\n      <td>NaN</td>\n      <td>...</td>\n      <td>30000.0</td>\n      <td>30000.0</td>\n      <td>30000.0</td>\n      <td>30000.0</td>\n      <td>30000.0</td>\n      <td>29500.0</td>\n      <td>30000.0</td>\n      <td>30000.0</td>\n      <td>30000.0</td>\n      <td>31666.0</td>\n    </tr>\n    <tr>\n      <th>1697</th>\n      <td>1697</td>\n      <td>Ogden</td>\n      <td>KS</td>\n      <td>Manhattan</td>\n      <td>Riley County</td>\n      <td>1698</td>\n      <td>NaN</td>\n      <td>NaN</td>\n      <td>NaN</td>\n      <td>NaN</td>\n      <td>...</td>\n      <td>990.0</td>\n      <td>990.0</td>\n      <td>990.0</td>\n      <td>990.0</td>\n      <td>909.0</td>\n      <td>939.0</td>\n      <td>909.0</td>\n      <td>909.0</td>\n      <td>939.0</td>\n      <td>909.0</td>\n    </tr>\n    <tr>\n      <th>1698</th>\n      <td>1698</td>\n      <td>Wainscott</td>\n      <td>NY</td>\n      <td>New York-Newark-Jersey City</td>\n      <td>Suffolk County</td>\n      <td>1699</td>\n      <td>NaN</td>\n      <td>NaN</td>\n      <td>NaN</td>\n      <td>NaN</td>\n      <td>...</td>\n      <td>40000.0</td>\n      <td>34750.0</td>\n      <td>35000.0</td>\n      <td>35000.0</td>\n      <td>35000.0</td>\n      <td>30000.0</td>\n      <td>30000.0</td>\n      <td>28333.0</td>\n      <td>25000.0</td>\n      <td>28333.0</td>\n    </tr>\n  </tbody>\n</table>\n<p>1699 rows × 126 columns</p>\n</div>"
     },
     "metadata": {},
     "execution_count": 22
    }
   ],
   "source": [
    "DF"
   ]
  },
  {
   "cell_type": "code",
   "execution_count": 23,
   "metadata": {},
   "outputs": [
    {
     "output_type": "execute_result",
     "data": {
      "text/plain": [
       "array(['Unnamed: 0', 'RegionName', 'State', 'Metro', 'CountyName',\n",
       "       'SizeRank', '2010-01', '2010-02', '2010-03', '2010-04', '2010-05',\n",
       "       '2010-06', '2010-07', '2010-08', '2010-09', '2010-10', '2010-11',\n",
       "       '2010-12', '2011-01', '2011-02', '2011-03', '2011-04', '2011-05',\n",
       "       '2011-06', '2011-07', '2011-08', '2011-09', '2011-10', '2011-11',\n",
       "       '2011-12', '2012-01', '2012-02', '2012-03', '2012-04', '2012-05',\n",
       "       '2012-06', '2012-07', '2012-08', '2012-09', '2012-10', '2012-11',\n",
       "       '2012-12', '2013-01', '2013-02', '2013-03', '2013-04', '2013-05',\n",
       "       '2013-06', '2013-07', '2013-08', '2013-09', '2013-10', '2013-11',\n",
       "       '2013-12', '2014-01', '2014-02', '2014-03', '2014-04', '2014-05',\n",
       "       '2014-06', '2014-07', '2014-08', '2014-09', '2014-10', '2014-11',\n",
       "       '2014-12', '2015-01', '2015-02', '2015-03', '2015-04', '2015-05',\n",
       "       '2015-06', '2015-07', '2015-08', '2015-09', '2015-10', '2015-11',\n",
       "       '2015-12', '2016-01', '2016-02', '2016-03', '2016-04', '2016-05',\n",
       "       '2016-06', '2016-07', '2016-08', '2016-09', '2016-10', '2016-11',\n",
       "       '2016-12', '2017-01', '2017-02', '2017-03', '2017-04', '2017-05',\n",
       "       '2017-06', '2017-07', '2017-08', '2017-09', '2017-10', '2017-11',\n",
       "       '2017-12', '2018-01', '2018-02', '2018-03', '2018-04', '2018-05',\n",
       "       '2018-06', '2018-07', '2018-08', '2018-09', '2018-10', '2018-11',\n",
       "       '2018-12', '2019-01', '2019-02', '2019-03', '2019-04', '2019-05',\n",
       "       '2019-06', '2019-07', '2019-08', '2019-09', '2019-10', '2019-11',\n",
       "       '2019-12'], dtype=object)"
      ]
     },
     "metadata": {},
     "execution_count": 23
    }
   ],
   "source": [
    "DF.columns.to_numpy()"
   ]
  },
  {
   "cell_type": "code",
   "execution_count": 24,
   "metadata": {},
   "outputs": [
    {
     "output_type": "execute_result",
     "data": {
      "text/plain": [
       "array([   0,    0,    0,    1,    0,    0, 1698, 1669, 1637, 1619, 1616,\n",
       "       1615, 1609, 1600, 1579, 1564, 1549, 1533, 1415, 1320, 1299, 1288,\n",
       "       1263, 1229, 1198, 1173, 1157, 1135, 1125, 1116, 1104, 1098, 1088,\n",
       "       1076, 1070, 1062, 1055, 1047, 1043, 1036, 1030, 1024, 1016, 1009,\n",
       "       1005,  998,  994,  982,  968,  966,  961,  950,  940,  939,  934,\n",
       "        927,  922,  920,  920,  911,  904,  897,  893,  887,  885,  883,\n",
       "        881,  880,  879,  875,  873,  872,  871,  868,  864,  863,  862,\n",
       "        861,  861,  859,  857,  855,  854,  836,  818,  801,  792,  768,\n",
       "        743,  683,  444,  364,  324,  308,  284,  267,  255,  242,  232,\n",
       "        227,  213,  201,  183,  175,  156,  145,  115,   95,   79,   65,\n",
       "         53,   43,   34,   18,    0,    0,    0,    0,    0,    0,    0,\n",
       "          0,    0,    0,    0,    0], dtype=int64)"
      ]
     },
     "metadata": {},
     "execution_count": 24
    }
   ],
   "source": [
    "DF.isnull().sum().to_numpy()"
   ]
  },
  {
   "cell_type": "code",
   "execution_count": 25,
   "metadata": {},
   "outputs": [
    {
     "output_type": "execute_result",
     "data": {
      "text/plain": [
       "RangeIndex(start=0, stop=1699, step=1)"
      ]
     },
     "metadata": {},
     "execution_count": 25
    }
   ],
   "source": [
    "DF.index"
   ]
  },
  {
   "cell_type": "code",
   "execution_count": 26,
   "metadata": {},
   "outputs": [
    {
     "output_type": "stream",
     "name": "stdout",
     "text": [
      "Index(['RegionName', 'State', 'Metro', 'CountyName', 'SizeRank'], dtype='object')\n"
     ]
    }
   ],
   "source": [
    "DF_Filt = DF.iloc[:,-16:-1]\n",
    "DF_Filt #Contains all numerical we want\n",
    "for x in DF_Filt.columns.to_numpy():\n",
    "   sc = StandardScaler()\n",
    "   DF_Filt[x] = sc.fit_transform(DF_Filt[x].values.reshape(-1,1))\n",
    "  \n",
    "DFLblColumns = DF.iloc[:,1:6]\n",
    "print(DFLblColumns.columns)\n",
    "for x in DFLblColumns.columns.to_numpy():\n",
    "   le = LabelEncoder() \n",
    "   DF_Filt[x] = le.fit_transform(DFLblColumns[x].values)\n"
   ]
  },
  {
   "cell_type": "code",
   "execution_count": 27,
   "metadata": {},
   "outputs": [
    {
     "output_type": "execute_result",
     "data": {
      "text/plain": [
       "        2018-09    2018-10    2018-11    2018-12    2019-01    2019-02  \\\n",
       "0      0.621298   0.563252   0.533636   0.473809   0.402008   0.435649   \n",
       "1      1.040543   0.988258   0.990069   0.862050   0.719991   0.778566   \n",
       "2     -0.196079  -0.206894  -0.208069  -0.199143  -0.188533  -0.201196   \n",
       "3     -0.042255  -0.038603  -0.054023  -0.069729  -0.074967  -0.090973   \n",
       "4     -0.350506  -0.329547  -0.325030  -0.305263  -0.281656  -0.301621   \n",
       "...         ...        ...        ...        ...        ...        ...   \n",
       "1694        NaN        NaN        NaN        NaN   0.447434   0.533626   \n",
       "1695  18.175297  18.904136  18.905095  17.142313  15.029235  13.760411   \n",
       "1696        NaN        NaN        NaN  14.554036  13.893581  13.760411   \n",
       "1697  -0.555001  -0.497838  -0.459678  -0.427429  -0.388862  -0.421642   \n",
       "1698        NaN        NaN        NaN        NaN  19.571852  18.659221   \n",
       "\n",
       "        2019-03    2019-04    2019-05    2019-06    2019-07    2019-08  \\\n",
       "0      0.430212   0.455801   0.440898   0.440647   0.436403   0.515446   \n",
       "1      0.773593   0.760724   0.721742   0.735661   0.755059   0.871677   \n",
       "2     -0.207497  -0.193562  -0.191001  -0.194221  -0.200909  -0.210211   \n",
       "3     -0.072597  -0.071105  -0.073983  -0.076215  -0.078349  -0.071676   \n",
       "4     -0.305606  -0.312604  -0.296318  -0.290985  -0.299448  -0.330274   \n",
       "...         ...        ...        ...        ...        ...        ...   \n",
       "1694   0.381157   0.346029   0.364836   0.384005   0.509939   0.555027   \n",
       "1695  13.773045  15.315535  15.934133  16.224081  16.197630  14.804280   \n",
       "1696  13.773045  13.689444  13.125692  13.234773  13.746429  14.540405   \n",
       "1697  -0.457675  -0.463845  -0.453123  -0.458552  -0.515153  -0.532666   \n",
       "1698  18.678499  16.006856  15.466060  15.594877  16.197630  14.804280   \n",
       "\n",
       "        2019-09    2019-10    2019-11  RegionName  State  Metro  CountyName  \\\n",
       "0      0.523207   0.500260   0.538715         941     34    216         365   \n",
       "1      0.907593   0.896405   0.925779         787      4    181         258   \n",
       "2     -0.210769  -0.224710  -0.233758         614     43    139         181   \n",
       "3     -0.074847  -0.069359  -0.086883         229     14     59          97   \n",
       "4     -0.347234  -0.328277  -0.344742        1221     43    272          32   \n",
       "...         ...        ...        ...         ...    ...    ...         ...   \n",
       "1694   0.659129   0.552044   0.677307         594      9    196          45   \n",
       "1695  15.257094  16.604953  17.182209          25     34    216         440   \n",
       "1696  15.257094  14.533610  15.502813        1129     34    216         440   \n",
       "1697  -0.559271  -0.530751  -0.543520        1002     16    190         373   \n",
       "1698  15.257094  13.670378  12.742011        1453     34    216         440   \n",
       "\n",
       "      SizeRank  \n",
       "0            0  \n",
       "1            1  \n",
       "2            2  \n",
       "3            3  \n",
       "4            4  \n",
       "...        ...  \n",
       "1694      1681  \n",
       "1695      1682  \n",
       "1696      1683  \n",
       "1697      1684  \n",
       "1698      1685  \n",
       "\n",
       "[1699 rows x 20 columns]"
      ],
      "text/html": "<div>\n<style scoped>\n    .dataframe tbody tr th:only-of-type {\n        vertical-align: middle;\n    }\n\n    .dataframe tbody tr th {\n        vertical-align: top;\n    }\n\n    .dataframe thead th {\n        text-align: right;\n    }\n</style>\n<table border=\"1\" class=\"dataframe\">\n  <thead>\n    <tr style=\"text-align: right;\">\n      <th></th>\n      <th>2018-09</th>\n      <th>2018-10</th>\n      <th>2018-11</th>\n      <th>2018-12</th>\n      <th>2019-01</th>\n      <th>2019-02</th>\n      <th>2019-03</th>\n      <th>2019-04</th>\n      <th>2019-05</th>\n      <th>2019-06</th>\n      <th>2019-07</th>\n      <th>2019-08</th>\n      <th>2019-09</th>\n      <th>2019-10</th>\n      <th>2019-11</th>\n      <th>RegionName</th>\n      <th>State</th>\n      <th>Metro</th>\n      <th>CountyName</th>\n      <th>SizeRank</th>\n    </tr>\n  </thead>\n  <tbody>\n    <tr>\n      <th>0</th>\n      <td>0.621298</td>\n      <td>0.563252</td>\n      <td>0.533636</td>\n      <td>0.473809</td>\n      <td>0.402008</td>\n      <td>0.435649</td>\n      <td>0.430212</td>\n      <td>0.455801</td>\n      <td>0.440898</td>\n      <td>0.440647</td>\n      <td>0.436403</td>\n      <td>0.515446</td>\n      <td>0.523207</td>\n      <td>0.500260</td>\n      <td>0.538715</td>\n      <td>941</td>\n      <td>34</td>\n      <td>216</td>\n      <td>365</td>\n      <td>0</td>\n    </tr>\n    <tr>\n      <th>1</th>\n      <td>1.040543</td>\n      <td>0.988258</td>\n      <td>0.990069</td>\n      <td>0.862050</td>\n      <td>0.719991</td>\n      <td>0.778566</td>\n      <td>0.773593</td>\n      <td>0.760724</td>\n      <td>0.721742</td>\n      <td>0.735661</td>\n      <td>0.755059</td>\n      <td>0.871677</td>\n      <td>0.907593</td>\n      <td>0.896405</td>\n      <td>0.925779</td>\n      <td>787</td>\n      <td>4</td>\n      <td>181</td>\n      <td>258</td>\n      <td>1</td>\n    </tr>\n    <tr>\n      <th>2</th>\n      <td>-0.196079</td>\n      <td>-0.206894</td>\n      <td>-0.208069</td>\n      <td>-0.199143</td>\n      <td>-0.188533</td>\n      <td>-0.201196</td>\n      <td>-0.207497</td>\n      <td>-0.193562</td>\n      <td>-0.191001</td>\n      <td>-0.194221</td>\n      <td>-0.200909</td>\n      <td>-0.210211</td>\n      <td>-0.210769</td>\n      <td>-0.224710</td>\n      <td>-0.233758</td>\n      <td>614</td>\n      <td>43</td>\n      <td>139</td>\n      <td>181</td>\n      <td>2</td>\n    </tr>\n    <tr>\n      <th>3</th>\n      <td>-0.042255</td>\n      <td>-0.038603</td>\n      <td>-0.054023</td>\n      <td>-0.069729</td>\n      <td>-0.074967</td>\n      <td>-0.090973</td>\n      <td>-0.072597</td>\n      <td>-0.071105</td>\n      <td>-0.073983</td>\n      <td>-0.076215</td>\n      <td>-0.078349</td>\n      <td>-0.071676</td>\n      <td>-0.074847</td>\n      <td>-0.069359</td>\n      <td>-0.086883</td>\n      <td>229</td>\n      <td>14</td>\n      <td>59</td>\n      <td>97</td>\n      <td>3</td>\n    </tr>\n    <tr>\n      <th>4</th>\n      <td>-0.350506</td>\n      <td>-0.329547</td>\n      <td>-0.325030</td>\n      <td>-0.305263</td>\n      <td>-0.281656</td>\n      <td>-0.301621</td>\n      <td>-0.305606</td>\n      <td>-0.312604</td>\n      <td>-0.296318</td>\n      <td>-0.290985</td>\n      <td>-0.299448</td>\n      <td>-0.330274</td>\n      <td>-0.347234</td>\n      <td>-0.328277</td>\n      <td>-0.344742</td>\n      <td>1221</td>\n      <td>43</td>\n      <td>272</td>\n      <td>32</td>\n      <td>4</td>\n    </tr>\n    <tr>\n      <th>...</th>\n      <td>...</td>\n      <td>...</td>\n      <td>...</td>\n      <td>...</td>\n      <td>...</td>\n      <td>...</td>\n      <td>...</td>\n      <td>...</td>\n      <td>...</td>\n      <td>...</td>\n      <td>...</td>\n      <td>...</td>\n      <td>...</td>\n      <td>...</td>\n      <td>...</td>\n      <td>...</td>\n      <td>...</td>\n      <td>...</td>\n      <td>...</td>\n      <td>...</td>\n    </tr>\n    <tr>\n      <th>1694</th>\n      <td>NaN</td>\n      <td>NaN</td>\n      <td>NaN</td>\n      <td>NaN</td>\n      <td>0.447434</td>\n      <td>0.533626</td>\n      <td>0.381157</td>\n      <td>0.346029</td>\n      <td>0.364836</td>\n      <td>0.384005</td>\n      <td>0.509939</td>\n      <td>0.555027</td>\n      <td>0.659129</td>\n      <td>0.552044</td>\n      <td>0.677307</td>\n      <td>594</td>\n      <td>9</td>\n      <td>196</td>\n      <td>45</td>\n      <td>1681</td>\n    </tr>\n    <tr>\n      <th>1695</th>\n      <td>18.175297</td>\n      <td>18.904136</td>\n      <td>18.905095</td>\n      <td>17.142313</td>\n      <td>15.029235</td>\n      <td>13.760411</td>\n      <td>13.773045</td>\n      <td>15.315535</td>\n      <td>15.934133</td>\n      <td>16.224081</td>\n      <td>16.197630</td>\n      <td>14.804280</td>\n      <td>15.257094</td>\n      <td>16.604953</td>\n      <td>17.182209</td>\n      <td>25</td>\n      <td>34</td>\n      <td>216</td>\n      <td>440</td>\n      <td>1682</td>\n    </tr>\n    <tr>\n      <th>1696</th>\n      <td>NaN</td>\n      <td>NaN</td>\n      <td>NaN</td>\n      <td>14.554036</td>\n      <td>13.893581</td>\n      <td>13.760411</td>\n      <td>13.773045</td>\n      <td>13.689444</td>\n      <td>13.125692</td>\n      <td>13.234773</td>\n      <td>13.746429</td>\n      <td>14.540405</td>\n      <td>15.257094</td>\n      <td>14.533610</td>\n      <td>15.502813</td>\n      <td>1129</td>\n      <td>34</td>\n      <td>216</td>\n      <td>440</td>\n      <td>1683</td>\n    </tr>\n    <tr>\n      <th>1697</th>\n      <td>-0.555001</td>\n      <td>-0.497838</td>\n      <td>-0.459678</td>\n      <td>-0.427429</td>\n      <td>-0.388862</td>\n      <td>-0.421642</td>\n      <td>-0.457675</td>\n      <td>-0.463845</td>\n      <td>-0.453123</td>\n      <td>-0.458552</td>\n      <td>-0.515153</td>\n      <td>-0.532666</td>\n      <td>-0.559271</td>\n      <td>-0.530751</td>\n      <td>-0.543520</td>\n      <td>1002</td>\n      <td>16</td>\n      <td>190</td>\n      <td>373</td>\n      <td>1684</td>\n    </tr>\n    <tr>\n      <th>1698</th>\n      <td>NaN</td>\n      <td>NaN</td>\n      <td>NaN</td>\n      <td>NaN</td>\n      <td>19.571852</td>\n      <td>18.659221</td>\n      <td>18.678499</td>\n      <td>16.006856</td>\n      <td>15.466060</td>\n      <td>15.594877</td>\n      <td>16.197630</td>\n      <td>14.804280</td>\n      <td>15.257094</td>\n      <td>13.670378</td>\n      <td>12.742011</td>\n      <td>1453</td>\n      <td>34</td>\n      <td>216</td>\n      <td>440</td>\n      <td>1685</td>\n    </tr>\n  </tbody>\n</table>\n<p>1699 rows × 20 columns</p>\n</div>"
     },
     "metadata": {},
     "execution_count": 27
    }
   ],
   "source": [
    "DF_Filt"
   ]
  },
  {
   "cell_type": "code",
   "execution_count": 28,
   "metadata": {},
   "outputs": [
    {
     "output_type": "execute_result",
     "data": {
      "text/plain": [
       "array([[ 0.51476613],\n",
       "       [ 0.85969586],\n",
       "       [-0.22815946],\n",
       "       ...,\n",
       "       [15.77976423],\n",
       "       [-0.54178018],\n",
       "       [14.01107068]])"
      ]
     },
     "metadata": {},
     "execution_count": 28
    }
   ],
   "source": [
    "Y = DF.iloc[:,-1]\n",
    "scY = StandardScaler()\n",
    "Y = scY.fit_transform(Y.values.reshape(-1,1))\n",
    "Y"
   ]
  },
  {
   "cell_type": "code",
   "execution_count": 29,
   "metadata": {},
   "outputs": [
    {
     "output_type": "execute_result",
     "data": {
      "text/plain": [
       "        2018-09    2018-10    2018-11    2018-12    2019-01    2019-02  \\\n",
       "0      0.621298   0.563252   0.533636   0.473809   0.402008   0.435649   \n",
       "1      1.040543   0.988258   0.990069   0.862050   0.719991   0.778566   \n",
       "2     -0.196079  -0.206894  -0.208069  -0.199143  -0.188533  -0.201196   \n",
       "3     -0.042255  -0.038603  -0.054023  -0.069729  -0.074967  -0.090973   \n",
       "4     -0.350506  -0.329547  -0.325030  -0.305263  -0.281656  -0.301621   \n",
       "...         ...        ...        ...        ...        ...        ...   \n",
       "1694        NaN        NaN        NaN        NaN   0.447434   0.533626   \n",
       "1695  18.175297  18.904136  18.905095  17.142313  15.029235  13.760411   \n",
       "1696        NaN        NaN        NaN  14.554036  13.893581  13.760411   \n",
       "1697  -0.555001  -0.497838  -0.459678  -0.427429  -0.388862  -0.421642   \n",
       "1698        NaN        NaN        NaN        NaN  19.571852  18.659221   \n",
       "\n",
       "        2019-03    2019-04    2019-05    2019-06    2019-07    2019-08  \\\n",
       "0      0.430212   0.455801   0.440898   0.440647   0.436403   0.515446   \n",
       "1      0.773593   0.760724   0.721742   0.735661   0.755059   0.871677   \n",
       "2     -0.207497  -0.193562  -0.191001  -0.194221  -0.200909  -0.210211   \n",
       "3     -0.072597  -0.071105  -0.073983  -0.076215  -0.078349  -0.071676   \n",
       "4     -0.305606  -0.312604  -0.296318  -0.290985  -0.299448  -0.330274   \n",
       "...         ...        ...        ...        ...        ...        ...   \n",
       "1694   0.381157   0.346029   0.364836   0.384005   0.509939   0.555027   \n",
       "1695  13.773045  15.315535  15.934133  16.224081  16.197630  14.804280   \n",
       "1696  13.773045  13.689444  13.125692  13.234773  13.746429  14.540405   \n",
       "1697  -0.457675  -0.463845  -0.453123  -0.458552  -0.515153  -0.532666   \n",
       "1698  18.678499  16.006856  15.466060  15.594877  16.197630  14.804280   \n",
       "\n",
       "        2019-09    2019-10    2019-11  RegionName  State  Metro  CountyName  \\\n",
       "0      0.523207   0.500260   0.538715         941     34    216         365   \n",
       "1      0.907593   0.896405   0.925779         787      4    181         258   \n",
       "2     -0.210769  -0.224710  -0.233758         614     43    139         181   \n",
       "3     -0.074847  -0.069359  -0.086883         229     14     59          97   \n",
       "4     -0.347234  -0.328277  -0.344742        1221     43    272          32   \n",
       "...         ...        ...        ...         ...    ...    ...         ...   \n",
       "1694   0.659129   0.552044   0.677307         594      9    196          45   \n",
       "1695  15.257094  16.604953  17.182209          25     34    216         440   \n",
       "1696  15.257094  14.533610  15.502813        1129     34    216         440   \n",
       "1697  -0.559271  -0.530751  -0.543520        1002     16    190         373   \n",
       "1698  15.257094  13.670378  12.742011        1453     34    216         440   \n",
       "\n",
       "      SizeRank  \n",
       "0            0  \n",
       "1            1  \n",
       "2            2  \n",
       "3            3  \n",
       "4            4  \n",
       "...        ...  \n",
       "1694      1681  \n",
       "1695      1682  \n",
       "1696      1683  \n",
       "1697      1684  \n",
       "1698      1685  \n",
       "\n",
       "[1699 rows x 20 columns]"
      ],
      "text/html": "<div>\n<style scoped>\n    .dataframe tbody tr th:only-of-type {\n        vertical-align: middle;\n    }\n\n    .dataframe tbody tr th {\n        vertical-align: top;\n    }\n\n    .dataframe thead th {\n        text-align: right;\n    }\n</style>\n<table border=\"1\" class=\"dataframe\">\n  <thead>\n    <tr style=\"text-align: right;\">\n      <th></th>\n      <th>2018-09</th>\n      <th>2018-10</th>\n      <th>2018-11</th>\n      <th>2018-12</th>\n      <th>2019-01</th>\n      <th>2019-02</th>\n      <th>2019-03</th>\n      <th>2019-04</th>\n      <th>2019-05</th>\n      <th>2019-06</th>\n      <th>2019-07</th>\n      <th>2019-08</th>\n      <th>2019-09</th>\n      <th>2019-10</th>\n      <th>2019-11</th>\n      <th>RegionName</th>\n      <th>State</th>\n      <th>Metro</th>\n      <th>CountyName</th>\n      <th>SizeRank</th>\n    </tr>\n  </thead>\n  <tbody>\n    <tr>\n      <th>0</th>\n      <td>0.621298</td>\n      <td>0.563252</td>\n      <td>0.533636</td>\n      <td>0.473809</td>\n      <td>0.402008</td>\n      <td>0.435649</td>\n      <td>0.430212</td>\n      <td>0.455801</td>\n      <td>0.440898</td>\n      <td>0.440647</td>\n      <td>0.436403</td>\n      <td>0.515446</td>\n      <td>0.523207</td>\n      <td>0.500260</td>\n      <td>0.538715</td>\n      <td>941</td>\n      <td>34</td>\n      <td>216</td>\n      <td>365</td>\n      <td>0</td>\n    </tr>\n    <tr>\n      <th>1</th>\n      <td>1.040543</td>\n      <td>0.988258</td>\n      <td>0.990069</td>\n      <td>0.862050</td>\n      <td>0.719991</td>\n      <td>0.778566</td>\n      <td>0.773593</td>\n      <td>0.760724</td>\n      <td>0.721742</td>\n      <td>0.735661</td>\n      <td>0.755059</td>\n      <td>0.871677</td>\n      <td>0.907593</td>\n      <td>0.896405</td>\n      <td>0.925779</td>\n      <td>787</td>\n      <td>4</td>\n      <td>181</td>\n      <td>258</td>\n      <td>1</td>\n    </tr>\n    <tr>\n      <th>2</th>\n      <td>-0.196079</td>\n      <td>-0.206894</td>\n      <td>-0.208069</td>\n      <td>-0.199143</td>\n      <td>-0.188533</td>\n      <td>-0.201196</td>\n      <td>-0.207497</td>\n      <td>-0.193562</td>\n      <td>-0.191001</td>\n      <td>-0.194221</td>\n      <td>-0.200909</td>\n      <td>-0.210211</td>\n      <td>-0.210769</td>\n      <td>-0.224710</td>\n      <td>-0.233758</td>\n      <td>614</td>\n      <td>43</td>\n      <td>139</td>\n      <td>181</td>\n      <td>2</td>\n    </tr>\n    <tr>\n      <th>3</th>\n      <td>-0.042255</td>\n      <td>-0.038603</td>\n      <td>-0.054023</td>\n      <td>-0.069729</td>\n      <td>-0.074967</td>\n      <td>-0.090973</td>\n      <td>-0.072597</td>\n      <td>-0.071105</td>\n      <td>-0.073983</td>\n      <td>-0.076215</td>\n      <td>-0.078349</td>\n      <td>-0.071676</td>\n      <td>-0.074847</td>\n      <td>-0.069359</td>\n      <td>-0.086883</td>\n      <td>229</td>\n      <td>14</td>\n      <td>59</td>\n      <td>97</td>\n      <td>3</td>\n    </tr>\n    <tr>\n      <th>4</th>\n      <td>-0.350506</td>\n      <td>-0.329547</td>\n      <td>-0.325030</td>\n      <td>-0.305263</td>\n      <td>-0.281656</td>\n      <td>-0.301621</td>\n      <td>-0.305606</td>\n      <td>-0.312604</td>\n      <td>-0.296318</td>\n      <td>-0.290985</td>\n      <td>-0.299448</td>\n      <td>-0.330274</td>\n      <td>-0.347234</td>\n      <td>-0.328277</td>\n      <td>-0.344742</td>\n      <td>1221</td>\n      <td>43</td>\n      <td>272</td>\n      <td>32</td>\n      <td>4</td>\n    </tr>\n    <tr>\n      <th>...</th>\n      <td>...</td>\n      <td>...</td>\n      <td>...</td>\n      <td>...</td>\n      <td>...</td>\n      <td>...</td>\n      <td>...</td>\n      <td>...</td>\n      <td>...</td>\n      <td>...</td>\n      <td>...</td>\n      <td>...</td>\n      <td>...</td>\n      <td>...</td>\n      <td>...</td>\n      <td>...</td>\n      <td>...</td>\n      <td>...</td>\n      <td>...</td>\n      <td>...</td>\n    </tr>\n    <tr>\n      <th>1694</th>\n      <td>NaN</td>\n      <td>NaN</td>\n      <td>NaN</td>\n      <td>NaN</td>\n      <td>0.447434</td>\n      <td>0.533626</td>\n      <td>0.381157</td>\n      <td>0.346029</td>\n      <td>0.364836</td>\n      <td>0.384005</td>\n      <td>0.509939</td>\n      <td>0.555027</td>\n      <td>0.659129</td>\n      <td>0.552044</td>\n      <td>0.677307</td>\n      <td>594</td>\n      <td>9</td>\n      <td>196</td>\n      <td>45</td>\n      <td>1681</td>\n    </tr>\n    <tr>\n      <th>1695</th>\n      <td>18.175297</td>\n      <td>18.904136</td>\n      <td>18.905095</td>\n      <td>17.142313</td>\n      <td>15.029235</td>\n      <td>13.760411</td>\n      <td>13.773045</td>\n      <td>15.315535</td>\n      <td>15.934133</td>\n      <td>16.224081</td>\n      <td>16.197630</td>\n      <td>14.804280</td>\n      <td>15.257094</td>\n      <td>16.604953</td>\n      <td>17.182209</td>\n      <td>25</td>\n      <td>34</td>\n      <td>216</td>\n      <td>440</td>\n      <td>1682</td>\n    </tr>\n    <tr>\n      <th>1696</th>\n      <td>NaN</td>\n      <td>NaN</td>\n      <td>NaN</td>\n      <td>14.554036</td>\n      <td>13.893581</td>\n      <td>13.760411</td>\n      <td>13.773045</td>\n      <td>13.689444</td>\n      <td>13.125692</td>\n      <td>13.234773</td>\n      <td>13.746429</td>\n      <td>14.540405</td>\n      <td>15.257094</td>\n      <td>14.533610</td>\n      <td>15.502813</td>\n      <td>1129</td>\n      <td>34</td>\n      <td>216</td>\n      <td>440</td>\n      <td>1683</td>\n    </tr>\n    <tr>\n      <th>1697</th>\n      <td>-0.555001</td>\n      <td>-0.497838</td>\n      <td>-0.459678</td>\n      <td>-0.427429</td>\n      <td>-0.388862</td>\n      <td>-0.421642</td>\n      <td>-0.457675</td>\n      <td>-0.463845</td>\n      <td>-0.453123</td>\n      <td>-0.458552</td>\n      <td>-0.515153</td>\n      <td>-0.532666</td>\n      <td>-0.559271</td>\n      <td>-0.530751</td>\n      <td>-0.543520</td>\n      <td>1002</td>\n      <td>16</td>\n      <td>190</td>\n      <td>373</td>\n      <td>1684</td>\n    </tr>\n    <tr>\n      <th>1698</th>\n      <td>NaN</td>\n      <td>NaN</td>\n      <td>NaN</td>\n      <td>NaN</td>\n      <td>19.571852</td>\n      <td>18.659221</td>\n      <td>18.678499</td>\n      <td>16.006856</td>\n      <td>15.466060</td>\n      <td>15.594877</td>\n      <td>16.197630</td>\n      <td>14.804280</td>\n      <td>15.257094</td>\n      <td>13.670378</td>\n      <td>12.742011</td>\n      <td>1453</td>\n      <td>34</td>\n      <td>216</td>\n      <td>440</td>\n      <td>1685</td>\n    </tr>\n  </tbody>\n</table>\n<p>1699 rows × 20 columns</p>\n</div>"
     },
     "metadata": {},
     "execution_count": 29
    }
   ],
   "source": [
    "X = DF_Filt\n",
    "X"
   ]
  },
  {
   "cell_type": "code",
   "execution_count": 30,
   "metadata": {},
   "outputs": [
    {
     "output_type": "stream",
     "name": "stdout",
     "text": [
      "2018-09       53\n2018-10       43\n2018-11       34\n2018-12       18\n2019-01        0\n2019-02        0\n2019-03        0\n2019-04        0\n2019-05        0\n2019-06        0\n2019-07        0\n2019-08        0\n2019-09        0\n2019-10        0\n2019-11        0\nRegionName     0\nState          0\nMetro          0\nCountyName     0\nSizeRank       0\ndtype: int64\n2018-09       0\n2018-10       0\n2018-11       0\n2018-12       0\n2019-01       0\n2019-02       0\n2019-03       0\n2019-04       0\n2019-05       0\n2019-06       0\n2019-07       0\n2019-08       0\n2019-09       0\n2019-10       0\n2019-11       0\nRegionName    0\nState         0\nMetro         0\nCountyName    0\nSizeRank      0\ndtype: int64\n"
     ]
    }
   ],
   "source": [
    "print(X.isnull().sum())\n",
    "for col in X:\n",
    "    X.fillna(X[col].median(),inplace=True)\n",
    "    #X = X.fillna(X[col].median())\n",
    "print(X.isnull().sum())"
   ]
  },
  {
   "cell_type": "code",
   "execution_count": 31,
   "metadata": {},
   "outputs": [],
   "source": [
    "X_train, X_test, Y_train, Y_test = train_test_split(X, Y, test_size=0.2, random_state=60)"
   ]
  },
  {
   "cell_type": "code",
   "execution_count": 32,
   "metadata": {},
   "outputs": [],
   "source": [
    "model = LinearRegression()\n",
    "#model = Pipeline([('poly', PolynomialFeatures(degree=3)),('linear', LinearRegression(fit_intercept=False))])\n",
    "hist = model.fit(X_train,Y_train)"
   ]
  },
  {
   "cell_type": "code",
   "execution_count": 33,
   "metadata": {},
   "outputs": [],
   "source": [
    "Y_pred = model.predict(X_test)\n",
    "#Ypred"
   ]
  },
  {
   "cell_type": "code",
   "execution_count": 34,
   "metadata": {},
   "outputs": [],
   "source": [
    "#Y_test"
   ]
  },
  {
   "cell_type": "code",
   "execution_count": 35,
   "metadata": {},
   "outputs": [],
   "source": [
    "Y_pred = scY.inverse_transform(Ypred)\n",
    "Y_test = scY.inverse_transform(Y_test)"
   ]
  },
  {
   "cell_type": "code",
   "execution_count": 36,
   "metadata": {},
   "outputs": [
    {
     "output_type": "stream",
     "name": "stdout",
     "text": [
      "202.00597000176367\n"
     ]
    }
   ],
   "source": [
    "err = mse(Ypred,Y_test,squared=False)\n",
    "print(err)"
   ]
  },
  {
   "cell_type": "code",
   "execution_count": 37,
   "metadata": {},
   "outputs": [
    {
     "output_type": "stream",
     "name": "stdout",
     "text": [
      "1897.975\n"
     ]
    }
   ],
   "source": [
    "print(Y_test.mean())"
   ]
  },
  {
   "cell_type": "code",
   "execution_count": 38,
   "metadata": {},
   "outputs": [
    {
     "output_type": "stream",
     "name": "stdout",
     "text": [
      "0.03125200715580246\n"
     ]
    }
   ],
   "source": [
    "err2 = mape(Ypred,Y_test)\n",
    "print(err2)"
   ]
  },
  {
   "cell_type": "code",
   "execution_count": null,
   "metadata": {},
   "outputs": [],
   "source": []
  }
 ]
}