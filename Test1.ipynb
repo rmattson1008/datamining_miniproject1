{
 "metadata": {
  "language_info": {
   "codemirror_mode": {
    "name": "ipython",
    "version": 3
   },
   "file_extension": ".py",
   "mimetype": "text/x-python",
   "name": "python",
   "nbconvert_exporter": "python",
   "pygments_lexer": "ipython3",
   "version": "3.8.0-final"
  },
  "orig_nbformat": 2,
  "kernelspec": {
   "name": "python3",
   "display_name": "Python 3",
   "language": "python"
  }
 },
 "nbformat": 4,
 "nbformat_minor": 2,
 "cells": [
  {
   "cell_type": "code",
   "execution_count": 64,
   "metadata": {},
   "outputs": [],
   "source": [
    "import numpy as np\n",
    "import pandas as pd\n",
    "from sklearn.linear_model import LinearRegression\n",
    "from sklearn.preprocessing import LabelEncoder\n",
    "from sklearn.model_selection import train_test_split\n",
    "from sklearn.metrics import mean_squared_error as mse\n",
    "from sklearn.preprocessing import PolynomialFeatures\n",
    "from sklearn.pipeline import Pipeline"
   ]
  },
  {
   "cell_type": "code",
   "execution_count": 98,
   "metadata": {},
   "outputs": [],
   "source": [
    "DF = pd.read_csv(r'D:\\UGA\\CSCI 6380\\MiniProj1\\Dataset\\City_MedianRentalPrice_AllHomes.csv')"
   ]
  },
  {
   "cell_type": "code",
   "execution_count": 99,
   "metadata": {},
   "outputs": [
    {
     "output_type": "execute_result",
     "data": {
      "text/plain": [
       "      Unnamed: 0       RegionName State  \\\n",
       "0              0         New York    NY   \n",
       "1              1      Los Angeles    CA   \n",
       "2              2          Houston    TX   \n",
       "3              3          Chicago    IL   \n",
       "4              4      San Antonio    TX   \n",
       "...          ...              ...   ...   \n",
       "1694        1694  Hillsboro Beach    FL   \n",
       "1695        1695       Amagansett    NY   \n",
       "1696        1696           Quogue    NY   \n",
       "1697        1697            Ogden    KS   \n",
       "1698        1698        Wainscott    NY   \n",
       "\n",
       "                                      Metro          CountyName  SizeRank  \\\n",
       "0               New York-Newark-Jersey City       Queens County         1   \n",
       "1            Los Angeles-Long Beach-Anaheim  Los Angeles County         2   \n",
       "2          Houston-The Woodlands-Sugar Land       Harris County         3   \n",
       "3                  Chicago-Naperville-Elgin         Cook County         4   \n",
       "4                 San Antonio-New Braunfels        Bexar County         5   \n",
       "...                                     ...                 ...       ...   \n",
       "1694  Miami-Fort Lauderdale-West Palm Beach      Broward County      1695   \n",
       "1695            New York-Newark-Jersey City      Suffolk County      1696   \n",
       "1696            New York-Newark-Jersey City      Suffolk County      1697   \n",
       "1697                              Manhattan        Riley County      1698   \n",
       "1698            New York-Newark-Jersey City      Suffolk County      1699   \n",
       "\n",
       "      2010-01  2010-02  2010-03  2010-04  ...  2019-03  2019-04  2019-05  \\\n",
       "0         NaN      NaN      NaN      NaN  ...   2800.0   2875.0   2900.0   \n",
       "1         NaN      NaN      NaN      NaN  ...   3500.0   3500.0   3500.0   \n",
       "2         NaN      NaN      NaN      NaN  ...   1500.0   1544.0   1550.0   \n",
       "3         NaN   1600.0   1500.0   1500.0  ...   1775.0   1795.0   1800.0   \n",
       "4         NaN      NaN      NaN      NaN  ...   1300.0   1300.0   1325.0   \n",
       "...       ...      ...      ...      ...  ...      ...      ...      ...   \n",
       "1694      NaN      NaN      NaN      NaN  ...   2700.0   2650.0   2737.5   \n",
       "1695      NaN      NaN      NaN      NaN  ...  30000.0  33333.0  36000.0   \n",
       "1696      NaN      NaN      NaN      NaN  ...  30000.0  30000.0  30000.0   \n",
       "1697      NaN      NaN      NaN      NaN  ...    990.0    990.0    990.0   \n",
       "1698      NaN      NaN      NaN      NaN  ...  40000.0  34750.0  35000.0   \n",
       "\n",
       "      2019-06  2019-07  2019-08  2019-09  2019-10  2019-11  2019-12  \n",
       "0      2895.0   2850.0   2925.0   2900.0   2900.0   2899.0   2900.0  \n",
       "1      3520.0   3500.0   3600.0   3607.0   3665.0   3600.0   3550.0  \n",
       "2      1550.0   1550.0   1550.0   1550.0   1500.0   1500.0   1500.0  \n",
       "3      1800.0   1800.0   1812.5   1800.0   1800.0   1766.0   1750.0  \n",
       "4      1345.0   1349.0   1322.5   1299.0   1300.0   1299.0   1300.0  \n",
       "...       ...      ...      ...      ...      ...      ...      ...  \n",
       "1694   2775.0   3000.0   3000.0   3150.0   3000.0   3150.0   3395.0  \n",
       "1695  36333.0  35000.0  30000.0  30000.0  34000.0  33041.5  35000.0  \n",
       "1696  30000.0  30000.0  29500.0  30000.0  30000.0  30000.0  31666.0  \n",
       "1697    990.0    909.0    939.0    909.0    909.0    939.0    909.0  \n",
       "1698  35000.0  35000.0  30000.0  30000.0  28333.0  25000.0  28333.0  \n",
       "\n",
       "[1699 rows x 126 columns]"
      ],
      "text/html": "<div>\n<style scoped>\n    .dataframe tbody tr th:only-of-type {\n        vertical-align: middle;\n    }\n\n    .dataframe tbody tr th {\n        vertical-align: top;\n    }\n\n    .dataframe thead th {\n        text-align: right;\n    }\n</style>\n<table border=\"1\" class=\"dataframe\">\n  <thead>\n    <tr style=\"text-align: right;\">\n      <th></th>\n      <th>Unnamed: 0</th>\n      <th>RegionName</th>\n      <th>State</th>\n      <th>Metro</th>\n      <th>CountyName</th>\n      <th>SizeRank</th>\n      <th>2010-01</th>\n      <th>2010-02</th>\n      <th>2010-03</th>\n      <th>2010-04</th>\n      <th>...</th>\n      <th>2019-03</th>\n      <th>2019-04</th>\n      <th>2019-05</th>\n      <th>2019-06</th>\n      <th>2019-07</th>\n      <th>2019-08</th>\n      <th>2019-09</th>\n      <th>2019-10</th>\n      <th>2019-11</th>\n      <th>2019-12</th>\n    </tr>\n  </thead>\n  <tbody>\n    <tr>\n      <th>0</th>\n      <td>0</td>\n      <td>New York</td>\n      <td>NY</td>\n      <td>New York-Newark-Jersey City</td>\n      <td>Queens County</td>\n      <td>1</td>\n      <td>NaN</td>\n      <td>NaN</td>\n      <td>NaN</td>\n      <td>NaN</td>\n      <td>...</td>\n      <td>2800.0</td>\n      <td>2875.0</td>\n      <td>2900.0</td>\n      <td>2895.0</td>\n      <td>2850.0</td>\n      <td>2925.0</td>\n      <td>2900.0</td>\n      <td>2900.0</td>\n      <td>2899.0</td>\n      <td>2900.0</td>\n    </tr>\n    <tr>\n      <th>1</th>\n      <td>1</td>\n      <td>Los Angeles</td>\n      <td>CA</td>\n      <td>Los Angeles-Long Beach-Anaheim</td>\n      <td>Los Angeles County</td>\n      <td>2</td>\n      <td>NaN</td>\n      <td>NaN</td>\n      <td>NaN</td>\n      <td>NaN</td>\n      <td>...</td>\n      <td>3500.0</td>\n      <td>3500.0</td>\n      <td>3500.0</td>\n      <td>3520.0</td>\n      <td>3500.0</td>\n      <td>3600.0</td>\n      <td>3607.0</td>\n      <td>3665.0</td>\n      <td>3600.0</td>\n      <td>3550.0</td>\n    </tr>\n    <tr>\n      <th>2</th>\n      <td>2</td>\n      <td>Houston</td>\n      <td>TX</td>\n      <td>Houston-The Woodlands-Sugar Land</td>\n      <td>Harris County</td>\n      <td>3</td>\n      <td>NaN</td>\n      <td>NaN</td>\n      <td>NaN</td>\n      <td>NaN</td>\n      <td>...</td>\n      <td>1500.0</td>\n      <td>1544.0</td>\n      <td>1550.0</td>\n      <td>1550.0</td>\n      <td>1550.0</td>\n      <td>1550.0</td>\n      <td>1550.0</td>\n      <td>1500.0</td>\n      <td>1500.0</td>\n      <td>1500.0</td>\n    </tr>\n    <tr>\n      <th>3</th>\n      <td>3</td>\n      <td>Chicago</td>\n      <td>IL</td>\n      <td>Chicago-Naperville-Elgin</td>\n      <td>Cook County</td>\n      <td>4</td>\n      <td>NaN</td>\n      <td>1600.0</td>\n      <td>1500.0</td>\n      <td>1500.0</td>\n      <td>...</td>\n      <td>1775.0</td>\n      <td>1795.0</td>\n      <td>1800.0</td>\n      <td>1800.0</td>\n      <td>1800.0</td>\n      <td>1812.5</td>\n      <td>1800.0</td>\n      <td>1800.0</td>\n      <td>1766.0</td>\n      <td>1750.0</td>\n    </tr>\n    <tr>\n      <th>4</th>\n      <td>4</td>\n      <td>San Antonio</td>\n      <td>TX</td>\n      <td>San Antonio-New Braunfels</td>\n      <td>Bexar County</td>\n      <td>5</td>\n      <td>NaN</td>\n      <td>NaN</td>\n      <td>NaN</td>\n      <td>NaN</td>\n      <td>...</td>\n      <td>1300.0</td>\n      <td>1300.0</td>\n      <td>1325.0</td>\n      <td>1345.0</td>\n      <td>1349.0</td>\n      <td>1322.5</td>\n      <td>1299.0</td>\n      <td>1300.0</td>\n      <td>1299.0</td>\n      <td>1300.0</td>\n    </tr>\n    <tr>\n      <th>...</th>\n      <td>...</td>\n      <td>...</td>\n      <td>...</td>\n      <td>...</td>\n      <td>...</td>\n      <td>...</td>\n      <td>...</td>\n      <td>...</td>\n      <td>...</td>\n      <td>...</td>\n      <td>...</td>\n      <td>...</td>\n      <td>...</td>\n      <td>...</td>\n      <td>...</td>\n      <td>...</td>\n      <td>...</td>\n      <td>...</td>\n      <td>...</td>\n      <td>...</td>\n      <td>...</td>\n    </tr>\n    <tr>\n      <th>1694</th>\n      <td>1694</td>\n      <td>Hillsboro Beach</td>\n      <td>FL</td>\n      <td>Miami-Fort Lauderdale-West Palm Beach</td>\n      <td>Broward County</td>\n      <td>1695</td>\n      <td>NaN</td>\n      <td>NaN</td>\n      <td>NaN</td>\n      <td>NaN</td>\n      <td>...</td>\n      <td>2700.0</td>\n      <td>2650.0</td>\n      <td>2737.5</td>\n      <td>2775.0</td>\n      <td>3000.0</td>\n      <td>3000.0</td>\n      <td>3150.0</td>\n      <td>3000.0</td>\n      <td>3150.0</td>\n      <td>3395.0</td>\n    </tr>\n    <tr>\n      <th>1695</th>\n      <td>1695</td>\n      <td>Amagansett</td>\n      <td>NY</td>\n      <td>New York-Newark-Jersey City</td>\n      <td>Suffolk County</td>\n      <td>1696</td>\n      <td>NaN</td>\n      <td>NaN</td>\n      <td>NaN</td>\n      <td>NaN</td>\n      <td>...</td>\n      <td>30000.0</td>\n      <td>33333.0</td>\n      <td>36000.0</td>\n      <td>36333.0</td>\n      <td>35000.0</td>\n      <td>30000.0</td>\n      <td>30000.0</td>\n      <td>34000.0</td>\n      <td>33041.5</td>\n      <td>35000.0</td>\n    </tr>\n    <tr>\n      <th>1696</th>\n      <td>1696</td>\n      <td>Quogue</td>\n      <td>NY</td>\n      <td>New York-Newark-Jersey City</td>\n      <td>Suffolk County</td>\n      <td>1697</td>\n      <td>NaN</td>\n      <td>NaN</td>\n      <td>NaN</td>\n      <td>NaN</td>\n      <td>...</td>\n      <td>30000.0</td>\n      <td>30000.0</td>\n      <td>30000.0</td>\n      <td>30000.0</td>\n      <td>30000.0</td>\n      <td>29500.0</td>\n      <td>30000.0</td>\n      <td>30000.0</td>\n      <td>30000.0</td>\n      <td>31666.0</td>\n    </tr>\n    <tr>\n      <th>1697</th>\n      <td>1697</td>\n      <td>Ogden</td>\n      <td>KS</td>\n      <td>Manhattan</td>\n      <td>Riley County</td>\n      <td>1698</td>\n      <td>NaN</td>\n      <td>NaN</td>\n      <td>NaN</td>\n      <td>NaN</td>\n      <td>...</td>\n      <td>990.0</td>\n      <td>990.0</td>\n      <td>990.0</td>\n      <td>990.0</td>\n      <td>909.0</td>\n      <td>939.0</td>\n      <td>909.0</td>\n      <td>909.0</td>\n      <td>939.0</td>\n      <td>909.0</td>\n    </tr>\n    <tr>\n      <th>1698</th>\n      <td>1698</td>\n      <td>Wainscott</td>\n      <td>NY</td>\n      <td>New York-Newark-Jersey City</td>\n      <td>Suffolk County</td>\n      <td>1699</td>\n      <td>NaN</td>\n      <td>NaN</td>\n      <td>NaN</td>\n      <td>NaN</td>\n      <td>...</td>\n      <td>40000.0</td>\n      <td>34750.0</td>\n      <td>35000.0</td>\n      <td>35000.0</td>\n      <td>35000.0</td>\n      <td>30000.0</td>\n      <td>30000.0</td>\n      <td>28333.0</td>\n      <td>25000.0</td>\n      <td>28333.0</td>\n    </tr>\n  </tbody>\n</table>\n<p>1699 rows × 126 columns</p>\n</div>"
     },
     "metadata": {},
     "execution_count": 99
    }
   ],
   "source": [
    "DF"
   ]
  },
  {
   "cell_type": "code",
   "execution_count": 100,
   "metadata": {},
   "outputs": [
    {
     "output_type": "execute_result",
     "data": {
      "text/plain": [
       "array(['Unnamed: 0', 'RegionName', 'State', 'Metro', 'CountyName',\n",
       "       'SizeRank', '2010-01', '2010-02', '2010-03', '2010-04', '2010-05',\n",
       "       '2010-06', '2010-07', '2010-08', '2010-09', '2010-10', '2010-11',\n",
       "       '2010-12', '2011-01', '2011-02', '2011-03', '2011-04', '2011-05',\n",
       "       '2011-06', '2011-07', '2011-08', '2011-09', '2011-10', '2011-11',\n",
       "       '2011-12', '2012-01', '2012-02', '2012-03', '2012-04', '2012-05',\n",
       "       '2012-06', '2012-07', '2012-08', '2012-09', '2012-10', '2012-11',\n",
       "       '2012-12', '2013-01', '2013-02', '2013-03', '2013-04', '2013-05',\n",
       "       '2013-06', '2013-07', '2013-08', '2013-09', '2013-10', '2013-11',\n",
       "       '2013-12', '2014-01', '2014-02', '2014-03', '2014-04', '2014-05',\n",
       "       '2014-06', '2014-07', '2014-08', '2014-09', '2014-10', '2014-11',\n",
       "       '2014-12', '2015-01', '2015-02', '2015-03', '2015-04', '2015-05',\n",
       "       '2015-06', '2015-07', '2015-08', '2015-09', '2015-10', '2015-11',\n",
       "       '2015-12', '2016-01', '2016-02', '2016-03', '2016-04', '2016-05',\n",
       "       '2016-06', '2016-07', '2016-08', '2016-09', '2016-10', '2016-11',\n",
       "       '2016-12', '2017-01', '2017-02', '2017-03', '2017-04', '2017-05',\n",
       "       '2017-06', '2017-07', '2017-08', '2017-09', '2017-10', '2017-11',\n",
       "       '2017-12', '2018-01', '2018-02', '2018-03', '2018-04', '2018-05',\n",
       "       '2018-06', '2018-07', '2018-08', '2018-09', '2018-10', '2018-11',\n",
       "       '2018-12', '2019-01', '2019-02', '2019-03', '2019-04', '2019-05',\n",
       "       '2019-06', '2019-07', '2019-08', '2019-09', '2019-10', '2019-11',\n",
       "       '2019-12'], dtype=object)"
      ]
     },
     "metadata": {},
     "execution_count": 100
    }
   ],
   "source": [
    "DF.columns.to_numpy()"
   ]
  },
  {
   "cell_type": "code",
   "execution_count": 101,
   "metadata": {},
   "outputs": [
    {
     "output_type": "execute_result",
     "data": {
      "text/plain": [
       "array([   0,    0,    0,    1,    0,    0, 1698, 1669, 1637, 1619, 1616,\n",
       "       1615, 1609, 1600, 1579, 1564, 1549, 1533, 1415, 1320, 1299, 1288,\n",
       "       1263, 1229, 1198, 1173, 1157, 1135, 1125, 1116, 1104, 1098, 1088,\n",
       "       1076, 1070, 1062, 1055, 1047, 1043, 1036, 1030, 1024, 1016, 1009,\n",
       "       1005,  998,  994,  982,  968,  966,  961,  950,  940,  939,  934,\n",
       "        927,  922,  920,  920,  911,  904,  897,  893,  887,  885,  883,\n",
       "        881,  880,  879,  875,  873,  872,  871,  868,  864,  863,  862,\n",
       "        861,  861,  859,  857,  855,  854,  836,  818,  801,  792,  768,\n",
       "        743,  683,  444,  364,  324,  308,  284,  267,  255,  242,  232,\n",
       "        227,  213,  201,  183,  175,  156,  145,  115,   95,   79,   65,\n",
       "         53,   43,   34,   18,    0,    0,    0,    0,    0,    0,    0,\n",
       "          0,    0,    0,    0,    0], dtype=int64)"
      ]
     },
     "metadata": {},
     "execution_count": 101
    }
   ],
   "source": [
    "DF.isnull().sum().to_numpy()"
   ]
  },
  {
   "cell_type": "code",
   "execution_count": 102,
   "metadata": {},
   "outputs": [
    {
     "output_type": "execute_result",
     "data": {
      "text/plain": [
       "RangeIndex(start=0, stop=1699, step=1)"
      ]
     },
     "metadata": {},
     "execution_count": 102
    }
   ],
   "source": [
    "DF.index"
   ]
  },
  {
   "cell_type": "code",
   "execution_count": 103,
   "metadata": {},
   "outputs": [
    {
     "output_type": "stream",
     "name": "stdout",
     "text": [
      "Index(['RegionName', 'State', 'Metro', 'CountyName', 'SizeRank'], dtype='object')\n"
     ]
    }
   ],
   "source": [
    "DF_Filt = DF.iloc[:,-16:]\n",
    "DF_Filt\n",
    "_temp = DF.iloc[:,1:6]\n",
    "print(_temp.columns)\n",
    "#for x in _temp.columns.to_numpy():\n",
    "#    DF_Filt[x] = _temp[x]\n",
    "#print(DF_Filt.columns)\n",
    "#for x in _temp.columns.to_numpy():\n",
    "    #le = LabelEncoder()\n",
    "    #DF_Filt[x] = le.fit_transform(DF_Filt[x])"
   ]
  },
  {
   "cell_type": "code",
   "execution_count": 104,
   "metadata": {},
   "outputs": [
    {
     "output_type": "execute_result",
     "data": {
      "text/plain": [
       "      2018-09  2018-10  2018-11  2018-12  2019-01  2019-02  2019-03  2019-04  \\\n",
       "0      2900.0   2850.0   2800.0   2800.0   2800.0   2800.0   2800.0   2875.0   \n",
       "1      3595.0   3595.0   3600.0   3550.0   3500.0   3500.0   3500.0   3500.0   \n",
       "2      1545.0   1500.0   1500.0   1500.0   1500.0   1500.0   1500.0   1544.0   \n",
       "3      1800.0   1795.0   1770.0   1750.0   1750.0   1725.0   1775.0   1795.0   \n",
       "4      1289.0   1285.0   1295.0   1295.0   1295.0   1295.0   1300.0   1300.0   \n",
       "...       ...      ...      ...      ...      ...      ...      ...      ...   \n",
       "1694      NaN      NaN      NaN      NaN   2900.0   3000.0   2700.0   2650.0   \n",
       "1695  32000.0  35000.0  35000.0  35000.0  35000.0  30000.0  30000.0  33333.0   \n",
       "1696      NaN      NaN      NaN  30000.0  32500.0  30000.0  30000.0  30000.0   \n",
       "1697    950.0    990.0   1059.0   1059.0   1059.0   1050.0    990.0    990.0   \n",
       "1698      NaN      NaN      NaN      NaN  45000.0  40000.0  40000.0  34750.0   \n",
       "\n",
       "      2019-05  2019-06  2019-07  2019-08  2019-09  2019-10  2019-11  2019-12  \n",
       "0      2900.0   2895.0   2850.0   2925.0   2900.0   2900.0   2899.0   2900.0  \n",
       "1      3500.0   3520.0   3500.0   3600.0   3607.0   3665.0   3600.0   3550.0  \n",
       "2      1550.0   1550.0   1550.0   1550.0   1550.0   1500.0   1500.0   1500.0  \n",
       "3      1800.0   1800.0   1800.0   1812.5   1800.0   1800.0   1766.0   1750.0  \n",
       "4      1325.0   1345.0   1349.0   1322.5   1299.0   1300.0   1299.0   1300.0  \n",
       "...       ...      ...      ...      ...      ...      ...      ...      ...  \n",
       "1694   2737.5   2775.0   3000.0   3000.0   3150.0   3000.0   3150.0   3395.0  \n",
       "1695  36000.0  36333.0  35000.0  30000.0  30000.0  34000.0  33041.5  35000.0  \n",
       "1696  30000.0  30000.0  30000.0  29500.0  30000.0  30000.0  30000.0  31666.0  \n",
       "1697    990.0    990.0    909.0    939.0    909.0    909.0    939.0    909.0  \n",
       "1698  35000.0  35000.0  35000.0  30000.0  30000.0  28333.0  25000.0  28333.0  \n",
       "\n",
       "[1699 rows x 16 columns]"
      ],
      "text/html": "<div>\n<style scoped>\n    .dataframe tbody tr th:only-of-type {\n        vertical-align: middle;\n    }\n\n    .dataframe tbody tr th {\n        vertical-align: top;\n    }\n\n    .dataframe thead th {\n        text-align: right;\n    }\n</style>\n<table border=\"1\" class=\"dataframe\">\n  <thead>\n    <tr style=\"text-align: right;\">\n      <th></th>\n      <th>2018-09</th>\n      <th>2018-10</th>\n      <th>2018-11</th>\n      <th>2018-12</th>\n      <th>2019-01</th>\n      <th>2019-02</th>\n      <th>2019-03</th>\n      <th>2019-04</th>\n      <th>2019-05</th>\n      <th>2019-06</th>\n      <th>2019-07</th>\n      <th>2019-08</th>\n      <th>2019-09</th>\n      <th>2019-10</th>\n      <th>2019-11</th>\n      <th>2019-12</th>\n    </tr>\n  </thead>\n  <tbody>\n    <tr>\n      <th>0</th>\n      <td>2900.0</td>\n      <td>2850.0</td>\n      <td>2800.0</td>\n      <td>2800.0</td>\n      <td>2800.0</td>\n      <td>2800.0</td>\n      <td>2800.0</td>\n      <td>2875.0</td>\n      <td>2900.0</td>\n      <td>2895.0</td>\n      <td>2850.0</td>\n      <td>2925.0</td>\n      <td>2900.0</td>\n      <td>2900.0</td>\n      <td>2899.0</td>\n      <td>2900.0</td>\n    </tr>\n    <tr>\n      <th>1</th>\n      <td>3595.0</td>\n      <td>3595.0</td>\n      <td>3600.0</td>\n      <td>3550.0</td>\n      <td>3500.0</td>\n      <td>3500.0</td>\n      <td>3500.0</td>\n      <td>3500.0</td>\n      <td>3500.0</td>\n      <td>3520.0</td>\n      <td>3500.0</td>\n      <td>3600.0</td>\n      <td>3607.0</td>\n      <td>3665.0</td>\n      <td>3600.0</td>\n      <td>3550.0</td>\n    </tr>\n    <tr>\n      <th>2</th>\n      <td>1545.0</td>\n      <td>1500.0</td>\n      <td>1500.0</td>\n      <td>1500.0</td>\n      <td>1500.0</td>\n      <td>1500.0</td>\n      <td>1500.0</td>\n      <td>1544.0</td>\n      <td>1550.0</td>\n      <td>1550.0</td>\n      <td>1550.0</td>\n      <td>1550.0</td>\n      <td>1550.0</td>\n      <td>1500.0</td>\n      <td>1500.0</td>\n      <td>1500.0</td>\n    </tr>\n    <tr>\n      <th>3</th>\n      <td>1800.0</td>\n      <td>1795.0</td>\n      <td>1770.0</td>\n      <td>1750.0</td>\n      <td>1750.0</td>\n      <td>1725.0</td>\n      <td>1775.0</td>\n      <td>1795.0</td>\n      <td>1800.0</td>\n      <td>1800.0</td>\n      <td>1800.0</td>\n      <td>1812.5</td>\n      <td>1800.0</td>\n      <td>1800.0</td>\n      <td>1766.0</td>\n      <td>1750.0</td>\n    </tr>\n    <tr>\n      <th>4</th>\n      <td>1289.0</td>\n      <td>1285.0</td>\n      <td>1295.0</td>\n      <td>1295.0</td>\n      <td>1295.0</td>\n      <td>1295.0</td>\n      <td>1300.0</td>\n      <td>1300.0</td>\n      <td>1325.0</td>\n      <td>1345.0</td>\n      <td>1349.0</td>\n      <td>1322.5</td>\n      <td>1299.0</td>\n      <td>1300.0</td>\n      <td>1299.0</td>\n      <td>1300.0</td>\n    </tr>\n    <tr>\n      <th>...</th>\n      <td>...</td>\n      <td>...</td>\n      <td>...</td>\n      <td>...</td>\n      <td>...</td>\n      <td>...</td>\n      <td>...</td>\n      <td>...</td>\n      <td>...</td>\n      <td>...</td>\n      <td>...</td>\n      <td>...</td>\n      <td>...</td>\n      <td>...</td>\n      <td>...</td>\n      <td>...</td>\n    </tr>\n    <tr>\n      <th>1694</th>\n      <td>NaN</td>\n      <td>NaN</td>\n      <td>NaN</td>\n      <td>NaN</td>\n      <td>2900.0</td>\n      <td>3000.0</td>\n      <td>2700.0</td>\n      <td>2650.0</td>\n      <td>2737.5</td>\n      <td>2775.0</td>\n      <td>3000.0</td>\n      <td>3000.0</td>\n      <td>3150.0</td>\n      <td>3000.0</td>\n      <td>3150.0</td>\n      <td>3395.0</td>\n    </tr>\n    <tr>\n      <th>1695</th>\n      <td>32000.0</td>\n      <td>35000.0</td>\n      <td>35000.0</td>\n      <td>35000.0</td>\n      <td>35000.0</td>\n      <td>30000.0</td>\n      <td>30000.0</td>\n      <td>33333.0</td>\n      <td>36000.0</td>\n      <td>36333.0</td>\n      <td>35000.0</td>\n      <td>30000.0</td>\n      <td>30000.0</td>\n      <td>34000.0</td>\n      <td>33041.5</td>\n      <td>35000.0</td>\n    </tr>\n    <tr>\n      <th>1696</th>\n      <td>NaN</td>\n      <td>NaN</td>\n      <td>NaN</td>\n      <td>30000.0</td>\n      <td>32500.0</td>\n      <td>30000.0</td>\n      <td>30000.0</td>\n      <td>30000.0</td>\n      <td>30000.0</td>\n      <td>30000.0</td>\n      <td>30000.0</td>\n      <td>29500.0</td>\n      <td>30000.0</td>\n      <td>30000.0</td>\n      <td>30000.0</td>\n      <td>31666.0</td>\n    </tr>\n    <tr>\n      <th>1697</th>\n      <td>950.0</td>\n      <td>990.0</td>\n      <td>1059.0</td>\n      <td>1059.0</td>\n      <td>1059.0</td>\n      <td>1050.0</td>\n      <td>990.0</td>\n      <td>990.0</td>\n      <td>990.0</td>\n      <td>990.0</td>\n      <td>909.0</td>\n      <td>939.0</td>\n      <td>909.0</td>\n      <td>909.0</td>\n      <td>939.0</td>\n      <td>909.0</td>\n    </tr>\n    <tr>\n      <th>1698</th>\n      <td>NaN</td>\n      <td>NaN</td>\n      <td>NaN</td>\n      <td>NaN</td>\n      <td>45000.0</td>\n      <td>40000.0</td>\n      <td>40000.0</td>\n      <td>34750.0</td>\n      <td>35000.0</td>\n      <td>35000.0</td>\n      <td>35000.0</td>\n      <td>30000.0</td>\n      <td>30000.0</td>\n      <td>28333.0</td>\n      <td>25000.0</td>\n      <td>28333.0</td>\n    </tr>\n  </tbody>\n</table>\n<p>1699 rows × 16 columns</p>\n</div>"
     },
     "metadata": {},
     "execution_count": 104
    }
   ],
   "source": [
    "DF_Filt"
   ]
  },
  {
   "cell_type": "code",
   "execution_count": 105,
   "metadata": {},
   "outputs": [
    {
     "output_type": "execute_result",
     "data": {
      "text/plain": [
       "0        2900.0\n",
       "1        3550.0\n",
       "2        1500.0\n",
       "3        1750.0\n",
       "4        1300.0\n",
       "         ...   \n",
       "1694     3395.0\n",
       "1695    35000.0\n",
       "1696    31666.0\n",
       "1697      909.0\n",
       "1698    28333.0\n",
       "Name: 2019-12, Length: 1699, dtype: float64"
      ]
     },
     "metadata": {},
     "execution_count": 105
    }
   ],
   "source": [
    "Y = DF_Filt['2019-12']\n",
    "Y"
   ]
  },
  {
   "cell_type": "code",
   "execution_count": 106,
   "metadata": {},
   "outputs": [
    {
     "output_type": "execute_result",
     "data": {
      "text/plain": [
       "      2018-09  2018-10  2018-11  2018-12  2019-01  2019-02  2019-03  2019-04  \\\n",
       "0      2900.0   2850.0   2800.0   2800.0   2800.0   2800.0   2800.0   2875.0   \n",
       "1      3595.0   3595.0   3600.0   3550.0   3500.0   3500.0   3500.0   3500.0   \n",
       "2      1545.0   1500.0   1500.0   1500.0   1500.0   1500.0   1500.0   1544.0   \n",
       "3      1800.0   1795.0   1770.0   1750.0   1750.0   1725.0   1775.0   1795.0   \n",
       "4      1289.0   1285.0   1295.0   1295.0   1295.0   1295.0   1300.0   1300.0   \n",
       "...       ...      ...      ...      ...      ...      ...      ...      ...   \n",
       "1694      NaN      NaN      NaN      NaN   2900.0   3000.0   2700.0   2650.0   \n",
       "1695  32000.0  35000.0  35000.0  35000.0  35000.0  30000.0  30000.0  33333.0   \n",
       "1696      NaN      NaN      NaN  30000.0  32500.0  30000.0  30000.0  30000.0   \n",
       "1697    950.0    990.0   1059.0   1059.0   1059.0   1050.0    990.0    990.0   \n",
       "1698      NaN      NaN      NaN      NaN  45000.0  40000.0  40000.0  34750.0   \n",
       "\n",
       "      2019-05  2019-06  2019-07  2019-08  2019-09  2019-10  2019-11  \n",
       "0      2900.0   2895.0   2850.0   2925.0   2900.0   2900.0   2899.0  \n",
       "1      3500.0   3520.0   3500.0   3600.0   3607.0   3665.0   3600.0  \n",
       "2      1550.0   1550.0   1550.0   1550.0   1550.0   1500.0   1500.0  \n",
       "3      1800.0   1800.0   1800.0   1812.5   1800.0   1800.0   1766.0  \n",
       "4      1325.0   1345.0   1349.0   1322.5   1299.0   1300.0   1299.0  \n",
       "...       ...      ...      ...      ...      ...      ...      ...  \n",
       "1694   2737.5   2775.0   3000.0   3000.0   3150.0   3000.0   3150.0  \n",
       "1695  36000.0  36333.0  35000.0  30000.0  30000.0  34000.0  33041.5  \n",
       "1696  30000.0  30000.0  30000.0  29500.0  30000.0  30000.0  30000.0  \n",
       "1697    990.0    990.0    909.0    939.0    909.0    909.0    939.0  \n",
       "1698  35000.0  35000.0  35000.0  30000.0  30000.0  28333.0  25000.0  \n",
       "\n",
       "[1699 rows x 15 columns]"
      ],
      "text/html": "<div>\n<style scoped>\n    .dataframe tbody tr th:only-of-type {\n        vertical-align: middle;\n    }\n\n    .dataframe tbody tr th {\n        vertical-align: top;\n    }\n\n    .dataframe thead th {\n        text-align: right;\n    }\n</style>\n<table border=\"1\" class=\"dataframe\">\n  <thead>\n    <tr style=\"text-align: right;\">\n      <th></th>\n      <th>2018-09</th>\n      <th>2018-10</th>\n      <th>2018-11</th>\n      <th>2018-12</th>\n      <th>2019-01</th>\n      <th>2019-02</th>\n      <th>2019-03</th>\n      <th>2019-04</th>\n      <th>2019-05</th>\n      <th>2019-06</th>\n      <th>2019-07</th>\n      <th>2019-08</th>\n      <th>2019-09</th>\n      <th>2019-10</th>\n      <th>2019-11</th>\n    </tr>\n  </thead>\n  <tbody>\n    <tr>\n      <th>0</th>\n      <td>2900.0</td>\n      <td>2850.0</td>\n      <td>2800.0</td>\n      <td>2800.0</td>\n      <td>2800.0</td>\n      <td>2800.0</td>\n      <td>2800.0</td>\n      <td>2875.0</td>\n      <td>2900.0</td>\n      <td>2895.0</td>\n      <td>2850.0</td>\n      <td>2925.0</td>\n      <td>2900.0</td>\n      <td>2900.0</td>\n      <td>2899.0</td>\n    </tr>\n    <tr>\n      <th>1</th>\n      <td>3595.0</td>\n      <td>3595.0</td>\n      <td>3600.0</td>\n      <td>3550.0</td>\n      <td>3500.0</td>\n      <td>3500.0</td>\n      <td>3500.0</td>\n      <td>3500.0</td>\n      <td>3500.0</td>\n      <td>3520.0</td>\n      <td>3500.0</td>\n      <td>3600.0</td>\n      <td>3607.0</td>\n      <td>3665.0</td>\n      <td>3600.0</td>\n    </tr>\n    <tr>\n      <th>2</th>\n      <td>1545.0</td>\n      <td>1500.0</td>\n      <td>1500.0</td>\n      <td>1500.0</td>\n      <td>1500.0</td>\n      <td>1500.0</td>\n      <td>1500.0</td>\n      <td>1544.0</td>\n      <td>1550.0</td>\n      <td>1550.0</td>\n      <td>1550.0</td>\n      <td>1550.0</td>\n      <td>1550.0</td>\n      <td>1500.0</td>\n      <td>1500.0</td>\n    </tr>\n    <tr>\n      <th>3</th>\n      <td>1800.0</td>\n      <td>1795.0</td>\n      <td>1770.0</td>\n      <td>1750.0</td>\n      <td>1750.0</td>\n      <td>1725.0</td>\n      <td>1775.0</td>\n      <td>1795.0</td>\n      <td>1800.0</td>\n      <td>1800.0</td>\n      <td>1800.0</td>\n      <td>1812.5</td>\n      <td>1800.0</td>\n      <td>1800.0</td>\n      <td>1766.0</td>\n    </tr>\n    <tr>\n      <th>4</th>\n      <td>1289.0</td>\n      <td>1285.0</td>\n      <td>1295.0</td>\n      <td>1295.0</td>\n      <td>1295.0</td>\n      <td>1295.0</td>\n      <td>1300.0</td>\n      <td>1300.0</td>\n      <td>1325.0</td>\n      <td>1345.0</td>\n      <td>1349.0</td>\n      <td>1322.5</td>\n      <td>1299.0</td>\n      <td>1300.0</td>\n      <td>1299.0</td>\n    </tr>\n    <tr>\n      <th>...</th>\n      <td>...</td>\n      <td>...</td>\n      <td>...</td>\n      <td>...</td>\n      <td>...</td>\n      <td>...</td>\n      <td>...</td>\n      <td>...</td>\n      <td>...</td>\n      <td>...</td>\n      <td>...</td>\n      <td>...</td>\n      <td>...</td>\n      <td>...</td>\n      <td>...</td>\n    </tr>\n    <tr>\n      <th>1694</th>\n      <td>NaN</td>\n      <td>NaN</td>\n      <td>NaN</td>\n      <td>NaN</td>\n      <td>2900.0</td>\n      <td>3000.0</td>\n      <td>2700.0</td>\n      <td>2650.0</td>\n      <td>2737.5</td>\n      <td>2775.0</td>\n      <td>3000.0</td>\n      <td>3000.0</td>\n      <td>3150.0</td>\n      <td>3000.0</td>\n      <td>3150.0</td>\n    </tr>\n    <tr>\n      <th>1695</th>\n      <td>32000.0</td>\n      <td>35000.0</td>\n      <td>35000.0</td>\n      <td>35000.0</td>\n      <td>35000.0</td>\n      <td>30000.0</td>\n      <td>30000.0</td>\n      <td>33333.0</td>\n      <td>36000.0</td>\n      <td>36333.0</td>\n      <td>35000.0</td>\n      <td>30000.0</td>\n      <td>30000.0</td>\n      <td>34000.0</td>\n      <td>33041.5</td>\n    </tr>\n    <tr>\n      <th>1696</th>\n      <td>NaN</td>\n      <td>NaN</td>\n      <td>NaN</td>\n      <td>30000.0</td>\n      <td>32500.0</td>\n      <td>30000.0</td>\n      <td>30000.0</td>\n      <td>30000.0</td>\n      <td>30000.0</td>\n      <td>30000.0</td>\n      <td>30000.0</td>\n      <td>29500.0</td>\n      <td>30000.0</td>\n      <td>30000.0</td>\n      <td>30000.0</td>\n    </tr>\n    <tr>\n      <th>1697</th>\n      <td>950.0</td>\n      <td>990.0</td>\n      <td>1059.0</td>\n      <td>1059.0</td>\n      <td>1059.0</td>\n      <td>1050.0</td>\n      <td>990.0</td>\n      <td>990.0</td>\n      <td>990.0</td>\n      <td>990.0</td>\n      <td>909.0</td>\n      <td>939.0</td>\n      <td>909.0</td>\n      <td>909.0</td>\n      <td>939.0</td>\n    </tr>\n    <tr>\n      <th>1698</th>\n      <td>NaN</td>\n      <td>NaN</td>\n      <td>NaN</td>\n      <td>NaN</td>\n      <td>45000.0</td>\n      <td>40000.0</td>\n      <td>40000.0</td>\n      <td>34750.0</td>\n      <td>35000.0</td>\n      <td>35000.0</td>\n      <td>35000.0</td>\n      <td>30000.0</td>\n      <td>30000.0</td>\n      <td>28333.0</td>\n      <td>25000.0</td>\n    </tr>\n  </tbody>\n</table>\n<p>1699 rows × 15 columns</p>\n</div>"
     },
     "metadata": {},
     "execution_count": 106
    }
   ],
   "source": [
    "X = DF_Filt.loc[:, DF_Filt.columns != '2019-12']\n",
    "X"
   ]
  },
  {
   "cell_type": "code",
   "execution_count": 107,
   "metadata": {},
   "outputs": [
    {
     "output_type": "stream",
     "name": "stdout",
     "text": [
      "2018-09    53\n2018-10    43\n2018-11    34\n2018-12    18\n2019-01     0\n2019-02     0\n2019-03     0\n2019-04     0\n2019-05     0\n2019-06     0\n2019-07     0\n2019-08     0\n2019-09     0\n2019-10     0\n2019-11     0\ndtype: int64\n2018-09    0\n2018-10    0\n2018-11    0\n2018-12    0\n2019-01    0\n2019-02    0\n2019-03    0\n2019-04    0\n2019-05    0\n2019-06    0\n2019-07    0\n2019-08    0\n2019-09    0\n2019-10    0\n2019-11    0\ndtype: int64\n"
     ]
    }
   ],
   "source": [
    "print(X.isnull().sum())\n",
    "for col in X:\n",
    "    X.fillna(X[col].median(),inplace=True)\n",
    "    #X = X.fillna(X[col].median())\n",
    "print(X.isnull().sum())"
   ]
  },
  {
   "cell_type": "code",
   "execution_count": 114,
   "metadata": {},
   "outputs": [],
   "source": [
    "X_train, X_test, Y_train, Y_test = train_test_split(X, Y, test_size=0.2, random_state=60)"
   ]
  },
  {
   "cell_type": "code",
   "execution_count": 115,
   "metadata": {},
   "outputs": [],
   "source": [
    "model = LinearRegression()\n",
    "#model = Pipeline([('poly', PolynomialFeatures(degree=3)),('linear', LinearRegression(fit_intercept=False))])\n",
    "hist = model.fit(X_train,Y_train)"
   ]
  },
  {
   "cell_type": "code",
   "execution_count": 116,
   "metadata": {},
   "outputs": [
    {
     "output_type": "execute_result",
     "data": {
      "text/plain": [
       "array([ 2215.25635534,  1801.30470529,   806.40866108,  2062.45472447,\n",
       "        1271.05819128,  1406.79158186,  2366.65584979,  3016.72635839,\n",
       "        1950.22257775,  2323.26307879,   885.17117425,  1235.77411525,\n",
       "        2276.20185105,  1218.61239424,  1403.88759376,  2479.71949986,\n",
       "        1594.08401357,  2098.78217127,  2735.26447701,  2800.95400874,\n",
       "        1305.93130708,  3870.29541938,   766.54506771,   977.46764284,\n",
       "        1270.06921388,  1233.24323233,  1603.88489886,  1237.720699  ,\n",
       "        1639.25494716,  2425.85098615,  3054.1621865 ,  1327.0382979 ,\n",
       "        1271.90321704,   868.29821927,  1230.34001436,  2580.29327991,\n",
       "        2310.59187303,  2995.64880009,  1304.82960888,  1173.27145281,\n",
       "        1624.72906238,  4173.28886274,  1495.18444427,  2878.84369789,\n",
       "        1754.41104721,  1589.15495672,  2787.08483548,  1880.90781162,\n",
       "        1301.91293693,  1904.06197011,  2996.28197852,  1913.02966266,\n",
       "        1712.48571663,   892.69139934,  1000.37815943,  1977.62728669,\n",
       "        2188.20369003,  3537.14141293,   983.1154744 ,  2212.86239881,\n",
       "        2075.74634686,  1150.39115326,   944.87525693,  1025.44027744,\n",
       "        1960.90378651,   924.97140069,  1443.06795119,  2434.20143656,\n",
       "        1584.07952629,  1329.56844804,  1798.68692553,  1470.16006229,\n",
       "        1394.88922104,  1664.32757103,  1085.40481776,  1931.64105666,\n",
       "        1580.25671948,  1731.19128848,  1581.47517317,  2012.82691311,\n",
       "         883.07524658,  2915.04219508,  1744.93923661,  1703.22052206,\n",
       "        1557.89837706,  2332.22557435,  1352.43210051,  1717.24486977,\n",
       "        1866.20274465,  1763.43950973,  1106.25422746,  1107.6860665 ,\n",
       "        2347.4210198 ,  2379.32189032,  1558.73881277,  1756.15258386,\n",
       "        1664.97752814,  2486.86499198,  3435.62136883,  3380.72435974,\n",
       "        1381.92786464,  1487.89326411,  4110.43409824,   971.61541457,\n",
       "        1716.62579989,  1544.38911826,  1349.40172197,  1365.32843399,\n",
       "        1289.59798763,  1157.62717174,  1586.37966014,  1546.18358081,\n",
       "        1411.1219012 ,   774.15416956,  2847.000154  ,  1745.01786084,\n",
       "        1629.66908953,  5856.89692752,  1944.69163311,  1562.34555833,\n",
       "         987.32173756,  1784.08753988,  2550.92065446,  2227.83534867,\n",
       "        1840.60595193,  1791.59903848,  1456.79379573,   969.18244002,\n",
       "        1023.02833614,  1275.62974334,  7352.37689692,  1621.13147681,\n",
       "        2337.74821733,  1602.99400442,  1434.85569809,  1445.55094865,\n",
       "        1682.63037904,  1508.21614308,  1019.82444287,   993.86799087,\n",
       "        2197.88749748,  1837.84482005,  1739.6532653 ,  1846.7536828 ,\n",
       "        1029.59735944,   867.50472274,  2680.12763762,  1924.78266233,\n",
       "        1197.96787664,  1414.48489572,  2410.2924586 ,  1169.11422509,\n",
       "        1344.98389986,  2046.86741096,  3038.23084092,  2574.9393999 ,\n",
       "        1593.63230128,  2570.42217563,   343.40370386,  3282.46376392,\n",
       "        1149.36580983,  2420.83836633,  1844.34989377,  1807.38081938,\n",
       "        1270.15540168,  2803.97188297,  1191.86543327,   948.81069581,\n",
       "        2213.11485258,  1087.49041516,  1614.872474  ,  1606.23358057,\n",
       "        1372.02146255, 31810.9380026 ,  1515.90719958,  2200.14591901,\n",
       "         709.22545628,  2476.76589512,  1259.48970835,  6068.19346687,\n",
       "        1138.22186242,  1509.82970772,  1378.55344418,  1896.95432029,\n",
       "        3477.6152823 ,  1205.58780541,  1375.8816943 ,  1389.06365519,\n",
       "        2281.69200088,  1480.15246249,  1769.61038247,  2318.61531473,\n",
       "        1497.57765056,  2502.60890936,  2705.00948186,   767.34815707,\n",
       "        1620.36753174,  1320.23282471,  1817.99324688,  1596.62470474,\n",
       "         906.15332482,   943.37710365,   642.67263893,  2834.07878877,\n",
       "        2072.44371344,  1596.86512197,  2404.4052852 ,  2602.70336451,\n",
       "        1091.46866681,  1589.59029007,  3153.28803214,   757.15654931,\n",
       "        1310.71806424,  1864.12952801,  2299.73793018,  1440.82695403,\n",
       "        1611.99506353,  1817.86977587,  2379.10885172,  1390.70672145,\n",
       "        2096.03778885,  1922.4756161 ,  1705.93220796,  1633.99550655,\n",
       "         864.22329438,  1288.60249704,  1003.12019568,  2053.53093872,\n",
       "        1308.28411542,  1759.21769114,  1301.52760832,  2290.12153409,\n",
       "        1710.06194484,  1635.84853792,  1828.42419568,  1797.59316054,\n",
       "        1861.58399391,  1442.59389913,  2005.5460233 ,  1672.66795566,\n",
       "        1161.19789947,  2868.61210648,  1317.78385369,  1237.67738352,\n",
       "        1788.63796557,  1623.19487424,  1613.68376177,  1075.65888042,\n",
       "        1403.10599763,  1894.4864319 ,  6022.14953956,  2327.09691819,\n",
       "        1738.00985182,  1101.16529465,   850.09068465,  1616.49276237,\n",
       "        1481.75336365,  2562.65367996,  1782.7937864 ,  3380.30644396,\n",
       "        1519.84280024,  4881.27111149,  1640.29313098,  1781.18546187,\n",
       "        1282.78053492,  1696.86061049,  1783.17363433,  1061.90150052,\n",
       "        2320.31380903,  1763.40806923,  4322.60222732,  1297.71769782,\n",
       "         849.07787332,  2600.26901211,  1593.27495673,  2472.11210578,\n",
       "        1612.70116838,   912.28386296,  1691.05063994,  1280.38135268,\n",
       "        1098.52152982,  1365.49021301,  2663.46467717,  1317.57617797,\n",
       "        2129.53064006,  2620.82606787,  4096.67741808,  1548.8235592 ,\n",
       "        1708.15789263,  1711.55004615,  1508.74890804,  2656.53213425,\n",
       "        1626.38500214,  1529.75403843,  1405.2915831 ,  1522.82203543,\n",
       "        2258.26133788,  1324.26102665,  1679.2059765 ,  1494.15650945,\n",
       "        1436.17852051,  1577.85954376,  3276.91157439,  1519.38251442,\n",
       "        2477.40258994,  1700.07747854,  1439.89171503,  1257.99011756,\n",
       "        4224.45638251,  2395.47967567,  1810.72320551,  2047.75472185,\n",
       "        1694.75816145,   820.61475962,   853.67866021,  1341.41924217,\n",
       "        1202.80281703,   995.64180051,  1096.71061953,  1121.21849593,\n",
       "        2066.47979516,  2007.4436799 ,  2145.02005597,  1907.73577431,\n",
       "        2369.50892404,  2891.83935124,  1776.23151211,   793.87990981,\n",
       "        1353.45151365,  1541.09767532,  1396.09907673,   661.69622958,\n",
       "        1130.11764485,  1464.21550118,  1512.35516396,  2764.54198225,\n",
       "        1564.21289785,  1811.7649893 ,  2020.46478479,  3835.73877711])"
      ]
     },
     "metadata": {},
     "execution_count": 116
    }
   ],
   "source": [
    "Ypred = model.predict(X_test)\n",
    "Ypred"
   ]
  },
  {
   "cell_type": "code",
   "execution_count": 117,
   "metadata": {},
   "outputs": [
    {
     "output_type": "execute_result",
     "data": {
      "text/plain": [
       "740     2250.0\n",
       "446     1850.0\n",
       "585      800.0\n",
       "929     2100.0\n",
       "894     1200.0\n",
       "         ...  \n",
       "1637    2600.0\n",
       "1431    1575.0\n",
       "1242    1830.0\n",
       "179     1995.0\n",
       "639     3750.0\n",
       "Name: 2019-12, Length: 340, dtype: float64"
      ]
     },
     "metadata": {},
     "execution_count": 117
    }
   ],
   "source": [
    "Y_test"
   ]
  },
  {
   "cell_type": "code",
   "execution_count": 118,
   "metadata": {},
   "outputs": [
    {
     "output_type": "stream",
     "name": "stdout",
     "text": [
      "203.88537704319933\n"
     ]
    }
   ],
   "source": [
    "err = mse(Ypred,Y_test,squared=False)\n",
    "print(err)"
   ]
  },
  {
   "cell_type": "code",
   "execution_count": 119,
   "metadata": {},
   "outputs": [
    {
     "output_type": "stream",
     "name": "stdout",
     "text": [
      "1897.975\n"
     ]
    }
   ],
   "source": [
    "print(Y_test.mean())"
   ]
  },
  {
   "cell_type": "code",
   "execution_count": null,
   "metadata": {},
   "outputs": [],
   "source": []
  }
 ]
}