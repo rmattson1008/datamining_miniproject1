{
 "metadata": {
  "language_info": {
   "codemirror_mode": {
    "name": "ipython",
    "version": 3
   },
   "file_extension": ".py",
   "mimetype": "text/x-python",
   "name": "python",
   "nbconvert_exporter": "python",
   "pygments_lexer": "ipython3",
   "version": "3.8.0-final"
  },
  "orig_nbformat": 2,
  "kernelspec": {
   "name": "python3",
   "display_name": "Python 3.8.0 64-bit",
   "metadata": {
    "interpreter": {
     "hash": "6770bb0804dde752bad64f8db710cff9a548fb4282bcd1e70abbe4e52f54e7e6"
    }
   }
  }
 },
 "nbformat": 4,
 "nbformat_minor": 2,
 "cells": [
  {
   "cell_type": "code",
   "execution_count": 1,
   "metadata": {},
   "outputs": [],
   "source": [
    "import numpy as np\n",
    "import pandas as pd\n",
    "from sklearn.linear_model import LinearRegression\n",
    "from sklearn.preprocessing import LabelEncoder\n",
    "from sklearn.model_selection import train_test_split\n",
    "from sklearn.metrics import mean_squared_error as mse\n",
    "from sklearn.preprocessing import StandardScaler\n",
    "from sklearn.metrics import mean_absolute_percentage_error as mape"
   ]
  },
  {
   "cell_type": "code",
   "execution_count": 22,
   "metadata": {},
   "outputs": [],
   "source": [
    "DF = pd.read_csv(r'Datasets\\City_MedianRentalPrice_AllHomes.csv')"
   ]
  },
  {
   "cell_type": "code",
   "execution_count": 23,
   "metadata": {},
   "outputs": [
    {
     "output_type": "execute_result",
     "data": {
      "text/plain": [
       "array(['RegionName', 'State', 'Metro', 'CountyName', 'Bedrooms',\n",
       "       '2010-02', '2010-03', '2010-04', '2010-05', '2010-06', '2010-07',\n",
       "       '2010-08', '2010-09', '2010-10', '2010-11', '2010-12', '2011-01',\n",
       "       '2011-02', '2011-03', '2011-04', '2011-05', '2011-06', '2011-07',\n",
       "       '2011-08', '2011-09', '2011-10', '2011-11', '2011-12', '2012-01',\n",
       "       '2012-02', '2012-03', '2012-04', '2012-05', '2012-06', '2012-07',\n",
       "       '2012-08', '2012-09', '2012-10', '2012-11', '2012-12', '2013-01',\n",
       "       '2013-02', '2013-03', '2013-04', '2013-05', '2013-06', '2013-07',\n",
       "       '2013-08', '2013-09', '2013-10', '2013-11', '2013-12', '2014-01',\n",
       "       '2014-02', '2014-03', '2014-04', '2014-05', '2014-06', '2014-07',\n",
       "       '2014-08', '2014-09', '2014-10', '2014-11', '2014-12', '2015-01',\n",
       "       '2015-02', '2015-03', '2015-04', '2015-05', '2015-06', '2015-07',\n",
       "       '2015-08', '2015-09', '2015-10', '2015-11', '2015-12', '2016-01',\n",
       "       '2016-02', '2016-03', '2016-04', '2016-05', '2016-06', '2016-07',\n",
       "       '2016-08', '2016-09', '2016-10', '2016-11', '2016-12', '2017-01',\n",
       "       '2017-02', '2017-03', '2017-04', '2017-05', '2017-06', '2017-07',\n",
       "       '2017-08', '2017-09', '2017-10', '2017-11', '2017-12', '2018-01',\n",
       "       '2018-02', '2018-03', '2018-04', '2018-05', '2018-06', '2018-07',\n",
       "       '2018-08', '2018-09', '2018-10', '2018-11', '2018-12', '2019-01',\n",
       "       '2019-02', '2019-03', '2019-04', '2019-05', '2019-06', '2019-07',\n",
       "       '2019-08', '2019-09', '2019-10', '2019-11', '2019-12'],\n",
       "      dtype=object)"
      ]
     },
     "metadata": {},
     "execution_count": 23
    }
   ],
   "source": [
    "DF.columns.to_numpy()"
   ]
  },
  {
   "cell_type": "code",
   "execution_count": 24,
   "metadata": {},
   "outputs": [
    {
     "output_type": "stream",
     "name": "stdout",
     "text": [
      "Index(['State', 'Metro', 'CountyName', 'Bedrooms'], dtype='object')\n"
     ]
    }
   ],
   "source": [
    "DF_Filt = DF.iloc[:,-16:-1]\n",
    "DF_Filt #Contains all numerical we want\n",
    "for x in DF_Filt.columns.to_numpy():\n",
    "   sc = StandardScaler()\n",
    "   DF_Filt[x] = sc.fit_transform(DF_Filt[x].values.reshape(-1,1))\n",
    "  \n",
    "DFLblColumns = DF.iloc[:,1:5]\n",
    "print(DFLblColumns.columns)\n",
    "for x in DFLblColumns.columns.to_numpy():\n",
    "   le = LabelEncoder() \n",
    "   DF_Filt[x] = le.fit_transform(DFLblColumns[x].values)\n"
   ]
  },
  {
   "cell_type": "code",
   "execution_count": 25,
   "metadata": {},
   "outputs": [
    {
     "output_type": "execute_result",
     "data": {
      "text/plain": [
       "array([[ 0.01137634],\n",
       "       [-0.04318115],\n",
       "       [-0.13865674],\n",
       "       ...,\n",
       "       [-0.4801866 ],\n",
       "       [ 0.14504218],\n",
       "       [-0.14793152]])"
      ]
     },
     "metadata": {},
     "execution_count": 25
    }
   ],
   "source": [
    "Y = DF.iloc[:,-1]\n",
    "scY = StandardScaler()\n",
    "Y = scY.fit_transform(Y.values.reshape(-1,1))\n",
    "Y"
   ]
  },
  {
   "cell_type": "code",
   "execution_count": 26,
   "metadata": {},
   "outputs": [
    {
     "output_type": "execute_result",
     "data": {
      "text/plain": [
       "       2018-09   2018-10   2018-11   2018-12   2019-01   2019-02   2019-03  \\\n",
       "0    -0.033096 -0.028553 -0.025612 -0.023818  0.001697 -0.000910  0.019988   \n",
       "1    -0.030491 -0.026480 -0.041732 -0.023818 -0.024171 -0.028092 -0.039703   \n",
       "2    -0.147727 -0.181416 -0.186812 -0.182867 -0.207073 -0.214102 -0.199782   \n",
       "3    -0.130011 -0.099025 -0.133079 -0.134967 -0.128686 -0.156007 -0.181333   \n",
       "4    -0.286846 -0.226239 -0.219052 -0.250879 -0.233724 -0.273795 -0.284977   \n",
       "...        ...       ...       ...       ...       ...       ...       ...   \n",
       "3384 -0.439512 -0.435325 -0.440434 -0.441948 -0.437006 -0.449146 -0.450483   \n",
       "3385 -0.473380 -0.443097 -0.455479 -0.418925 -0.442755 -0.453943 -0.414669   \n",
       "3386       NaN       NaN       NaN       NaN -0.468361 -0.481125 -0.460251   \n",
       "3387  0.071113  0.105915  0.100661  0.121733  0.098635  0.105686  0.082392   \n",
       "3388 -0.146685 -0.212507 -0.181439 -0.166988 -0.188782 -0.195447 -0.164511   \n",
       "\n",
       "       2019-04   2019-05   2019-06   2019-07   2019-08   2019-09   2019-10  \\\n",
       "0    -0.005045  0.006239  0.028741  0.042540  0.006061  0.023217  0.040743   \n",
       "1    -0.042102 -0.058190 -0.057561 -0.055283 -0.049669 -0.045969 -0.042676   \n",
       "2    -0.190330 -0.154834 -0.106105 -0.105956 -0.108186 -0.125121 -0.139999   \n",
       "3    -0.170043 -0.182753 -0.157886 -0.117879 -0.122676 -0.188328 -0.181709   \n",
       "4    -0.274722 -0.272416 -0.244188 -0.304313 -0.279000 -0.278868 -0.285149   \n",
       "...        ...       ...       ...       ...       ...       ...       ...   \n",
       "3384 -0.467310 -0.472146 -0.478820 -0.496707 -0.519199 -0.512906 -0.484243   \n",
       "3385 -0.422950 -0.370134 -0.375797 -0.378019 -0.411917 -0.444574 -0.431967   \n",
       "3386 -0.487867 -0.490401 -0.484214 -0.443053 -0.479351 -0.502087 -0.487858   \n",
       "3387  0.118027  0.105567  0.101558  0.110284  0.124210  0.147639  0.126943   \n",
       "3388 -0.139478 -0.148391 -0.112038 -0.117879 -0.134658 -0.159856 -0.156961   \n",
       "\n",
       "       2019-11  State  Metro  CountyName  Bedrooms  \n",
       "0     0.037771      4    164         231         2  \n",
       "1    -0.047940      9    178         255         0  \n",
       "2    -0.132808      6    196         274         1  \n",
       "3    -0.182830     39    222         202         1  \n",
       "4    -0.192666      5     96         218         0  \n",
       "...        ...    ...    ...         ...       ...  \n",
       "3384 -0.488019     20     19          17         0  \n",
       "3385 -0.407647      9    202         244         1  \n",
       "3386 -0.490829     15     84         127         2  \n",
       "3387  0.126293      4    245         356         1  \n",
       "3388 -0.156133      4    234         336         0  \n",
       "\n",
       "[3389 rows x 19 columns]"
      ],
      "text/html": "<div>\n<style scoped>\n    .dataframe tbody tr th:only-of-type {\n        vertical-align: middle;\n    }\n\n    .dataframe tbody tr th {\n        vertical-align: top;\n    }\n\n    .dataframe thead th {\n        text-align: right;\n    }\n</style>\n<table border=\"1\" class=\"dataframe\">\n  <thead>\n    <tr style=\"text-align: right;\">\n      <th></th>\n      <th>2018-09</th>\n      <th>2018-10</th>\n      <th>2018-11</th>\n      <th>2018-12</th>\n      <th>2019-01</th>\n      <th>2019-02</th>\n      <th>2019-03</th>\n      <th>2019-04</th>\n      <th>2019-05</th>\n      <th>2019-06</th>\n      <th>2019-07</th>\n      <th>2019-08</th>\n      <th>2019-09</th>\n      <th>2019-10</th>\n      <th>2019-11</th>\n      <th>State</th>\n      <th>Metro</th>\n      <th>CountyName</th>\n      <th>Bedrooms</th>\n    </tr>\n  </thead>\n  <tbody>\n    <tr>\n      <th>0</th>\n      <td>-0.033096</td>\n      <td>-0.028553</td>\n      <td>-0.025612</td>\n      <td>-0.023818</td>\n      <td>0.001697</td>\n      <td>-0.000910</td>\n      <td>0.019988</td>\n      <td>-0.005045</td>\n      <td>0.006239</td>\n      <td>0.028741</td>\n      <td>0.042540</td>\n      <td>0.006061</td>\n      <td>0.023217</td>\n      <td>0.040743</td>\n      <td>0.037771</td>\n      <td>4</td>\n      <td>164</td>\n      <td>231</td>\n      <td>2</td>\n    </tr>\n    <tr>\n      <th>1</th>\n      <td>-0.030491</td>\n      <td>-0.026480</td>\n      <td>-0.041732</td>\n      <td>-0.023818</td>\n      <td>-0.024171</td>\n      <td>-0.028092</td>\n      <td>-0.039703</td>\n      <td>-0.042102</td>\n      <td>-0.058190</td>\n      <td>-0.057561</td>\n      <td>-0.055283</td>\n      <td>-0.049669</td>\n      <td>-0.045969</td>\n      <td>-0.042676</td>\n      <td>-0.047940</td>\n      <td>9</td>\n      <td>178</td>\n      <td>255</td>\n      <td>0</td>\n    </tr>\n    <tr>\n      <th>2</th>\n      <td>-0.147727</td>\n      <td>-0.181416</td>\n      <td>-0.186812</td>\n      <td>-0.182867</td>\n      <td>-0.207073</td>\n      <td>-0.214102</td>\n      <td>-0.199782</td>\n      <td>-0.190330</td>\n      <td>-0.154834</td>\n      <td>-0.106105</td>\n      <td>-0.105956</td>\n      <td>-0.108186</td>\n      <td>-0.125121</td>\n      <td>-0.139999</td>\n      <td>-0.132808</td>\n      <td>6</td>\n      <td>196</td>\n      <td>274</td>\n      <td>1</td>\n    </tr>\n    <tr>\n      <th>3</th>\n      <td>-0.130011</td>\n      <td>-0.099025</td>\n      <td>-0.133079</td>\n      <td>-0.134967</td>\n      <td>-0.128686</td>\n      <td>-0.156007</td>\n      <td>-0.181333</td>\n      <td>-0.170043</td>\n      <td>-0.182753</td>\n      <td>-0.157886</td>\n      <td>-0.117879</td>\n      <td>-0.122676</td>\n      <td>-0.188328</td>\n      <td>-0.181709</td>\n      <td>-0.182830</td>\n      <td>39</td>\n      <td>222</td>\n      <td>202</td>\n      <td>1</td>\n    </tr>\n    <tr>\n      <th>4</th>\n      <td>-0.286846</td>\n      <td>-0.226239</td>\n      <td>-0.219052</td>\n      <td>-0.250879</td>\n      <td>-0.233724</td>\n      <td>-0.273795</td>\n      <td>-0.284977</td>\n      <td>-0.274722</td>\n      <td>-0.272416</td>\n      <td>-0.244188</td>\n      <td>-0.304313</td>\n      <td>-0.279000</td>\n      <td>-0.278868</td>\n      <td>-0.285149</td>\n      <td>-0.192666</td>\n      <td>5</td>\n      <td>96</td>\n      <td>218</td>\n      <td>0</td>\n    </tr>\n    <tr>\n      <th>...</th>\n      <td>...</td>\n      <td>...</td>\n      <td>...</td>\n      <td>...</td>\n      <td>...</td>\n      <td>...</td>\n      <td>...</td>\n      <td>...</td>\n      <td>...</td>\n      <td>...</td>\n      <td>...</td>\n      <td>...</td>\n      <td>...</td>\n      <td>...</td>\n      <td>...</td>\n      <td>...</td>\n      <td>...</td>\n      <td>...</td>\n      <td>...</td>\n    </tr>\n    <tr>\n      <th>3384</th>\n      <td>-0.439512</td>\n      <td>-0.435325</td>\n      <td>-0.440434</td>\n      <td>-0.441948</td>\n      <td>-0.437006</td>\n      <td>-0.449146</td>\n      <td>-0.450483</td>\n      <td>-0.467310</td>\n      <td>-0.472146</td>\n      <td>-0.478820</td>\n      <td>-0.496707</td>\n      <td>-0.519199</td>\n      <td>-0.512906</td>\n      <td>-0.484243</td>\n      <td>-0.488019</td>\n      <td>20</td>\n      <td>19</td>\n      <td>17</td>\n      <td>0</td>\n    </tr>\n    <tr>\n      <th>3385</th>\n      <td>-0.473380</td>\n      <td>-0.443097</td>\n      <td>-0.455479</td>\n      <td>-0.418925</td>\n      <td>-0.442755</td>\n      <td>-0.453943</td>\n      <td>-0.414669</td>\n      <td>-0.422950</td>\n      <td>-0.370134</td>\n      <td>-0.375797</td>\n      <td>-0.378019</td>\n      <td>-0.411917</td>\n      <td>-0.444574</td>\n      <td>-0.431967</td>\n      <td>-0.407647</td>\n      <td>9</td>\n      <td>202</td>\n      <td>244</td>\n      <td>1</td>\n    </tr>\n    <tr>\n      <th>3386</th>\n      <td>NaN</td>\n      <td>NaN</td>\n      <td>NaN</td>\n      <td>NaN</td>\n      <td>-0.468361</td>\n      <td>-0.481125</td>\n      <td>-0.460251</td>\n      <td>-0.487867</td>\n      <td>-0.490401</td>\n      <td>-0.484214</td>\n      <td>-0.443053</td>\n      <td>-0.479351</td>\n      <td>-0.502087</td>\n      <td>-0.487858</td>\n      <td>-0.490829</td>\n      <td>15</td>\n      <td>84</td>\n      <td>127</td>\n      <td>2</td>\n    </tr>\n    <tr>\n      <th>3387</th>\n      <td>0.071113</td>\n      <td>0.105915</td>\n      <td>0.100661</td>\n      <td>0.121733</td>\n      <td>0.098635</td>\n      <td>0.105686</td>\n      <td>0.082392</td>\n      <td>0.118027</td>\n      <td>0.105567</td>\n      <td>0.101558</td>\n      <td>0.110284</td>\n      <td>0.124210</td>\n      <td>0.147639</td>\n      <td>0.126943</td>\n      <td>0.126293</td>\n      <td>4</td>\n      <td>245</td>\n      <td>356</td>\n      <td>1</td>\n    </tr>\n    <tr>\n      <th>3388</th>\n      <td>-0.146685</td>\n      <td>-0.212507</td>\n      <td>-0.181439</td>\n      <td>-0.166988</td>\n      <td>-0.188782</td>\n      <td>-0.195447</td>\n      <td>-0.164511</td>\n      <td>-0.139478</td>\n      <td>-0.148391</td>\n      <td>-0.112038</td>\n      <td>-0.117879</td>\n      <td>-0.134658</td>\n      <td>-0.159856</td>\n      <td>-0.156961</td>\n      <td>-0.156133</td>\n      <td>4</td>\n      <td>234</td>\n      <td>336</td>\n      <td>0</td>\n    </tr>\n  </tbody>\n</table>\n<p>3389 rows × 19 columns</p>\n</div>"
     },
     "metadata": {},
     "execution_count": 26
    }
   ],
   "source": [
    "X = DF_Filt\n",
    "X"
   ]
  },
  {
   "cell_type": "code",
   "execution_count": 27,
   "metadata": {},
   "outputs": [
    {
     "output_type": "stream",
     "name": "stdout",
     "text": [
      "2018-09       209\n2018-10       144\n2018-11       107\n2018-12        60\n2019-01         0\n2019-02         0\n2019-03         0\n2019-04         0\n2019-05         0\n2019-06         0\n2019-07         0\n2019-08         0\n2019-09         0\n2019-10         0\n2019-11         0\nState           0\nMetro           0\nCountyName      0\nBedrooms        0\ndtype: int64\n2018-09       0\n2018-10       0\n2018-11       0\n2018-12       0\n2019-01       0\n2019-02       0\n2019-03       0\n2019-04       0\n2019-05       0\n2019-06       0\n2019-07       0\n2019-08       0\n2019-09       0\n2019-10       0\n2019-11       0\nState         0\nMetro         0\nCountyName    0\nBedrooms      0\ndtype: int64\n"
     ]
    }
   ],
   "source": [
    "print(X.isnull().sum())\n",
    "for col in X:\n",
    "    X.fillna(X[col].median(),inplace=True)\n",
    "    #X = X.fillna(X[col].median())\n",
    "print(X.isnull().sum())"
   ]
  },
  {
   "cell_type": "code",
   "execution_count": 176,
   "metadata": {},
   "outputs": [],
   "source": [
    "X_train, X_test, Y_train, Y_test = train_test_split(X, Y, test_size=0.3)\n",
    "model = LinearRegression()\n",
    "#model = Pipeline([('poly', PolynomialFeatures(degree=3)),('linear', LinearRegression(fit_intercept=False))])\n",
    "hist = model.fit(X_train,Y_train)"
   ]
  },
  {
   "cell_type": "code",
   "execution_count": 177,
   "metadata": {},
   "outputs": [],
   "source": [
    "Y_pred = model.predict(X_test)\n",
    "Y_pred = scY.inverse_transform(Y_pred)\n",
    "Y_test = scY.inverse_transform(Y_test)"
   ]
  },
  {
   "cell_type": "code",
   "execution_count": 178,
   "metadata": {},
   "outputs": [
    {
     "output_type": "stream",
     "name": "stdout",
     "text": [
      "145.34124619912478\n",
      "1756.5521140609637\n"
     ]
    }
   ],
   "source": [
    "err = mse(Y_pred,Y_test,squared=False)\n",
    "print(err)\n",
    "print(Y_test.mean())"
   ]
  },
  {
   "cell_type": "code",
   "execution_count": 179,
   "metadata": {},
   "outputs": [
    {
     "output_type": "stream",
     "name": "stdout",
     "text": [
      "0.03343407020369908\n"
     ]
    }
   ],
   "source": [
    "err2 = mape(Y_pred,Y_test)\n",
    "print(err2)"
   ]
  }
 ]
}