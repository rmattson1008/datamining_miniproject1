{
 "metadata": {
  "language_info": {
   "codemirror_mode": {
    "name": "ipython",
    "version": 3
   },
   "file_extension": ".py",
   "mimetype": "text/x-python",
   "name": "python",
   "nbconvert_exporter": "python",
   "pygments_lexer": "ipython3",
   "version": "3.8.0-final"
  },
  "orig_nbformat": 2,
  "kernelspec": {
   "name": "python3",
   "display_name": "Python 3",
   "language": "python"
  }
 },
 "nbformat": 4,
 "nbformat_minor": 2,
 "cells": [
  {
   "cell_type": "code",
   "execution_count": 1,
   "metadata": {},
   "outputs": [],
   "source": [
    "import numpy as np\n",
    "import pandas as pd\n",
    "from sklearn.linear_model import LinearRegression\n",
    "from sklearn.preprocessing import LabelEncoder\n",
    "from sklearn.model_selection import train_test_split\n",
    "from sklearn.metrics import mean_squared_error as mse\n",
    "from sklearn.preprocessing import StandardScaler\n",
    "from sklearn.metrics import mean_absolute_percentage_error as mape\n",
    "#from sklearn.model_selection import StratifiedKFold\n",
    "from sklearn.linear_model import Ridge\n",
    "from sklearn.preprocessing import PolynomialFeatures\n",
    "from sklearn.pipeline import make_pipeline\n",
    "from sklearn.model_selection import cross_validate\n",
    "from sklearn.pipeline import make_pipeline"
   ]
  },
  {
   "cell_type": "code",
   "execution_count": 2,
   "metadata": {},
   "outputs": [],
   "source": [
    "# DF = pd.read_csv(r'Datasets\\City_MedianRentalPrice_AllHomes.csv')\n",
    "DF = pd.read_csv(r'Datasets/City_MedianRentalPrice_AllHomes.csv')\n"
   ]
  },
  {
   "cell_type": "code",
   "execution_count": 5,
   "metadata": {},
   "outputs": [
    {
     "output_type": "execute_result",
     "data": {
      "text/plain": [
       "array(['RegionName', 'State', 'Metro', 'CountyName', 'Bedrooms',\n",
       "       '2010-02', '2010-03', '2010-04', '2010-05', '2010-06', '2010-07',\n",
       "       '2010-08', '2010-09', '2010-10', '2010-11', '2010-12', '2011-01',\n",
       "       '2011-02', '2011-03', '2011-04', '2011-05', '2011-06', '2011-07',\n",
       "       '2011-08', '2011-09', '2011-10', '2011-11', '2011-12', '2012-01',\n",
       "       '2012-02', '2012-03', '2012-04', '2012-05', '2012-06', '2012-07',\n",
       "       '2012-08', '2012-09', '2012-10', '2012-11', '2012-12', '2013-01',\n",
       "       '2013-02', '2013-03', '2013-04', '2013-05', '2013-06', '2013-07',\n",
       "       '2013-08', '2013-09', '2013-10', '2013-11', '2013-12', '2014-01',\n",
       "       '2014-02', '2014-03', '2014-04', '2014-05', '2014-06', '2014-07',\n",
       "       '2014-08', '2014-09', '2014-10', '2014-11', '2014-12', '2015-01',\n",
       "       '2015-02', '2015-03', '2015-04', '2015-05', '2015-06', '2015-07',\n",
       "       '2015-08', '2015-09', '2015-10', '2015-11', '2015-12', '2016-01',\n",
       "       '2016-02', '2016-03', '2016-04', '2016-05', '2016-06', '2016-07',\n",
       "       '2016-08', '2016-09', '2016-10', '2016-11', '2016-12', '2017-01',\n",
       "       '2017-02', '2017-03', '2017-04', '2017-05', '2017-06', '2017-07',\n",
       "       '2017-08', '2017-09', '2017-10', '2017-11', '2017-12', '2018-01',\n",
       "       '2018-02', '2018-03', '2018-04', '2018-05', '2018-06', '2018-07',\n",
       "       '2018-08', '2018-09', '2018-10', '2018-11', '2018-12', '2019-01',\n",
       "       '2019-02', '2019-03', '2019-04', '2019-05', '2019-06', '2019-07',\n",
       "       '2019-08', '2019-09', '2019-10', '2019-11', '2019-12'],\n",
       "      dtype=object)"
      ]
     },
     "metadata": {},
     "execution_count": 5
    }
   ],
   "source": [
    "DF.columns.to_numpy()"
   ]
  },
  {
   "cell_type": "code",
   "execution_count": 6,
   "metadata": {},
   "outputs": [
    {
     "output_type": "stream",
     "name": "stdout",
     "text": [
      "Index(['State', 'Metro', 'CountyName', 'Bedrooms'], dtype='object')\n"
     ]
    }
   ],
   "source": [
    "DF_Filt = DF.iloc[:,-16:-1]\n",
    "DF_Filt #Contains all numerical we want\n",
    "for x in DF_Filt.columns.to_numpy():\n",
    "   #sc = StandardScaler()\n",
    "   DF_Filt[x] = DF_Filt[x].values.reshape(-1,1)\n",
    "  \n",
    "DFLblColumns = DF.iloc[:,1:5]\n",
    "print(DFLblColumns.columns)\n",
    "for x in DFLblColumns.columns.to_numpy():\n",
    "   le = LabelEncoder() \n",
    "   DF_Filt[x] = le.fit_transform(DFLblColumns[x].values)\n"
   ]
  },
  {
   "cell_type": "code",
   "execution_count": 7,
   "metadata": {},
   "outputs": [
    {
     "output_type": "execute_result",
     "data": {
      "text/plain": [
       "0       2650.0\n",
       "1       2314.0\n",
       "2       1510.0\n",
       "3       1500.0\n",
       "4        855.0\n",
       "         ...  \n",
       "3384     935.0\n",
       "3385     757.0\n",
       "3386    1479.0\n",
       "3387    2041.0\n",
       "3388     864.5\n",
       "Name: 2019-12, Length: 3389, dtype: float64"
      ]
     },
     "metadata": {},
     "execution_count": 7
    }
   ],
   "source": [
    "Y = DF.iloc[:,-1]\n",
    "# scY = StandardScaler()\n",
    "# Y = scY.fit_transform(Y.values.reshape(-1,1))\n",
    "Y"
   ]
  },
  {
   "cell_type": "code",
   "execution_count": 8,
   "metadata": {},
   "outputs": [
    {
     "output_type": "execute_result",
     "data": {
      "text/plain": [
       "      2018-09  2018-10  2018-11  2018-12  2019-01  2019-02  2019-03  2019-04  \\\n",
       "0      2350.0   2325.0   2372.5   2495.0   2572.5   2495.0   2595.0   2422.5   \n",
       "1         NaN      NaN   2295.0   2295.0   2280.0   2280.0   2280.0   2280.0   \n",
       "2      1357.0   1385.0   1389.0   1389.0   1433.0   1479.0   1500.0   1521.0   \n",
       "3      1350.0   1400.0   1425.0   1547.5   1600.0   1725.0   1697.5   1700.0   \n",
       "4       850.0    850.0    850.0    850.0    850.0    875.0    900.0    877.5   \n",
       "...       ...      ...      ...      ...      ...      ...      ...      ...   \n",
       "3384    880.0    852.0    850.0    850.0    849.0    875.0    875.0    904.5   \n",
       "3385    700.0    725.0    725.0    725.0    723.0    709.0    750.0    750.0   \n",
       "3386   1399.0   1440.0   1440.0   1440.0   1420.0   1420.0   1410.0   1400.0   \n",
       "3387   1917.0   1887.5   1909.5   1963.0   2004.5   1999.0   1999.0   2019.0   \n",
       "3388    789.0    759.0    749.0    749.0    710.0    749.0    749.0    710.0   \n",
       "\n",
       "      2019-05  2019-06  2019-07  2019-08  2019-09  2019-10  2019-11  State  \\\n",
       "0      2497.5   2400.0   2500.0   2675.0   2800.0   2400.0   2595.0     31   \n",
       "1      2280.0   2300.0   2300.0   2315.0   2315.0   2315.0   2325.0     20   \n",
       "2      1536.0   1560.0   1556.0   1550.0   1509.0   1526.0   1535.0      3   \n",
       "3      1600.0   1600.0   1550.0   1500.0   1600.0   1595.0   1500.0     43   \n",
       "4       850.0    850.0    887.5    850.0    830.0    850.0    850.0     43   \n",
       "...       ...      ...      ...      ...      ...      ...      ...    ...   \n",
       "3384    945.0    927.5    900.0    895.0    900.0    924.0    925.0     17   \n",
       "3385    775.0    770.0    750.0    750.0    775.0    785.0    770.0     27   \n",
       "3386   1430.0   1420.0   1450.0   1442.0   1500.0   1500.0   1467.0      5   \n",
       "3387   2014.5   2050.0   2095.0   2087.0   2038.0   2065.0   2053.0     20   \n",
       "3388    749.0    749.0    849.0    899.0    899.0    869.0    869.0     35   \n",
       "\n",
       "      Metro  CountyName  Bedrooms  \n",
       "0       198         261         1  \n",
       "1       295         321         1  \n",
       "2       215         242         2  \n",
       "3       166         233         3  \n",
       "4       173         176         1  \n",
       "...     ...         ...       ...  \n",
       "3384    165         193         0  \n",
       "3385    134         290         1  \n",
       "3386     71         193         0  \n",
       "3387     19          10         1  \n",
       "3388     69         265         1  \n",
       "\n",
       "[3389 rows x 19 columns]"
      ],
      "text/html": "<div>\n<style scoped>\n    .dataframe tbody tr th:only-of-type {\n        vertical-align: middle;\n    }\n\n    .dataframe tbody tr th {\n        vertical-align: top;\n    }\n\n    .dataframe thead th {\n        text-align: right;\n    }\n</style>\n<table border=\"1\" class=\"dataframe\">\n  <thead>\n    <tr style=\"text-align: right;\">\n      <th></th>\n      <th>2018-09</th>\n      <th>2018-10</th>\n      <th>2018-11</th>\n      <th>2018-12</th>\n      <th>2019-01</th>\n      <th>2019-02</th>\n      <th>2019-03</th>\n      <th>2019-04</th>\n      <th>2019-05</th>\n      <th>2019-06</th>\n      <th>2019-07</th>\n      <th>2019-08</th>\n      <th>2019-09</th>\n      <th>2019-10</th>\n      <th>2019-11</th>\n      <th>State</th>\n      <th>Metro</th>\n      <th>CountyName</th>\n      <th>Bedrooms</th>\n    </tr>\n  </thead>\n  <tbody>\n    <tr>\n      <th>0</th>\n      <td>2350.0</td>\n      <td>2325.0</td>\n      <td>2372.5</td>\n      <td>2495.0</td>\n      <td>2572.5</td>\n      <td>2495.0</td>\n      <td>2595.0</td>\n      <td>2422.5</td>\n      <td>2497.5</td>\n      <td>2400.0</td>\n      <td>2500.0</td>\n      <td>2675.0</td>\n      <td>2800.0</td>\n      <td>2400.0</td>\n      <td>2595.0</td>\n      <td>31</td>\n      <td>198</td>\n      <td>261</td>\n      <td>1</td>\n    </tr>\n    <tr>\n      <th>1</th>\n      <td>NaN</td>\n      <td>NaN</td>\n      <td>2295.0</td>\n      <td>2295.0</td>\n      <td>2280.0</td>\n      <td>2280.0</td>\n      <td>2280.0</td>\n      <td>2280.0</td>\n      <td>2280.0</td>\n      <td>2300.0</td>\n      <td>2300.0</td>\n      <td>2315.0</td>\n      <td>2315.0</td>\n      <td>2315.0</td>\n      <td>2325.0</td>\n      <td>20</td>\n      <td>295</td>\n      <td>321</td>\n      <td>1</td>\n    </tr>\n    <tr>\n      <th>2</th>\n      <td>1357.0</td>\n      <td>1385.0</td>\n      <td>1389.0</td>\n      <td>1389.0</td>\n      <td>1433.0</td>\n      <td>1479.0</td>\n      <td>1500.0</td>\n      <td>1521.0</td>\n      <td>1536.0</td>\n      <td>1560.0</td>\n      <td>1556.0</td>\n      <td>1550.0</td>\n      <td>1509.0</td>\n      <td>1526.0</td>\n      <td>1535.0</td>\n      <td>3</td>\n      <td>215</td>\n      <td>242</td>\n      <td>2</td>\n    </tr>\n    <tr>\n      <th>3</th>\n      <td>1350.0</td>\n      <td>1400.0</td>\n      <td>1425.0</td>\n      <td>1547.5</td>\n      <td>1600.0</td>\n      <td>1725.0</td>\n      <td>1697.5</td>\n      <td>1700.0</td>\n      <td>1600.0</td>\n      <td>1600.0</td>\n      <td>1550.0</td>\n      <td>1500.0</td>\n      <td>1600.0</td>\n      <td>1595.0</td>\n      <td>1500.0</td>\n      <td>43</td>\n      <td>166</td>\n      <td>233</td>\n      <td>3</td>\n    </tr>\n    <tr>\n      <th>4</th>\n      <td>850.0</td>\n      <td>850.0</td>\n      <td>850.0</td>\n      <td>850.0</td>\n      <td>850.0</td>\n      <td>875.0</td>\n      <td>900.0</td>\n      <td>877.5</td>\n      <td>850.0</td>\n      <td>850.0</td>\n      <td>887.5</td>\n      <td>850.0</td>\n      <td>830.0</td>\n      <td>850.0</td>\n      <td>850.0</td>\n      <td>43</td>\n      <td>173</td>\n      <td>176</td>\n      <td>1</td>\n    </tr>\n    <tr>\n      <th>...</th>\n      <td>...</td>\n      <td>...</td>\n      <td>...</td>\n      <td>...</td>\n      <td>...</td>\n      <td>...</td>\n      <td>...</td>\n      <td>...</td>\n      <td>...</td>\n      <td>...</td>\n      <td>...</td>\n      <td>...</td>\n      <td>...</td>\n      <td>...</td>\n      <td>...</td>\n      <td>...</td>\n      <td>...</td>\n      <td>...</td>\n      <td>...</td>\n    </tr>\n    <tr>\n      <th>3384</th>\n      <td>880.0</td>\n      <td>852.0</td>\n      <td>850.0</td>\n      <td>850.0</td>\n      <td>849.0</td>\n      <td>875.0</td>\n      <td>875.0</td>\n      <td>904.5</td>\n      <td>945.0</td>\n      <td>927.5</td>\n      <td>900.0</td>\n      <td>895.0</td>\n      <td>900.0</td>\n      <td>924.0</td>\n      <td>925.0</td>\n      <td>17</td>\n      <td>165</td>\n      <td>193</td>\n      <td>0</td>\n    </tr>\n    <tr>\n      <th>3385</th>\n      <td>700.0</td>\n      <td>725.0</td>\n      <td>725.0</td>\n      <td>725.0</td>\n      <td>723.0</td>\n      <td>709.0</td>\n      <td>750.0</td>\n      <td>750.0</td>\n      <td>775.0</td>\n      <td>770.0</td>\n      <td>750.0</td>\n      <td>750.0</td>\n      <td>775.0</td>\n      <td>785.0</td>\n      <td>770.0</td>\n      <td>27</td>\n      <td>134</td>\n      <td>290</td>\n      <td>1</td>\n    </tr>\n    <tr>\n      <th>3386</th>\n      <td>1399.0</td>\n      <td>1440.0</td>\n      <td>1440.0</td>\n      <td>1440.0</td>\n      <td>1420.0</td>\n      <td>1420.0</td>\n      <td>1410.0</td>\n      <td>1400.0</td>\n      <td>1430.0</td>\n      <td>1420.0</td>\n      <td>1450.0</td>\n      <td>1442.0</td>\n      <td>1500.0</td>\n      <td>1500.0</td>\n      <td>1467.0</td>\n      <td>5</td>\n      <td>71</td>\n      <td>193</td>\n      <td>0</td>\n    </tr>\n    <tr>\n      <th>3387</th>\n      <td>1917.0</td>\n      <td>1887.5</td>\n      <td>1909.5</td>\n      <td>1963.0</td>\n      <td>2004.5</td>\n      <td>1999.0</td>\n      <td>1999.0</td>\n      <td>2019.0</td>\n      <td>2014.5</td>\n      <td>2050.0</td>\n      <td>2095.0</td>\n      <td>2087.0</td>\n      <td>2038.0</td>\n      <td>2065.0</td>\n      <td>2053.0</td>\n      <td>20</td>\n      <td>19</td>\n      <td>10</td>\n      <td>1</td>\n    </tr>\n    <tr>\n      <th>3388</th>\n      <td>789.0</td>\n      <td>759.0</td>\n      <td>749.0</td>\n      <td>749.0</td>\n      <td>710.0</td>\n      <td>749.0</td>\n      <td>749.0</td>\n      <td>710.0</td>\n      <td>749.0</td>\n      <td>749.0</td>\n      <td>849.0</td>\n      <td>899.0</td>\n      <td>899.0</td>\n      <td>869.0</td>\n      <td>869.0</td>\n      <td>35</td>\n      <td>69</td>\n      <td>265</td>\n      <td>1</td>\n    </tr>\n  </tbody>\n</table>\n<p>3389 rows × 19 columns</p>\n</div>"
     },
     "metadata": {},
     "execution_count": 8
    }
   ],
   "source": [
    "X = DF_Filt\n",
    "X"
   ]
  },
  {
   "cell_type": "code",
   "execution_count": 9,
   "metadata": {},
   "outputs": [
    {
     "output_type": "stream",
     "name": "stdout",
     "text": [
      "2018-09       209\n2018-10       144\n2018-11       107\n2018-12        60\n2019-01         0\n2019-02         0\n2019-03         0\n2019-04         0\n2019-05         0\n2019-06         0\n2019-07         0\n2019-08         0\n2019-09         0\n2019-10         0\n2019-11         0\nState           0\nMetro           0\nCountyName      0\nBedrooms        0\ndtype: int64\n2018-09       0\n2018-10       0\n2018-11       0\n2018-12       0\n2019-01       0\n2019-02       0\n2019-03       0\n2019-04       0\n2019-05       0\n2019-06       0\n2019-07       0\n2019-08       0\n2019-09       0\n2019-10       0\n2019-11       0\nState         0\nMetro         0\nCountyName    0\nBedrooms      0\ndtype: int64\n"
     ]
    }
   ],
   "source": [
    "print(X.isnull().sum())\n",
    "for col in X:\n",
    "    X.fillna(X[col].median(),inplace=True)\n",
    "    #X = X.fillna(X[col].median())\n",
    "print(X.isnull().sum())"
   ]
  },
  {
   "cell_type": "code",
   "execution_count": 10,
   "metadata": {},
   "outputs": [],
   "source": [
    "\n",
    "# for train_index, test_index in skf.split(X, Y):\n",
    "#      print(\"TRAIN:\", train_index, \"TEST:\", test_index)\n",
    "#      X_train, X_test = X[train_index], X[test_index]\n",
    "#      Y_train, Y_test = Y[train_index], Y[test_index]"
   ]
  },
  {
   "cell_type": "code",
   "execution_count": 11,
   "metadata": {},
   "outputs": [],
   "source": [
    "#X_train, X_test, Y_train, Y_test = train_test_split(X, Y, test_size=0.3, random_state=42)"
   ]
  },
  {
   "cell_type": "code",
   "execution_count": 12,
   "metadata": {},
   "outputs": [],
   "source": [
    "#model = make_pipeline(StandardScaler(),LinearRegression())\n",
    "model = LinearRegression()\n",
    "hist = model.fit(X,Y)\n",
    "# Y_pred = model.predict(X_test)\n",
    "# Y_pred = scY.inverse_transform(Y_pred)\n",
    "# Y_test = scY.inverse_transform(Y_test)\n",
    "scores = cross_validate(model, X, Y, cv=10,scoring=('r2', 'neg_root_mean_squared_error','neg_mean_absolute_percentage_error'))\n",
    "meanR2 = np.absolute(scores['test_r2']).mean()\n",
    "medianR2 = np.median(np.absolute(scores['test_r2']))\n",
    "meanRMSE = np.absolute(scores['test_neg_root_mean_squared_error']).mean()\n",
    "medianRMSE = np.median(np.absolute(scores['test_neg_root_mean_squared_error']))\n",
    "meanMAPE = np.absolute(scores['test_neg_mean_absolute_percentage_error']).mean()\n",
    "medianMAPE = np.median(np.absolute(scores['test_neg_mean_absolute_percentage_error']))"
   ]
  },
  {
   "cell_type": "code",
   "execution_count": 13,
   "metadata": {},
   "outputs": [
    {
     "output_type": "execute_result",
     "data": {
      "text/plain": [
       "Index(['2018-09', '2018-10', '2018-11', '2018-12', '2019-01', '2019-02',\n",
       "       '2019-03', '2019-04', '2019-05', '2019-06', '2019-07', '2019-08',\n",
       "       '2019-09', '2019-10', '2019-11', 'State', 'Metro', 'CountyName',\n",
       "       'Bedrooms'],\n",
       "      dtype='object')"
      ]
     },
     "metadata": {},
     "execution_count": 13
    }
   ],
   "source": [
    "X.columns"
   ]
  },
  {
   "cell_type": "code",
   "execution_count": 14,
   "metadata": {},
   "outputs": [
    {
     "output_type": "execute_result",
     "data": {
      "text/plain": [
       "array([-2.98143140e-02,  5.63455517e-02,  4.02289697e-02,  4.57733977e-02,\n",
       "       -2.01314473e-01,  2.78258116e-01,  1.13063652e-01, -3.76669114e-02,\n",
       "        5.54067044e-02, -4.25838450e-01,  7.76748014e-02,  1.97765599e-01,\n",
       "        2.38415373e-01, -1.22770469e-01,  7.52752773e-01,  4.82342570e-01,\n",
       "       -4.96022597e-02, -5.54577404e-03, -8.35780282e+00])"
      ]
     },
     "metadata": {},
     "execution_count": 14
    }
   ],
   "source": [
    "model.coef_"
   ]
  },
  {
   "cell_type": "code",
   "execution_count": 15,
   "metadata": {},
   "outputs": [
    {
     "output_type": "stream",
     "name": "stdout",
     "text": [
      "Average R2 score  0.9929186599424872\nMedian R2 score  0.9926713377413348\nAverage Root Mean Square Error  125.88566243625921\nMedian Root Mean Square Error  86.52542674679867\nAverage Mean Absolute Percentage Error  0.030520214850134657\nMedian Mean Absolute Percentage Error  0.03133237167564033\n"
     ]
    }
   ],
   "source": [
    "print('Average R2 score ',meanR2)\n",
    "print('Median R2 score ',medianR2)\n",
    "print('Average Root Mean Square Error ',meanRMSE)\n",
    "print('Median Root Mean Square Error ',medianRMSE)\n",
    "print('Average Mean Absolute Percentage Error ',meanMAPE)\n",
    "print('Median Mean Absolute Percentage Error ',medianMAPE)"
   ]
  },
  {
   "cell_type": "code",
   "execution_count": 16,
   "metadata": {},
   "outputs": [],
   "source": [
    "# err = mse(Y_pred,Y_test,squared=False)\n",
    "# print(err)\n",
    "# print(Y_test.mean())"
   ]
  },
  {
   "cell_type": "code",
   "execution_count": 17,
   "metadata": {},
   "outputs": [],
   "source": [
    "# err2 = mape(Y_pred,Y_test)\n",
    "# print(err2)"
   ]
  },
  {
   "source": [
    "## Polynomial Regression"
   ],
   "cell_type": "markdown",
   "metadata": {}
  },
  {
   "cell_type": "code",
   "execution_count": 18,
   "metadata": {},
   "outputs": [],
   "source": [
    "#polymodel = Pipeline([('poly', PolynomialFeatures(degree=3)),('linear', LinearRegression(fit_intercept=False))])"
   ]
  },
  {
   "cell_type": "code",
   "execution_count": 19,
   "metadata": {},
   "outputs": [
    {
     "output_type": "stream",
     "name": "stdout",
     "text": [
      "-----\n",
      "Polynomial Degree: 1\n",
      "-----\n",
      "Average R2 score  0.9929192722442609\n",
      "Median R2 score  0.9926728875649589\n",
      "Average Root Mean Square Error  125.87885334202579\n",
      "Median Root Mean Square Error  86.52427329323567\n",
      "Average Mean Absolute Percentage Error  0.030519582384553073\n",
      "Median Mean Absolute Percentage Error  0.031331335815745334\n",
      "----------\n",
      "-----\n",
      "Polynomial Degree: 2\n",
      "-----\n",
      "Average R2 score  1.0687881831338841\n",
      "Median R2 score  0.9663556709481932\n",
      "Average Root Mean Square Error  820.243124062937\n",
      "Median Root Mean Square Error  281.7875727274034\n",
      "Average Mean Absolute Percentage Error  0.0264891197110304\n",
      "Median Mean Absolute Percentage Error  0.025675480359539603\n",
      "----------\n",
      "-----\n",
      "Polynomial Degree: 3\n",
      "-----\n",
      "Average R2 score  765.399208325224\n",
      "Median R2 score  4.205986970353044\n",
      "Average Root Mean Square Error  33571.71357109518\n",
      "Median Root Mean Square Error  2176.3302312921687\n",
      "Average Mean Absolute Percentage Error  0.09282514053253084\n",
      "Median Mean Absolute Percentage Error  0.040044775350251326\n",
      "----------\n"
     ]
    }
   ],
   "source": [
    "#X_train, X_test, Y_train, Y_test = train_test_split(X, Y, test_size=0.3, random_state=42)\n",
    "\n",
    "for _,degree in enumerate([1,2,3]):\n",
    "    polymodel = make_pipeline(StandardScaler(),PolynomialFeatures(degree),Ridge(alpha=1e-3))\n",
    "    scores = cross_validate(polymodel, X, Y, cv=10,scoring=('r2', 'neg_root_mean_squared_error','neg_mean_absolute_percentage_error'))\n",
    "    print('-'*5)\n",
    "    print('Polynomial Degree: '+str(degree))\n",
    "    print('-'*5)\n",
    "    meanR2 = np.absolute(scores['test_r2']).mean()\n",
    "    medianR2 = np.median(np.absolute(scores['test_r2']))\n",
    "    meanRMSE = np.absolute(scores['test_neg_root_mean_squared_error']).mean()\n",
    "    medianRMSE = np.median(np.absolute(scores['test_neg_root_mean_squared_error']))\n",
    "    meanMAPE = np.absolute(scores['test_neg_mean_absolute_percentage_error']).mean()\n",
    "    medianMAPE = np.median(np.absolute(scores['test_neg_mean_absolute_percentage_error']))\n",
    "    print('Average R2 score ',meanR2)\n",
    "    print('Median R2 score ',medianR2)\n",
    "    print('Average Root Mean Square Error ',meanRMSE)\n",
    "    print('Median Root Mean Square Error ',medianRMSE)\n",
    "    print('Average Mean Absolute Percentage Error ',meanMAPE)\n",
    "    print('Median Mean Absolute Percentage Error ',medianMAPE)    \n",
    "    print('-'*10)\n",
    "# for count, degree in enumerate([2,3,4,5]):\n",
    "#     model = make_pipeline(PolynomialFeatures(degree), scY, Ridge(alpha=1e-3))\n",
    "#     model.fit(X_train, Y_train)\n",
    "#     Y_pred = model.predict(X_test)\n",
    "#     # err = mse(Y_pred,Y_test,squared=False)\n",
    "#     err = mape(Y_pred,Y_test)\n",
    "#     print(\"With degree of\", degree, \"the error is\", err)\n"
   ]
  },
  {
   "cell_type": "code",
   "execution_count": null,
   "metadata": {},
   "outputs": [],
   "source": []
  }
 ]
}