{
 "cells": [
  {
   "cell_type": "code",
   "execution_count": 6,
   "metadata": {},
   "outputs": [],
   "source": [
    "import numpy as np\n",
    "import pandas as pd\n",
    "from sklearn.linear_model import LinearRegression\n",
    "from sklearn.preprocessing import LabelEncoder\n",
    "from sklearn.model_selection import train_test_split\n",
    "from sklearn.metrics import mean_squared_error as mse\n",
    "from sklearn.preprocessing import StandardScaler\n",
    "from sklearn.metrics import mean_absolute_percentage_error as mape\n",
    "\n",
    "from sklearn.linear_model import Ridge\n",
    "from sklearn.preprocessing import PolynomialFeatures\n",
    "from sklearn.pipeline import make_pipeline"
   ]
  },
  {
   "cell_type": "code",
   "execution_count": 7,
   "metadata": {},
   "outputs": [],
   "source": [
    "# DF = pd.read_csv(r'Datasets\\City_MedianRentalPrice_AllHomes.csv')\n",
    "DF = pd.read_csv(r'Datasets/City_MedianRentalPrice_AllHomes_ALTERED.csv')\n"
   ]
  },
  {
   "cell_type": "code",
   "execution_count": 8,
   "metadata": {},
   "outputs": [
    {
     "output_type": "execute_result",
     "data": {
      "text/plain": [
       "array(['RegionName', 'State', 'Metro', 'CountyName', 'Bedrooms',\n",
       "       '2010-02', '2010-03', '2010-04', '2010-05', '2010-06', '2010-07',\n",
       "       '2010-08', '2010-09', '2010-10', '2010-11', '2010-12', '2011-01',\n",
       "       '2011-02', '2011-03', '2011-04', '2011-05', '2011-06', '2011-07',\n",
       "       '2011-08', '2011-09', '2011-10', '2011-11', '2011-12', '2012-01',\n",
       "       '2012-02', '2012-03', '2012-04', '2012-05', '2012-06', '2012-07',\n",
       "       '2012-08', '2012-09', '2012-10', '2012-11', '2012-12', '2013-01',\n",
       "       '2013-02', '2013-03', '2013-04', '2013-05', '2013-06', '2013-07',\n",
       "       '2013-08', '2013-09', '2013-10', '2013-11', '2013-12', '2014-01',\n",
       "       '2014-02', '2014-03', '2014-04', '2014-05', '2014-06', '2014-07',\n",
       "       '2014-08', '2014-09', '2014-10', '2014-11', '2014-12', '2015-01',\n",
       "       '2015-02', '2015-03', '2015-04', '2015-05', '2015-06', '2015-07',\n",
       "       '2015-08', '2015-09', '2015-10', '2015-11', '2015-12', '2016-01',\n",
       "       '2016-02', '2016-03', '2016-04', '2016-05', '2016-06', '2016-07',\n",
       "       '2016-08', '2016-09', '2016-10', '2016-11', '2016-12', '2017-01',\n",
       "       '2017-02', '2017-03', '2017-04', '2017-05', '2017-06', '2017-07',\n",
       "       '2017-08', '2017-09', '2017-10', '2017-11', '2017-12', '2018-01',\n",
       "       '2018-02', '2018-03', '2018-04', '2018-05', '2018-06', '2018-07',\n",
       "       '2018-08', '2018-09', '2018-10', '2018-11', '2018-12', '2019-01',\n",
       "       '2019-02', '2019-03', '2019-04', '2019-05', '2019-06', '2019-07',\n",
       "       '2019-08', '2019-09', '2019-10', '2019-11', '2019-12'],\n",
       "      dtype=object)"
      ]
     },
     "metadata": {},
     "execution_count": 8
    }
   ],
   "source": [
    "DF.columns.to_numpy()"
   ]
  },
  {
   "cell_type": "code",
   "execution_count": 9,
   "metadata": {},
   "outputs": [
    {
     "output_type": "execute_result",
     "data": {
      "text/plain": [
       "      2018-09  2018-10  2018-11  2018-12  2019-01  2019-02  2019-03  2019-04  \\\n",
       "0     20000.0  20000.0  18000.0  20000.0  20000.0  21000.0  23000.0  23000.0   \n",
       "1      4700.0   4500.0   4497.5   4450.0   4375.0   4390.0   4500.0   4525.0   \n",
       "2      1297.5   1300.0   1350.0   1300.0   1300.0   1300.0   1325.0   1300.0   \n",
       "3      2050.0   2100.0   2125.0   2125.0   2100.0   2100.0   2100.0   2200.0   \n",
       "4      1492.0   1495.0   1520.0   1495.0   1511.0   1510.0   1530.0   1515.0   \n",
       "...       ...      ...      ...      ...      ...      ...      ...      ...   \n",
       "3384   1125.0   1150.0   1150.0   1195.0   1200.0   1250.0   1250.0   1250.0   \n",
       "3385   1050.0   1000.0   1025.0    955.0    950.0   1000.0   1100.0   1100.0   \n",
       "3386   1370.0   1285.0   1500.0   1500.0   1395.0   1395.0   1457.5   1450.0   \n",
       "3387   1338.0   1345.0   1364.0   1384.5   1392.0   1385.5   1392.0   1384.0   \n",
       "3388   1295.0   1225.0   1199.0   1100.0   1140.0   1085.0   1199.0   1200.0   \n",
       "\n",
       "      2019-05  2019-06  2019-07  2019-08  2019-09  2019-10  2019-11  \\\n",
       "0     23125.0  23000.0  24750.0  22000.0  20250.0  20500.0  20000.0   \n",
       "1      4695.0   4700.0   4800.0   4650.0   4295.0   4500.0   4500.0   \n",
       "2      1345.0   1350.0   1400.0   1350.0   1300.0   1300.0   1300.0   \n",
       "3      2145.0   2100.0   2150.0   2100.0   2060.0   2100.0   2100.0   \n",
       "4      1500.0   1525.0   1500.0   1500.0   1493.0   1495.0   1483.5   \n",
       "...       ...      ...      ...      ...      ...      ...      ...   \n",
       "3384   1250.0   1250.0   1200.0   1200.0   1200.0   1200.0   1250.0   \n",
       "3385   1187.5   1100.0   1100.0    975.0   1025.0   1100.0   1100.0   \n",
       "3386   1450.0   1600.0   1500.0   1450.0   1445.0   1300.0   1400.0   \n",
       "3387   1387.5   1361.0   1389.0   1400.0   1410.0   1398.0   1391.5   \n",
       "3388   1192.5   1266.0   1323.5   1150.0   1190.0   1132.5   1210.0   \n",
       "\n",
       "             Metro    CountyName  \n",
       "0     21241.666667  21241.666667  \n",
       "1      4538.500000   4538.500000  \n",
       "2      1321.166667   1321.166667  \n",
       "3      2110.333333   2110.333333  \n",
       "4      1504.300000   1504.300000  \n",
       "...            ...           ...  \n",
       "3384   1208.000000   1208.000000  \n",
       "3385   1051.166667   1051.166667  \n",
       "3386   1433.166667   1433.166667  \n",
       "3387   1381.466667   1381.466667  \n",
       "3388   1193.833333   1193.833333  \n",
       "\n",
       "[3389 rows x 17 columns]"
      ],
      "text/html": "<div>\n<style scoped>\n    .dataframe tbody tr th:only-of-type {\n        vertical-align: middle;\n    }\n\n    .dataframe tbody tr th {\n        vertical-align: top;\n    }\n\n    .dataframe thead th {\n        text-align: right;\n    }\n</style>\n<table border=\"1\" class=\"dataframe\">\n  <thead>\n    <tr style=\"text-align: right;\">\n      <th></th>\n      <th>2018-09</th>\n      <th>2018-10</th>\n      <th>2018-11</th>\n      <th>2018-12</th>\n      <th>2019-01</th>\n      <th>2019-02</th>\n      <th>2019-03</th>\n      <th>2019-04</th>\n      <th>2019-05</th>\n      <th>2019-06</th>\n      <th>2019-07</th>\n      <th>2019-08</th>\n      <th>2019-09</th>\n      <th>2019-10</th>\n      <th>2019-11</th>\n      <th>Metro</th>\n      <th>CountyName</th>\n    </tr>\n  </thead>\n  <tbody>\n    <tr>\n      <th>0</th>\n      <td>20000.0</td>\n      <td>20000.0</td>\n      <td>18000.0</td>\n      <td>20000.0</td>\n      <td>20000.0</td>\n      <td>21000.0</td>\n      <td>23000.0</td>\n      <td>23000.0</td>\n      <td>23125.0</td>\n      <td>23000.0</td>\n      <td>24750.0</td>\n      <td>22000.0</td>\n      <td>20250.0</td>\n      <td>20500.0</td>\n      <td>20000.0</td>\n      <td>21241.666667</td>\n      <td>21241.666667</td>\n    </tr>\n    <tr>\n      <th>1</th>\n      <td>4700.0</td>\n      <td>4500.0</td>\n      <td>4497.5</td>\n      <td>4450.0</td>\n      <td>4375.0</td>\n      <td>4390.0</td>\n      <td>4500.0</td>\n      <td>4525.0</td>\n      <td>4695.0</td>\n      <td>4700.0</td>\n      <td>4800.0</td>\n      <td>4650.0</td>\n      <td>4295.0</td>\n      <td>4500.0</td>\n      <td>4500.0</td>\n      <td>4538.500000</td>\n      <td>4538.500000</td>\n    </tr>\n    <tr>\n      <th>2</th>\n      <td>1297.5</td>\n      <td>1300.0</td>\n      <td>1350.0</td>\n      <td>1300.0</td>\n      <td>1300.0</td>\n      <td>1300.0</td>\n      <td>1325.0</td>\n      <td>1300.0</td>\n      <td>1345.0</td>\n      <td>1350.0</td>\n      <td>1400.0</td>\n      <td>1350.0</td>\n      <td>1300.0</td>\n      <td>1300.0</td>\n      <td>1300.0</td>\n      <td>1321.166667</td>\n      <td>1321.166667</td>\n    </tr>\n    <tr>\n      <th>3</th>\n      <td>2050.0</td>\n      <td>2100.0</td>\n      <td>2125.0</td>\n      <td>2125.0</td>\n      <td>2100.0</td>\n      <td>2100.0</td>\n      <td>2100.0</td>\n      <td>2200.0</td>\n      <td>2145.0</td>\n      <td>2100.0</td>\n      <td>2150.0</td>\n      <td>2100.0</td>\n      <td>2060.0</td>\n      <td>2100.0</td>\n      <td>2100.0</td>\n      <td>2110.333333</td>\n      <td>2110.333333</td>\n    </tr>\n    <tr>\n      <th>4</th>\n      <td>1492.0</td>\n      <td>1495.0</td>\n      <td>1520.0</td>\n      <td>1495.0</td>\n      <td>1511.0</td>\n      <td>1510.0</td>\n      <td>1530.0</td>\n      <td>1515.0</td>\n      <td>1500.0</td>\n      <td>1525.0</td>\n      <td>1500.0</td>\n      <td>1500.0</td>\n      <td>1493.0</td>\n      <td>1495.0</td>\n      <td>1483.5</td>\n      <td>1504.300000</td>\n      <td>1504.300000</td>\n    </tr>\n    <tr>\n      <th>...</th>\n      <td>...</td>\n      <td>...</td>\n      <td>...</td>\n      <td>...</td>\n      <td>...</td>\n      <td>...</td>\n      <td>...</td>\n      <td>...</td>\n      <td>...</td>\n      <td>...</td>\n      <td>...</td>\n      <td>...</td>\n      <td>...</td>\n      <td>...</td>\n      <td>...</td>\n      <td>...</td>\n      <td>...</td>\n    </tr>\n    <tr>\n      <th>3384</th>\n      <td>1125.0</td>\n      <td>1150.0</td>\n      <td>1150.0</td>\n      <td>1195.0</td>\n      <td>1200.0</td>\n      <td>1250.0</td>\n      <td>1250.0</td>\n      <td>1250.0</td>\n      <td>1250.0</td>\n      <td>1250.0</td>\n      <td>1200.0</td>\n      <td>1200.0</td>\n      <td>1200.0</td>\n      <td>1200.0</td>\n      <td>1250.0</td>\n      <td>1208.000000</td>\n      <td>1208.000000</td>\n    </tr>\n    <tr>\n      <th>3385</th>\n      <td>1050.0</td>\n      <td>1000.0</td>\n      <td>1025.0</td>\n      <td>955.0</td>\n      <td>950.0</td>\n      <td>1000.0</td>\n      <td>1100.0</td>\n      <td>1100.0</td>\n      <td>1187.5</td>\n      <td>1100.0</td>\n      <td>1100.0</td>\n      <td>975.0</td>\n      <td>1025.0</td>\n      <td>1100.0</td>\n      <td>1100.0</td>\n      <td>1051.166667</td>\n      <td>1051.166667</td>\n    </tr>\n    <tr>\n      <th>3386</th>\n      <td>1370.0</td>\n      <td>1285.0</td>\n      <td>1500.0</td>\n      <td>1500.0</td>\n      <td>1395.0</td>\n      <td>1395.0</td>\n      <td>1457.5</td>\n      <td>1450.0</td>\n      <td>1450.0</td>\n      <td>1600.0</td>\n      <td>1500.0</td>\n      <td>1450.0</td>\n      <td>1445.0</td>\n      <td>1300.0</td>\n      <td>1400.0</td>\n      <td>1433.166667</td>\n      <td>1433.166667</td>\n    </tr>\n    <tr>\n      <th>3387</th>\n      <td>1338.0</td>\n      <td>1345.0</td>\n      <td>1364.0</td>\n      <td>1384.5</td>\n      <td>1392.0</td>\n      <td>1385.5</td>\n      <td>1392.0</td>\n      <td>1384.0</td>\n      <td>1387.5</td>\n      <td>1361.0</td>\n      <td>1389.0</td>\n      <td>1400.0</td>\n      <td>1410.0</td>\n      <td>1398.0</td>\n      <td>1391.5</td>\n      <td>1381.466667</td>\n      <td>1381.466667</td>\n    </tr>\n    <tr>\n      <th>3388</th>\n      <td>1295.0</td>\n      <td>1225.0</td>\n      <td>1199.0</td>\n      <td>1100.0</td>\n      <td>1140.0</td>\n      <td>1085.0</td>\n      <td>1199.0</td>\n      <td>1200.0</td>\n      <td>1192.5</td>\n      <td>1266.0</td>\n      <td>1323.5</td>\n      <td>1150.0</td>\n      <td>1190.0</td>\n      <td>1132.5</td>\n      <td>1210.0</td>\n      <td>1193.833333</td>\n      <td>1193.833333</td>\n    </tr>\n  </tbody>\n</table>\n<p>3389 rows × 17 columns</p>\n</div>"
     },
     "metadata": {},
     "execution_count": 9
    }
   ],
   "source": [
    "DF_Filt = DF.iloc[:,-16:-1]\n",
    "DF_Filt #Contains all numerical we want\n",
    "\n",
    "mean_series = DF_Filt.mean(axis=1)\n",
    "\n",
    "DF_Filt['Metro'] = mean_series\n",
    "DF_Filt['CountyName'] = mean_series\n",
    "\n",
    "# doing this for two columns makes no sense. Just increasing the importance of the mean in regression.\n",
    "DF_Filt"
   ]
  },
  {
   "cell_type": "code",
   "execution_count": 15,
   "metadata": {},
   "outputs": [
    {
     "output_type": "stream",
     "name": "stdout",
     "text": [
      "Index(['RegionName', 'State', 'Bedrooms'], dtype='object')\n"
     ]
    }
   ],
   "source": [
    "for x in DF_Filt.columns.to_numpy():\n",
    "   sc = StandardScaler()\n",
    "   DF_Filt[x] = sc.fit_transform(DF_Filt[x].values.reshape(-1,1))\n",
    "  \n",
    "DFLblColumns = DF.filter(['RegionName', 'State', 'Bedrooms'], axis=1)\n",
    "print(DFLblColumns.columns)\n",
    "for x in DFLblColumns.columns.to_numpy():\n",
    "   le = LabelEncoder() \n",
    "   DF_Filt[x] = le.fit_transform(DFLblColumns[x].values)\n",
    "# where is region??"
   ]
  },
  {
   "cell_type": "code",
   "execution_count": 16,
   "metadata": {},
   "outputs": [
    {
     "output_type": "execute_result",
     "data": {
      "text/plain": [
       "array([[10.07723225],\n",
       "       [ 1.48442842],\n",
       "       [-0.26141108],\n",
       "       ...,\n",
       "       [-0.21230935],\n",
       "       [-0.21503722],\n",
       "       [-0.31869644]])"
      ]
     },
     "metadata": {},
     "execution_count": 16
    }
   ],
   "source": [
    "Y = DF.iloc[:,-1]\n",
    "scY = StandardScaler()\n",
    "Y = scY.fit_transform(Y.values.reshape(-1,1))\n",
    "Y"
   ]
  },
  {
   "cell_type": "code",
   "execution_count": 17,
   "metadata": {},
   "outputs": [
    {
     "output_type": "execute_result",
     "data": {
      "text/plain": [
       "       2018-09   2018-10   2018-11   2018-12   2019-01    2019-02    2019-03  \\\n",
       "0     9.504654  9.456742  8.732925  9.661980  9.538983  10.258951  11.524008   \n",
       "1     1.532647  1.424943  1.477578  1.431698  1.373722   1.406157   1.485122   \n",
       "2    -0.240212 -0.233234 -0.213679 -0.235530 -0.233201  -0.240751  -0.237767   \n",
       "3     0.151875  0.181310  0.202755  0.201125  0.184860   0.185633   0.182781   \n",
       "4    -0.138869 -0.132189 -0.122332 -0.132320 -0.122938  -0.128825  -0.126526   \n",
       "...        ...       ...       ...       ...       ...        ...        ...   \n",
       "3384 -0.330093 -0.310961 -0.321146 -0.291104 -0.285459  -0.267400  -0.278466   \n",
       "3385 -0.369171 -0.388688 -0.388312 -0.418131 -0.416103  -0.400645  -0.359862   \n",
       "3386 -0.202436 -0.241007 -0.133079 -0.129674 -0.183557  -0.190118  -0.165867   \n",
       "3387 -0.219110 -0.209916 -0.206156 -0.190806 -0.185124  -0.195181  -0.201410   \n",
       "3388 -0.241515 -0.272098 -0.294816 -0.341385 -0.316814  -0.355341  -0.306140   \n",
       "\n",
       "        2019-04    2019-05    2019-06  ...    2019-08    2019-09    2019-10  \\\n",
       "0     11.481241  11.455805  11.436717  ...  11.263626  10.517055  10.412564   \n",
       "1      1.486698   1.560588   1.565986  ...   1.594381   1.431715   1.514487   \n",
       "2     -0.257952  -0.238054  -0.240951  ...  -0.244726  -0.273743  -0.265128   \n",
       "3      0.228927   0.191472   0.163587  ...   0.173253   0.159028   0.179776   \n",
       "4     -0.141642  -0.154834  -0.146559  ...  -0.161130  -0.163842  -0.156683   \n",
       "...         ...        ...        ...  ...        ...        ...        ...   \n",
       "3384  -0.285001  -0.289061  -0.294890  ...  -0.328322  -0.330687  -0.320741   \n",
       "3385  -0.366147  -0.322617  -0.375797  ...  -0.453715  -0.430338  -0.376354   \n",
       "3386  -0.176805  -0.181679  -0.106105  ...  -0.188995  -0.191175  -0.265128   \n",
       "3387  -0.212510  -0.215236  -0.235018  ...  -0.216861  -0.211105  -0.210627   \n",
       "3388  -0.312050  -0.319933  -0.286260  ...  -0.356187  -0.336381  -0.358280   \n",
       "\n",
       "        2019-11     Metro  CountyName  Bedrooms  2010-02  State  RegionName  \n",
       "0     10.243046  0.457239    1.421296         2   0.0752     34        1333  \n",
       "1      1.531398  0.990548   -1.083504         3   0.0752      4         281  \n",
       "2     -0.267136  0.457239   -0.763218         1   0.0752     31         571  \n",
       "3      0.182497  0.235027    0.263339         2   0.0752      9         525  \n",
       "4     -0.164002  0.257249   -0.418295         0   0.0752     23         768  \n",
       "...         ...       ...         ...       ...      ...    ...         ...  \n",
       "3384  -0.295238  0.101700    0.082665         2   0.0752     43         689  \n",
       "3385  -0.379545 -1.353788   -1.362728         2   0.0752     43         137  \n",
       "3386  -0.210932  0.546124   -0.869980         3   0.0752     29         894  \n",
       "3387  -0.215709 -1.598221   -0.943893         0   0.0752     10         133  \n",
       "3388  -0.317720  0.512792   -0.960317         1   0.0752     44         862  \n",
       "\n",
       "[3389 rows x 21 columns]"
      ],
      "text/html": "<div>\n<style scoped>\n    .dataframe tbody tr th:only-of-type {\n        vertical-align: middle;\n    }\n\n    .dataframe tbody tr th {\n        vertical-align: top;\n    }\n\n    .dataframe thead th {\n        text-align: right;\n    }\n</style>\n<table border=\"1\" class=\"dataframe\">\n  <thead>\n    <tr style=\"text-align: right;\">\n      <th></th>\n      <th>2018-09</th>\n      <th>2018-10</th>\n      <th>2018-11</th>\n      <th>2018-12</th>\n      <th>2019-01</th>\n      <th>2019-02</th>\n      <th>2019-03</th>\n      <th>2019-04</th>\n      <th>2019-05</th>\n      <th>2019-06</th>\n      <th>...</th>\n      <th>2019-08</th>\n      <th>2019-09</th>\n      <th>2019-10</th>\n      <th>2019-11</th>\n      <th>Metro</th>\n      <th>CountyName</th>\n      <th>Bedrooms</th>\n      <th>2010-02</th>\n      <th>State</th>\n      <th>RegionName</th>\n    </tr>\n  </thead>\n  <tbody>\n    <tr>\n      <th>0</th>\n      <td>9.504654</td>\n      <td>9.456742</td>\n      <td>8.732925</td>\n      <td>9.661980</td>\n      <td>9.538983</td>\n      <td>10.258951</td>\n      <td>11.524008</td>\n      <td>11.481241</td>\n      <td>11.455805</td>\n      <td>11.436717</td>\n      <td>...</td>\n      <td>11.263626</td>\n      <td>10.517055</td>\n      <td>10.412564</td>\n      <td>10.243046</td>\n      <td>0.457239</td>\n      <td>1.421296</td>\n      <td>2</td>\n      <td>0.0752</td>\n      <td>34</td>\n      <td>1333</td>\n    </tr>\n    <tr>\n      <th>1</th>\n      <td>1.532647</td>\n      <td>1.424943</td>\n      <td>1.477578</td>\n      <td>1.431698</td>\n      <td>1.373722</td>\n      <td>1.406157</td>\n      <td>1.485122</td>\n      <td>1.486698</td>\n      <td>1.560588</td>\n      <td>1.565986</td>\n      <td>...</td>\n      <td>1.594381</td>\n      <td>1.431715</td>\n      <td>1.514487</td>\n      <td>1.531398</td>\n      <td>0.990548</td>\n      <td>-1.083504</td>\n      <td>3</td>\n      <td>0.0752</td>\n      <td>4</td>\n      <td>281</td>\n    </tr>\n    <tr>\n      <th>2</th>\n      <td>-0.240212</td>\n      <td>-0.233234</td>\n      <td>-0.213679</td>\n      <td>-0.235530</td>\n      <td>-0.233201</td>\n      <td>-0.240751</td>\n      <td>-0.237767</td>\n      <td>-0.257952</td>\n      <td>-0.238054</td>\n      <td>-0.240951</td>\n      <td>...</td>\n      <td>-0.244726</td>\n      <td>-0.273743</td>\n      <td>-0.265128</td>\n      <td>-0.267136</td>\n      <td>0.457239</td>\n      <td>-0.763218</td>\n      <td>1</td>\n      <td>0.0752</td>\n      <td>31</td>\n      <td>571</td>\n    </tr>\n    <tr>\n      <th>3</th>\n      <td>0.151875</td>\n      <td>0.181310</td>\n      <td>0.202755</td>\n      <td>0.201125</td>\n      <td>0.184860</td>\n      <td>0.185633</td>\n      <td>0.182781</td>\n      <td>0.228927</td>\n      <td>0.191472</td>\n      <td>0.163587</td>\n      <td>...</td>\n      <td>0.173253</td>\n      <td>0.159028</td>\n      <td>0.179776</td>\n      <td>0.182497</td>\n      <td>0.235027</td>\n      <td>0.263339</td>\n      <td>2</td>\n      <td>0.0752</td>\n      <td>9</td>\n      <td>525</td>\n    </tr>\n    <tr>\n      <th>4</th>\n      <td>-0.138869</td>\n      <td>-0.132189</td>\n      <td>-0.122332</td>\n      <td>-0.132320</td>\n      <td>-0.122938</td>\n      <td>-0.128825</td>\n      <td>-0.126526</td>\n      <td>-0.141642</td>\n      <td>-0.154834</td>\n      <td>-0.146559</td>\n      <td>...</td>\n      <td>-0.161130</td>\n      <td>-0.163842</td>\n      <td>-0.156683</td>\n      <td>-0.164002</td>\n      <td>0.257249</td>\n      <td>-0.418295</td>\n      <td>0</td>\n      <td>0.0752</td>\n      <td>23</td>\n      <td>768</td>\n    </tr>\n    <tr>\n      <th>...</th>\n      <td>...</td>\n      <td>...</td>\n      <td>...</td>\n      <td>...</td>\n      <td>...</td>\n      <td>...</td>\n      <td>...</td>\n      <td>...</td>\n      <td>...</td>\n      <td>...</td>\n      <td>...</td>\n      <td>...</td>\n      <td>...</td>\n      <td>...</td>\n      <td>...</td>\n      <td>...</td>\n      <td>...</td>\n      <td>...</td>\n      <td>...</td>\n      <td>...</td>\n      <td>...</td>\n    </tr>\n    <tr>\n      <th>3384</th>\n      <td>-0.330093</td>\n      <td>-0.310961</td>\n      <td>-0.321146</td>\n      <td>-0.291104</td>\n      <td>-0.285459</td>\n      <td>-0.267400</td>\n      <td>-0.278466</td>\n      <td>-0.285001</td>\n      <td>-0.289061</td>\n      <td>-0.294890</td>\n      <td>...</td>\n      <td>-0.328322</td>\n      <td>-0.330687</td>\n      <td>-0.320741</td>\n      <td>-0.295238</td>\n      <td>0.101700</td>\n      <td>0.082665</td>\n      <td>2</td>\n      <td>0.0752</td>\n      <td>43</td>\n      <td>689</td>\n    </tr>\n    <tr>\n      <th>3385</th>\n      <td>-0.369171</td>\n      <td>-0.388688</td>\n      <td>-0.388312</td>\n      <td>-0.418131</td>\n      <td>-0.416103</td>\n      <td>-0.400645</td>\n      <td>-0.359862</td>\n      <td>-0.366147</td>\n      <td>-0.322617</td>\n      <td>-0.375797</td>\n      <td>...</td>\n      <td>-0.453715</td>\n      <td>-0.430338</td>\n      <td>-0.376354</td>\n      <td>-0.379545</td>\n      <td>-1.353788</td>\n      <td>-1.362728</td>\n      <td>2</td>\n      <td>0.0752</td>\n      <td>43</td>\n      <td>137</td>\n    </tr>\n    <tr>\n      <th>3386</th>\n      <td>-0.202436</td>\n      <td>-0.241007</td>\n      <td>-0.133079</td>\n      <td>-0.129674</td>\n      <td>-0.183557</td>\n      <td>-0.190118</td>\n      <td>-0.165867</td>\n      <td>-0.176805</td>\n      <td>-0.181679</td>\n      <td>-0.106105</td>\n      <td>...</td>\n      <td>-0.188995</td>\n      <td>-0.191175</td>\n      <td>-0.265128</td>\n      <td>-0.210932</td>\n      <td>0.546124</td>\n      <td>-0.869980</td>\n      <td>3</td>\n      <td>0.0752</td>\n      <td>29</td>\n      <td>894</td>\n    </tr>\n    <tr>\n      <th>3387</th>\n      <td>-0.219110</td>\n      <td>-0.209916</td>\n      <td>-0.206156</td>\n      <td>-0.190806</td>\n      <td>-0.185124</td>\n      <td>-0.195181</td>\n      <td>-0.201410</td>\n      <td>-0.212510</td>\n      <td>-0.215236</td>\n      <td>-0.235018</td>\n      <td>...</td>\n      <td>-0.216861</td>\n      <td>-0.211105</td>\n      <td>-0.210627</td>\n      <td>-0.215709</td>\n      <td>-1.598221</td>\n      <td>-0.943893</td>\n      <td>0</td>\n      <td>0.0752</td>\n      <td>10</td>\n      <td>133</td>\n    </tr>\n    <tr>\n      <th>3388</th>\n      <td>-0.241515</td>\n      <td>-0.272098</td>\n      <td>-0.294816</td>\n      <td>-0.341385</td>\n      <td>-0.316814</td>\n      <td>-0.355341</td>\n      <td>-0.306140</td>\n      <td>-0.312050</td>\n      <td>-0.319933</td>\n      <td>-0.286260</td>\n      <td>...</td>\n      <td>-0.356187</td>\n      <td>-0.336381</td>\n      <td>-0.358280</td>\n      <td>-0.317720</td>\n      <td>0.512792</td>\n      <td>-0.960317</td>\n      <td>1</td>\n      <td>0.0752</td>\n      <td>44</td>\n      <td>862</td>\n    </tr>\n  </tbody>\n</table>\n<p>3389 rows × 21 columns</p>\n</div>"
     },
     "metadata": {},
     "execution_count": 17
    }
   ],
   "source": [
    "X = DF_Filt\n",
    "X"
   ]
  },
  {
   "cell_type": "code",
   "execution_count": 18,
   "metadata": {},
   "outputs": [
    {
     "output_type": "stream",
     "name": "stdout",
     "text": [
      "2018-09       209\n2018-10       144\n2018-11       107\n2018-12        60\n2019-01         0\n2019-02         0\n2019-03         0\n2019-04         0\n2019-05         0\n2019-06         0\n2019-07         0\n2019-08         0\n2019-09         0\n2019-10         0\n2019-11         0\nMetro           0\nCountyName      0\nBedrooms        0\n2010-02         0\nState           0\nRegionName      0\ndtype: int64\n2018-09       0\n2018-10       0\n2018-11       0\n2018-12       0\n2019-01       0\n2019-02       0\n2019-03       0\n2019-04       0\n2019-05       0\n2019-06       0\n2019-07       0\n2019-08       0\n2019-09       0\n2019-10       0\n2019-11       0\nMetro         0\nCountyName    0\nBedrooms      0\n2010-02       0\nState         0\nRegionName    0\ndtype: int64\n"
     ]
    }
   ],
   "source": [
    "print(X.isnull().sum())\n",
    "for col in X:\n",
    "    X.fillna(X[col].median(),inplace=True)\n",
    "    #X = X.fillna(X[col].median())\n",
    "print(X.isnull().sum())"
   ]
  },
  {
   "cell_type": "code",
   "execution_count": 19,
   "metadata": {},
   "outputs": [],
   "source": [
    "X_train, X_test, Y_train, Y_test = train_test_split(X, Y, test_size=0.3, random_state=42)\n"
   ]
  },
  {
   "cell_type": "markdown",
   "metadata": {},
   "source": [
    "## Linear Regression"
   ]
  },
  {
   "cell_type": "code",
   "execution_count": 20,
   "metadata": {},
   "outputs": [],
   "source": [
    "model = LinearRegression()\n",
    "hist = model.fit(X_train,Y_train)\n",
    "Y_pred = model.predict(X_test)\n",
    "Y_pred = scY.inverse_transform(Y_pred)\n",
    "Y_test = scY.inverse_transform(Y_test)"
   ]
  },
  {
   "cell_type": "code",
   "execution_count": 21,
   "metadata": {},
   "outputs": [
    {
     "output_type": "execute_result",
     "data": {
      "text/plain": [
       "(1017, 1)"
      ]
     },
     "metadata": {},
     "execution_count": 21
    }
   ],
   "source": [
    "Y_pred.shape"
   ]
  },
  {
   "cell_type": "code",
   "execution_count": 22,
   "metadata": {},
   "outputs": [
    {
     "output_type": "stream",
     "name": "stdout",
     "text": [
      "97.91143743165293\n1748.7733529990167\n"
     ]
    }
   ],
   "source": [
    "err = mse(Y_pred,Y_test,squared=False)\n",
    "print(err)\n",
    "print(Y_test.mean())"
   ]
  },
  {
   "cell_type": "code",
   "execution_count": 23,
   "metadata": {},
   "outputs": [
    {
     "output_type": "stream",
     "name": "stdout",
     "text": [
      "0.03212272181587751\n"
     ]
    }
   ],
   "source": [
    "err2 = mape(Y_pred,Y_test)\n",
    "print(err2)"
   ]
  },
  {
   "cell_type": "markdown",
   "metadata": {},
   "source": [
    "## Polynomial Interpolation"
   ]
  },
  {
   "cell_type": "code",
   "execution_count": 24,
   "metadata": {},
   "outputs": [],
   "source": [
    "#model = Pipeline([('poly', PolynomialFeatures(degree=3)),('linear', LinearRegression(fit_intercept=False))])"
   ]
  },
  {
   "cell_type": "code",
   "execution_count": 25,
   "metadata": {},
   "outputs": [
    {
     "output_type": "stream",
     "name": "stdout",
     "text": [
      "With degree of 2 the error is 0.3942737524208327\n",
      "With degree of 3 the error is 0.5932419036858916\n",
      "With degree of 4 the error is 2.4219850827404312\n",
      "With degree of 5 the error is 0.48188063246529417\n"
     ]
    }
   ],
   "source": [
    "X_train, X_test, Y_train, Y_test = train_test_split(X, Y, test_size=0.3, random_state=42)\n",
    "\n",
    "for count, degree in enumerate([2,3,4,5]):\n",
    "    model = make_pipeline(PolynomialFeatures(degree), scY, Ridge(alpha=1e-3))\n",
    "    model.fit(X_train, Y_train)\n",
    "    Y_pred = model.predict(X_test)\n",
    "    # err = mse(Y_pred,Y_test,squared=False)\n",
    "    err = mape(Y_pred,Y_test)\n",
    "    print(\"With degree of\", degree, \"the error is\", err)\n"
   ]
  },
  {
   "cell_type": "code",
   "execution_count": null,
   "metadata": {},
   "outputs": [],
   "source": []
  }
 ],
 "metadata": {
  "kernelspec": {
   "display_name": "Python 3",
   "language": "python",
   "name": "python3"
  },
  "language_info": {
   "codemirror_mode": {
    "name": "ipython",
    "version": 3
   },
   "file_extension": ".py",
   "mimetype": "text/x-python",
   "name": "python",
   "nbconvert_exporter": "python",
   "pygments_lexer": "ipython3",
   "version": "3.7.1-final"
  }
 },
 "nbformat": 4,
 "nbformat_minor": 2
}