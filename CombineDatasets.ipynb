{
 "metadata": {
  "language_info": {
   "codemirror_mode": {
    "name": "ipython",
    "version": 3
   },
   "file_extension": ".py",
   "mimetype": "text/x-python",
   "name": "python",
   "nbconvert_exporter": "python",
   "pygments_lexer": "ipython3",
   "version": "3.8.0-final"
  },
  "orig_nbformat": 2,
  "kernelspec": {
   "name": "python3",
   "display_name": "Python 3.8.0 64-bit",
   "metadata": {
    "interpreter": {
     "hash": "6770bb0804dde752bad64f8db710cff9a548fb4282bcd1e70abbe4e52f54e7e6"
    }
   }
  }
 },
 "nbformat": 4,
 "nbformat_minor": 2,
 "cells": [
  {
   "cell_type": "code",
   "execution_count": 76,
   "metadata": {},
   "outputs": [],
   "source": [
    "import numpy as np\n",
    "import pandas as pd"
   ]
  },
  {
   "cell_type": "code",
   "execution_count": 77,
   "metadata": {},
   "outputs": [],
   "source": [
    "DF1B = pd.read_csv(r'Datasets\\City_MedianRentalPrice_1Bedroom.csv')\n",
    "DF2B = pd.read_csv(r'Datasets\\City_MedianRentalPrice_2Bedroom.csv')\n",
    "DF3B = pd.read_csv(r'Datasets\\City_MedianRentalPrice_3Bedroom.csv')\n",
    "DF4B = pd.read_csv(r'Datasets\\City_MedianRentalPrice_4Bedroom.csv')"
   ]
  },
  {
   "cell_type": "code",
   "execution_count": 78,
   "metadata": {},
   "outputs": [
    {
     "output_type": "execute_result",
     "data": {
      "text/plain": [
       "Index(['Unnamed: 0', 'RegionName', 'State', 'Metro', 'CountyName', 'SizeRank',\n",
       "       '2010-02', '2010-03', '2010-04', '2010-05',\n",
       "       ...\n",
       "       '2019-03', '2019-04', '2019-05', '2019-06', '2019-07', '2019-08',\n",
       "       '2019-09', '2019-10', '2019-11', '2019-12'],\n",
       "      dtype='object', length=125)"
      ]
     },
     "metadata": {},
     "execution_count": 78
    }
   ],
   "source": [
    "DF1B.columns"
   ]
  },
  {
   "cell_type": "code",
   "execution_count": 79,
   "metadata": {},
   "outputs": [],
   "source": [
    "DF1B.drop(columns=['SizeRank','Unnamed: 0'],inplace=True)\n",
    "DF2B.drop(columns=['SizeRank','Unnamed: 0'],inplace=True)\n",
    "DF3B.drop(columns=['SizeRank','Unnamed: 0'],inplace=True)\n",
    "DF4B.drop(columns=['SizeRank','Unnamed: 0'],inplace=True)"
   ]
  },
  {
   "cell_type": "code",
   "execution_count": 80,
   "metadata": {},
   "outputs": [],
   "source": [
    "DF1B.insert(4, 'Bedrooms', 1)\n",
    "DF2B.insert(4, 'Bedrooms', 2)\n",
    "DF3B.insert(4, 'Bedrooms', 3)\n",
    "DF4B.insert(4, 'Bedrooms', 4)"
   ]
  },
  {
   "cell_type": "code",
   "execution_count": 81,
   "metadata": {},
   "outputs": [],
   "source": [
    "frames = [DF1B,DF2B,DF3B,DF4B]\n",
    "result = pd.concat(frames)\n",
    "result = result.sample(frac=1) #Shuffle!\n",
    "result = result.reset_index(drop=True) #Reset Index"
   ]
  },
  {
   "cell_type": "code",
   "execution_count": 87,
   "metadata": {},
   "outputs": [
    {
     "output_type": "execute_result",
     "data": {
      "text/plain": [
       "     RegionName State                                  Metro  \\\n",
       "0     Lancaster    CA         Los Angeles-Long Beach-Anaheim   \n",
       "1      Aventura    FL  Miami-Fort Lauderdale-West Palm Beach   \n",
       "2        Hamden    CT                      New Haven-Milford   \n",
       "3       Warwick    RI                     Providence-Warwick   \n",
       "4      Loveland    CO                           Fort Collins   \n",
       "...         ...   ...                                    ...   \n",
       "3384    Dundalk    MD              Baltimore-Columbia-Towson   \n",
       "3385      Ocala    FL                                  Ocala   \n",
       "3386     Goshen    IN                         Elkhart-Goshen   \n",
       "3387  Oceanside    CA                     San Diego-Carlsbad   \n",
       "3388   Murrieta    CA       Riverside-San Bernardino-Ontario   \n",
       "\n",
       "              CountyName  Bedrooms  2010-02  2010-03  2010-04  2010-05  \\\n",
       "0     Los Angeles County         3      NaN      NaN      NaN      NaN   \n",
       "1      Miami-Dade County         1      NaN      NaN      NaN      NaN   \n",
       "2       New Haven County         2      NaN      NaN      NaN      NaN   \n",
       "3            Kent County         2      NaN      NaN      NaN      NaN   \n",
       "4         Larimer County         1      NaN      NaN      NaN      NaN   \n",
       "...                  ...       ...      ...      ...      ...      ...   \n",
       "3384    Baltimore County         1      NaN      NaN      NaN      NaN   \n",
       "3385       Marion County         2      NaN      NaN      NaN      NaN   \n",
       "3386      Elkhart County         3      NaN      NaN      NaN      NaN   \n",
       "3387    San Diego County         2      NaN      NaN      NaN      NaN   \n",
       "3388    Riverside County         1      NaN      NaN      NaN      NaN   \n",
       "\n",
       "      2010-06  ...  2019-03  2019-04  2019-05  2019-06  2019-07  2019-08  \\\n",
       "0         NaN  ...   1800.0   1767.5   1800.0   1850.0   1875.0   1800.0   \n",
       "1         NaN  ...   1690.0   1699.0   1680.0   1690.0   1694.5   1700.0   \n",
       "2         NaN  ...   1395.0   1425.0   1500.0   1600.0   1601.0   1595.0   \n",
       "3         NaN  ...   1429.0   1462.5   1448.0   1504.0   1579.0   1569.0   \n",
       "4         NaN  ...   1238.0   1269.0   1281.0   1344.0   1235.0   1288.5   \n",
       "...       ...  ...      ...      ...      ...      ...      ...      ...   \n",
       "3384      NaN  ...    933.0    913.0    909.0    909.0    880.0    857.5   \n",
       "3385      NaN  ...    999.0    995.0   1099.0   1100.0   1099.0   1050.0   \n",
       "3386      NaN  ...    915.0    875.0    875.0    899.0    979.0    929.0   \n",
       "3387      NaN  ...   1915.0   1995.0   1985.0   1985.0   2000.0   2012.0   \n",
       "3388      NaN  ...   1460.0   1519.0   1512.0   1589.0   1579.0   1547.5   \n",
       "\n",
       "      2019-09  2019-10  2019-11  2019-12  \n",
       "0      1821.5   1850.0   1842.5   1800.0  \n",
       "1      1700.0   1700.0   1690.0   1700.0  \n",
       "2      1561.0   1525.0   1539.0   1525.0  \n",
       "3      1450.0   1450.0   1450.0   1500.0  \n",
       "4      1291.0   1264.0   1432.5   1326.5  \n",
       "...       ...      ...      ...      ...  \n",
       "3384    880.0    906.0    907.0    850.0  \n",
       "3385   1000.0   1000.0   1050.0   1000.0  \n",
       "3386    899.0    899.5    902.0    899.0  \n",
       "3387   2040.0   2005.0   2000.0   2045.0  \n",
       "3388   1500.0   1494.5   1497.5   1508.0  \n",
       "\n",
       "[3389 rows x 124 columns]"
      ],
      "text/html": "<div>\n<style scoped>\n    .dataframe tbody tr th:only-of-type {\n        vertical-align: middle;\n    }\n\n    .dataframe tbody tr th {\n        vertical-align: top;\n    }\n\n    .dataframe thead th {\n        text-align: right;\n    }\n</style>\n<table border=\"1\" class=\"dataframe\">\n  <thead>\n    <tr style=\"text-align: right;\">\n      <th></th>\n      <th>RegionName</th>\n      <th>State</th>\n      <th>Metro</th>\n      <th>CountyName</th>\n      <th>Bedrooms</th>\n      <th>2010-02</th>\n      <th>2010-03</th>\n      <th>2010-04</th>\n      <th>2010-05</th>\n      <th>2010-06</th>\n      <th>...</th>\n      <th>2019-03</th>\n      <th>2019-04</th>\n      <th>2019-05</th>\n      <th>2019-06</th>\n      <th>2019-07</th>\n      <th>2019-08</th>\n      <th>2019-09</th>\n      <th>2019-10</th>\n      <th>2019-11</th>\n      <th>2019-12</th>\n    </tr>\n  </thead>\n  <tbody>\n    <tr>\n      <th>0</th>\n      <td>Lancaster</td>\n      <td>CA</td>\n      <td>Los Angeles-Long Beach-Anaheim</td>\n      <td>Los Angeles County</td>\n      <td>3</td>\n      <td>NaN</td>\n      <td>NaN</td>\n      <td>NaN</td>\n      <td>NaN</td>\n      <td>NaN</td>\n      <td>...</td>\n      <td>1800.0</td>\n      <td>1767.5</td>\n      <td>1800.0</td>\n      <td>1850.0</td>\n      <td>1875.0</td>\n      <td>1800.0</td>\n      <td>1821.5</td>\n      <td>1850.0</td>\n      <td>1842.5</td>\n      <td>1800.0</td>\n    </tr>\n    <tr>\n      <th>1</th>\n      <td>Aventura</td>\n      <td>FL</td>\n      <td>Miami-Fort Lauderdale-West Palm Beach</td>\n      <td>Miami-Dade County</td>\n      <td>1</td>\n      <td>NaN</td>\n      <td>NaN</td>\n      <td>NaN</td>\n      <td>NaN</td>\n      <td>NaN</td>\n      <td>...</td>\n      <td>1690.0</td>\n      <td>1699.0</td>\n      <td>1680.0</td>\n      <td>1690.0</td>\n      <td>1694.5</td>\n      <td>1700.0</td>\n      <td>1700.0</td>\n      <td>1700.0</td>\n      <td>1690.0</td>\n      <td>1700.0</td>\n    </tr>\n    <tr>\n      <th>2</th>\n      <td>Hamden</td>\n      <td>CT</td>\n      <td>New Haven-Milford</td>\n      <td>New Haven County</td>\n      <td>2</td>\n      <td>NaN</td>\n      <td>NaN</td>\n      <td>NaN</td>\n      <td>NaN</td>\n      <td>NaN</td>\n      <td>...</td>\n      <td>1395.0</td>\n      <td>1425.0</td>\n      <td>1500.0</td>\n      <td>1600.0</td>\n      <td>1601.0</td>\n      <td>1595.0</td>\n      <td>1561.0</td>\n      <td>1525.0</td>\n      <td>1539.0</td>\n      <td>1525.0</td>\n    </tr>\n    <tr>\n      <th>3</th>\n      <td>Warwick</td>\n      <td>RI</td>\n      <td>Providence-Warwick</td>\n      <td>Kent County</td>\n      <td>2</td>\n      <td>NaN</td>\n      <td>NaN</td>\n      <td>NaN</td>\n      <td>NaN</td>\n      <td>NaN</td>\n      <td>...</td>\n      <td>1429.0</td>\n      <td>1462.5</td>\n      <td>1448.0</td>\n      <td>1504.0</td>\n      <td>1579.0</td>\n      <td>1569.0</td>\n      <td>1450.0</td>\n      <td>1450.0</td>\n      <td>1450.0</td>\n      <td>1500.0</td>\n    </tr>\n    <tr>\n      <th>4</th>\n      <td>Loveland</td>\n      <td>CO</td>\n      <td>Fort Collins</td>\n      <td>Larimer County</td>\n      <td>1</td>\n      <td>NaN</td>\n      <td>NaN</td>\n      <td>NaN</td>\n      <td>NaN</td>\n      <td>NaN</td>\n      <td>...</td>\n      <td>1238.0</td>\n      <td>1269.0</td>\n      <td>1281.0</td>\n      <td>1344.0</td>\n      <td>1235.0</td>\n      <td>1288.5</td>\n      <td>1291.0</td>\n      <td>1264.0</td>\n      <td>1432.5</td>\n      <td>1326.5</td>\n    </tr>\n    <tr>\n      <th>...</th>\n      <td>...</td>\n      <td>...</td>\n      <td>...</td>\n      <td>...</td>\n      <td>...</td>\n      <td>...</td>\n      <td>...</td>\n      <td>...</td>\n      <td>...</td>\n      <td>...</td>\n      <td>...</td>\n      <td>...</td>\n      <td>...</td>\n      <td>...</td>\n      <td>...</td>\n      <td>...</td>\n      <td>...</td>\n      <td>...</td>\n      <td>...</td>\n      <td>...</td>\n      <td>...</td>\n    </tr>\n    <tr>\n      <th>3384</th>\n      <td>Dundalk</td>\n      <td>MD</td>\n      <td>Baltimore-Columbia-Towson</td>\n      <td>Baltimore County</td>\n      <td>1</td>\n      <td>NaN</td>\n      <td>NaN</td>\n      <td>NaN</td>\n      <td>NaN</td>\n      <td>NaN</td>\n      <td>...</td>\n      <td>933.0</td>\n      <td>913.0</td>\n      <td>909.0</td>\n      <td>909.0</td>\n      <td>880.0</td>\n      <td>857.5</td>\n      <td>880.0</td>\n      <td>906.0</td>\n      <td>907.0</td>\n      <td>850.0</td>\n    </tr>\n    <tr>\n      <th>3385</th>\n      <td>Ocala</td>\n      <td>FL</td>\n      <td>Ocala</td>\n      <td>Marion County</td>\n      <td>2</td>\n      <td>NaN</td>\n      <td>NaN</td>\n      <td>NaN</td>\n      <td>NaN</td>\n      <td>NaN</td>\n      <td>...</td>\n      <td>999.0</td>\n      <td>995.0</td>\n      <td>1099.0</td>\n      <td>1100.0</td>\n      <td>1099.0</td>\n      <td>1050.0</td>\n      <td>1000.0</td>\n      <td>1000.0</td>\n      <td>1050.0</td>\n      <td>1000.0</td>\n    </tr>\n    <tr>\n      <th>3386</th>\n      <td>Goshen</td>\n      <td>IN</td>\n      <td>Elkhart-Goshen</td>\n      <td>Elkhart County</td>\n      <td>3</td>\n      <td>NaN</td>\n      <td>NaN</td>\n      <td>NaN</td>\n      <td>NaN</td>\n      <td>NaN</td>\n      <td>...</td>\n      <td>915.0</td>\n      <td>875.0</td>\n      <td>875.0</td>\n      <td>899.0</td>\n      <td>979.0</td>\n      <td>929.0</td>\n      <td>899.0</td>\n      <td>899.5</td>\n      <td>902.0</td>\n      <td>899.0</td>\n    </tr>\n    <tr>\n      <th>3387</th>\n      <td>Oceanside</td>\n      <td>CA</td>\n      <td>San Diego-Carlsbad</td>\n      <td>San Diego County</td>\n      <td>2</td>\n      <td>NaN</td>\n      <td>NaN</td>\n      <td>NaN</td>\n      <td>NaN</td>\n      <td>NaN</td>\n      <td>...</td>\n      <td>1915.0</td>\n      <td>1995.0</td>\n      <td>1985.0</td>\n      <td>1985.0</td>\n      <td>2000.0</td>\n      <td>2012.0</td>\n      <td>2040.0</td>\n      <td>2005.0</td>\n      <td>2000.0</td>\n      <td>2045.0</td>\n    </tr>\n    <tr>\n      <th>3388</th>\n      <td>Murrieta</td>\n      <td>CA</td>\n      <td>Riverside-San Bernardino-Ontario</td>\n      <td>Riverside County</td>\n      <td>1</td>\n      <td>NaN</td>\n      <td>NaN</td>\n      <td>NaN</td>\n      <td>NaN</td>\n      <td>NaN</td>\n      <td>...</td>\n      <td>1460.0</td>\n      <td>1519.0</td>\n      <td>1512.0</td>\n      <td>1589.0</td>\n      <td>1579.0</td>\n      <td>1547.5</td>\n      <td>1500.0</td>\n      <td>1494.5</td>\n      <td>1497.5</td>\n      <td>1508.0</td>\n    </tr>\n  </tbody>\n</table>\n<p>3389 rows × 124 columns</p>\n</div>"
     },
     "metadata": {},
     "execution_count": 87
    }
   ],
   "source": [
    "result"
   ]
  },
  {
   "cell_type": "code",
   "execution_count": 89,
   "metadata": {},
   "outputs": [],
   "source": [
    "result.to_csv(r'Datasets\\City_MedianRentalPrice_AllHomes.csv',index=False)"
   ]
  },
  {
   "cell_type": "code",
   "execution_count": 91,
   "metadata": {},
   "outputs": [
    {
     "output_type": "execute_result",
     "data": {
      "text/plain": [
       "     RegionName State                                  Metro  \\\n",
       "0     Lancaster    CA         Los Angeles-Long Beach-Anaheim   \n",
       "1      Aventura    FL  Miami-Fort Lauderdale-West Palm Beach   \n",
       "2        Hamden    CT                      New Haven-Milford   \n",
       "3       Warwick    RI                     Providence-Warwick   \n",
       "4      Loveland    CO                           Fort Collins   \n",
       "...         ...   ...                                    ...   \n",
       "3384    Dundalk    MD              Baltimore-Columbia-Towson   \n",
       "3385      Ocala    FL                                  Ocala   \n",
       "3386     Goshen    IN                         Elkhart-Goshen   \n",
       "3387  Oceanside    CA                     San Diego-Carlsbad   \n",
       "3388   Murrieta    CA       Riverside-San Bernardino-Ontario   \n",
       "\n",
       "              CountyName  Bedrooms  2010-02  2010-03  2010-04  2010-05  \\\n",
       "0     Los Angeles County         3      NaN      NaN      NaN      NaN   \n",
       "1      Miami-Dade County         1      NaN      NaN      NaN      NaN   \n",
       "2       New Haven County         2      NaN      NaN      NaN      NaN   \n",
       "3            Kent County         2      NaN      NaN      NaN      NaN   \n",
       "4         Larimer County         1      NaN      NaN      NaN      NaN   \n",
       "...                  ...       ...      ...      ...      ...      ...   \n",
       "3384    Baltimore County         1      NaN      NaN      NaN      NaN   \n",
       "3385       Marion County         2      NaN      NaN      NaN      NaN   \n",
       "3386      Elkhart County         3      NaN      NaN      NaN      NaN   \n",
       "3387    San Diego County         2      NaN      NaN      NaN      NaN   \n",
       "3388    Riverside County         1      NaN      NaN      NaN      NaN   \n",
       "\n",
       "      2010-06  ...  2019-03  2019-04  2019-05  2019-06  2019-07  2019-08  \\\n",
       "0         NaN  ...   1800.0   1767.5   1800.0   1850.0   1875.0   1800.0   \n",
       "1         NaN  ...   1690.0   1699.0   1680.0   1690.0   1694.5   1700.0   \n",
       "2         NaN  ...   1395.0   1425.0   1500.0   1600.0   1601.0   1595.0   \n",
       "3         NaN  ...   1429.0   1462.5   1448.0   1504.0   1579.0   1569.0   \n",
       "4         NaN  ...   1238.0   1269.0   1281.0   1344.0   1235.0   1288.5   \n",
       "...       ...  ...      ...      ...      ...      ...      ...      ...   \n",
       "3384      NaN  ...    933.0    913.0    909.0    909.0    880.0    857.5   \n",
       "3385      NaN  ...    999.0    995.0   1099.0   1100.0   1099.0   1050.0   \n",
       "3386      NaN  ...    915.0    875.0    875.0    899.0    979.0    929.0   \n",
       "3387      NaN  ...   1915.0   1995.0   1985.0   1985.0   2000.0   2012.0   \n",
       "3388      NaN  ...   1460.0   1519.0   1512.0   1589.0   1579.0   1547.5   \n",
       "\n",
       "      2019-09  2019-10  2019-11  2019-12  \n",
       "0      1821.5   1850.0   1842.5   1800.0  \n",
       "1      1700.0   1700.0   1690.0   1700.0  \n",
       "2      1561.0   1525.0   1539.0   1525.0  \n",
       "3      1450.0   1450.0   1450.0   1500.0  \n",
       "4      1291.0   1264.0   1432.5   1326.5  \n",
       "...       ...      ...      ...      ...  \n",
       "3384    880.0    906.0    907.0    850.0  \n",
       "3385   1000.0   1000.0   1050.0   1000.0  \n",
       "3386    899.0    899.5    902.0    899.0  \n",
       "3387   2040.0   2005.0   2000.0   2045.0  \n",
       "3388   1500.0   1494.5   1497.5   1508.0  \n",
       "\n",
       "[3389 rows x 124 columns]"
      ],
      "text/html": "<div>\n<style scoped>\n    .dataframe tbody tr th:only-of-type {\n        vertical-align: middle;\n    }\n\n    .dataframe tbody tr th {\n        vertical-align: top;\n    }\n\n    .dataframe thead th {\n        text-align: right;\n    }\n</style>\n<table border=\"1\" class=\"dataframe\">\n  <thead>\n    <tr style=\"text-align: right;\">\n      <th></th>\n      <th>RegionName</th>\n      <th>State</th>\n      <th>Metro</th>\n      <th>CountyName</th>\n      <th>Bedrooms</th>\n      <th>2010-02</th>\n      <th>2010-03</th>\n      <th>2010-04</th>\n      <th>2010-05</th>\n      <th>2010-06</th>\n      <th>...</th>\n      <th>2019-03</th>\n      <th>2019-04</th>\n      <th>2019-05</th>\n      <th>2019-06</th>\n      <th>2019-07</th>\n      <th>2019-08</th>\n      <th>2019-09</th>\n      <th>2019-10</th>\n      <th>2019-11</th>\n      <th>2019-12</th>\n    </tr>\n  </thead>\n  <tbody>\n    <tr>\n      <th>0</th>\n      <td>Lancaster</td>\n      <td>CA</td>\n      <td>Los Angeles-Long Beach-Anaheim</td>\n      <td>Los Angeles County</td>\n      <td>3</td>\n      <td>NaN</td>\n      <td>NaN</td>\n      <td>NaN</td>\n      <td>NaN</td>\n      <td>NaN</td>\n      <td>...</td>\n      <td>1800.0</td>\n      <td>1767.5</td>\n      <td>1800.0</td>\n      <td>1850.0</td>\n      <td>1875.0</td>\n      <td>1800.0</td>\n      <td>1821.5</td>\n      <td>1850.0</td>\n      <td>1842.5</td>\n      <td>1800.0</td>\n    </tr>\n    <tr>\n      <th>1</th>\n      <td>Aventura</td>\n      <td>FL</td>\n      <td>Miami-Fort Lauderdale-West Palm Beach</td>\n      <td>Miami-Dade County</td>\n      <td>1</td>\n      <td>NaN</td>\n      <td>NaN</td>\n      <td>NaN</td>\n      <td>NaN</td>\n      <td>NaN</td>\n      <td>...</td>\n      <td>1690.0</td>\n      <td>1699.0</td>\n      <td>1680.0</td>\n      <td>1690.0</td>\n      <td>1694.5</td>\n      <td>1700.0</td>\n      <td>1700.0</td>\n      <td>1700.0</td>\n      <td>1690.0</td>\n      <td>1700.0</td>\n    </tr>\n    <tr>\n      <th>2</th>\n      <td>Hamden</td>\n      <td>CT</td>\n      <td>New Haven-Milford</td>\n      <td>New Haven County</td>\n      <td>2</td>\n      <td>NaN</td>\n      <td>NaN</td>\n      <td>NaN</td>\n      <td>NaN</td>\n      <td>NaN</td>\n      <td>...</td>\n      <td>1395.0</td>\n      <td>1425.0</td>\n      <td>1500.0</td>\n      <td>1600.0</td>\n      <td>1601.0</td>\n      <td>1595.0</td>\n      <td>1561.0</td>\n      <td>1525.0</td>\n      <td>1539.0</td>\n      <td>1525.0</td>\n    </tr>\n    <tr>\n      <th>3</th>\n      <td>Warwick</td>\n      <td>RI</td>\n      <td>Providence-Warwick</td>\n      <td>Kent County</td>\n      <td>2</td>\n      <td>NaN</td>\n      <td>NaN</td>\n      <td>NaN</td>\n      <td>NaN</td>\n      <td>NaN</td>\n      <td>...</td>\n      <td>1429.0</td>\n      <td>1462.5</td>\n      <td>1448.0</td>\n      <td>1504.0</td>\n      <td>1579.0</td>\n      <td>1569.0</td>\n      <td>1450.0</td>\n      <td>1450.0</td>\n      <td>1450.0</td>\n      <td>1500.0</td>\n    </tr>\n    <tr>\n      <th>4</th>\n      <td>Loveland</td>\n      <td>CO</td>\n      <td>Fort Collins</td>\n      <td>Larimer County</td>\n      <td>1</td>\n      <td>NaN</td>\n      <td>NaN</td>\n      <td>NaN</td>\n      <td>NaN</td>\n      <td>NaN</td>\n      <td>...</td>\n      <td>1238.0</td>\n      <td>1269.0</td>\n      <td>1281.0</td>\n      <td>1344.0</td>\n      <td>1235.0</td>\n      <td>1288.5</td>\n      <td>1291.0</td>\n      <td>1264.0</td>\n      <td>1432.5</td>\n      <td>1326.5</td>\n    </tr>\n    <tr>\n      <th>...</th>\n      <td>...</td>\n      <td>...</td>\n      <td>...</td>\n      <td>...</td>\n      <td>...</td>\n      <td>...</td>\n      <td>...</td>\n      <td>...</td>\n      <td>...</td>\n      <td>...</td>\n      <td>...</td>\n      <td>...</td>\n      <td>...</td>\n      <td>...</td>\n      <td>...</td>\n      <td>...</td>\n      <td>...</td>\n      <td>...</td>\n      <td>...</td>\n      <td>...</td>\n      <td>...</td>\n    </tr>\n    <tr>\n      <th>3384</th>\n      <td>Dundalk</td>\n      <td>MD</td>\n      <td>Baltimore-Columbia-Towson</td>\n      <td>Baltimore County</td>\n      <td>1</td>\n      <td>NaN</td>\n      <td>NaN</td>\n      <td>NaN</td>\n      <td>NaN</td>\n      <td>NaN</td>\n      <td>...</td>\n      <td>933.0</td>\n      <td>913.0</td>\n      <td>909.0</td>\n      <td>909.0</td>\n      <td>880.0</td>\n      <td>857.5</td>\n      <td>880.0</td>\n      <td>906.0</td>\n      <td>907.0</td>\n      <td>850.0</td>\n    </tr>\n    <tr>\n      <th>3385</th>\n      <td>Ocala</td>\n      <td>FL</td>\n      <td>Ocala</td>\n      <td>Marion County</td>\n      <td>2</td>\n      <td>NaN</td>\n      <td>NaN</td>\n      <td>NaN</td>\n      <td>NaN</td>\n      <td>NaN</td>\n      <td>...</td>\n      <td>999.0</td>\n      <td>995.0</td>\n      <td>1099.0</td>\n      <td>1100.0</td>\n      <td>1099.0</td>\n      <td>1050.0</td>\n      <td>1000.0</td>\n      <td>1000.0</td>\n      <td>1050.0</td>\n      <td>1000.0</td>\n    </tr>\n    <tr>\n      <th>3386</th>\n      <td>Goshen</td>\n      <td>IN</td>\n      <td>Elkhart-Goshen</td>\n      <td>Elkhart County</td>\n      <td>3</td>\n      <td>NaN</td>\n      <td>NaN</td>\n      <td>NaN</td>\n      <td>NaN</td>\n      <td>NaN</td>\n      <td>...</td>\n      <td>915.0</td>\n      <td>875.0</td>\n      <td>875.0</td>\n      <td>899.0</td>\n      <td>979.0</td>\n      <td>929.0</td>\n      <td>899.0</td>\n      <td>899.5</td>\n      <td>902.0</td>\n      <td>899.0</td>\n    </tr>\n    <tr>\n      <th>3387</th>\n      <td>Oceanside</td>\n      <td>CA</td>\n      <td>San Diego-Carlsbad</td>\n      <td>San Diego County</td>\n      <td>2</td>\n      <td>NaN</td>\n      <td>NaN</td>\n      <td>NaN</td>\n      <td>NaN</td>\n      <td>NaN</td>\n      <td>...</td>\n      <td>1915.0</td>\n      <td>1995.0</td>\n      <td>1985.0</td>\n      <td>1985.0</td>\n      <td>2000.0</td>\n      <td>2012.0</td>\n      <td>2040.0</td>\n      <td>2005.0</td>\n      <td>2000.0</td>\n      <td>2045.0</td>\n    </tr>\n    <tr>\n      <th>3388</th>\n      <td>Murrieta</td>\n      <td>CA</td>\n      <td>Riverside-San Bernardino-Ontario</td>\n      <td>Riverside County</td>\n      <td>1</td>\n      <td>NaN</td>\n      <td>NaN</td>\n      <td>NaN</td>\n      <td>NaN</td>\n      <td>NaN</td>\n      <td>...</td>\n      <td>1460.0</td>\n      <td>1519.0</td>\n      <td>1512.0</td>\n      <td>1589.0</td>\n      <td>1579.0</td>\n      <td>1547.5</td>\n      <td>1500.0</td>\n      <td>1494.5</td>\n      <td>1497.5</td>\n      <td>1508.0</td>\n    </tr>\n  </tbody>\n</table>\n<p>3389 rows × 124 columns</p>\n</div>"
     },
     "metadata": {},
     "execution_count": 91
    }
   ],
   "source": [
    "result = pd.read_csv(r'Datasets\\City_MedianRentalPrice_AllHomes.csv')\n",
    "result"
   ]
  }
 ]
}